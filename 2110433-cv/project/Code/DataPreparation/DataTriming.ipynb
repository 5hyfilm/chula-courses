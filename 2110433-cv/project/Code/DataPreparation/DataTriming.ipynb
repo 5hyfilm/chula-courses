{
 "cells": [
  {
   "cell_type": "code",
   "execution_count": 9,
   "id": "a632c95c-e715-470d-980e-36246b6503a1",
   "metadata": {},
   "outputs": [
    {
     "name": "stdout",
     "output_type": "stream",
     "text": [
      "จำนวนตัวอย่างก่อน balance:\n",
      " dx\n",
      "nv       6705\n",
      "mel      1113\n",
      "bkl      1099\n",
      "bcc       514\n",
      "akiec     327\n",
      "vasc      142\n",
      "df        115\n",
      "Name: count, dtype: int64\n",
      "\n",
      "จำนวนตัวอย่างหลัง balance:\n",
      " dx\n",
      "mel      1113\n",
      "bkl      1099\n",
      "nv        551\n",
      "bcc       514\n",
      "akiec     327\n",
      "vasc      142\n",
      "df        115\n",
      "Name: count, dtype: int64\n"
     ]
    }
   ],
   "source": [
    "import pandas as pd\n",
    "from sklearn.utils import resample\n",
    "\n",
    "# โหลด metadata\n",
    "df = pd.read_csv('../HAM10000/HAM10000_metadata.csv')\n",
    "\n",
    "# ดูจำนวนตัวอย่างในแต่ละคลาส\n",
    "class_counts = df['dx'].value_counts()\n",
    "print(\"จำนวนตัวอย่างก่อน balance:\\n\", class_counts)\n",
    "\n",
    "# ค่าเฉลี่ยของทุกคลาส (ยกเว้น nv)\n",
    "mean_class_size = int(class_counts[class_counts.index != 'nv'].mean())\n",
    "\n",
    "# ตัด nv ให้เหลือเท่าค่าเฉลี่ย\n",
    "nv_df = df[df['dx'] == 'nv'].sample(n=mean_class_size, random_state=42)\n",
    "\n",
    "# รวมกับคลาสอื่น\n",
    "other_classes_df = df[df['dx'] != 'nv']\n",
    "df_balanced = pd.concat([nv_df, other_classes_df], axis=0).sample(frac=1, random_state=42)\n",
    "\n",
    "# ตรวจสอบจำนวนหลัง balance\n",
    "print(\"\\nจำนวนตัวอย่างหลัง balance:\\n\", df_balanced['dx'].value_counts())"
   ]
  },
  {
   "cell_type": "code",
   "execution_count": 11,
   "id": "f738a38c-1f85-4a39-b474-20ad070ad147",
   "metadata": {},
   "outputs": [],
   "source": [
    "df_balanced.to_csv('../HAM10000_balanced/HAM10000_balanced.csv', index=False)"
   ]
  },
  {
   "cell_type": "code",
   "execution_count": 13,
   "id": "ea3d9453-ed71-4811-9e08-4d8003c06cfc",
   "metadata": {},
   "outputs": [],
   "source": [
    "import os\n",
    "import shutil\n",
    "\n",
    "# Path ที่เก็บรูปภาพทั้งหมด\n",
    "image_dir = '../HAM10000/HAM10000_images/'  # ปรับตาม path จริงของคุณ\n",
    "output_dir = '../HAM10000_balanced/HAM10000_balanced_images/'  # โฟลเดอร์ใหม่ที่เก็บรูปที่เหลือ\n",
    "\n",
    "# สร้างโฟลเดอร์ใหม่ถ้ายังไม่มี\n",
    "os.makedirs(output_dir, exist_ok=True)\n",
    "\n",
    "# คัดลอกรูปเฉพาะที่อยู่ใน df_balanced\n",
    "for image_id in df_balanced['image_id']:\n",
    "    src = os.path.join(image_dir, f\"{image_id}.jpg\")\n",
    "    dst = os.path.join(output_dir, f\"{image_id}.jpg\")\n",
    "    if os.path.exists(src):\n",
    "        shutil.copyfile(src, dst)\n",
    "    else:\n",
    "        print(f\"❌ รูปไม่พบ: {src}\")"
   ]
  }
 ],
 "metadata": {
  "kernelspec": {
   "display_name": "Python [conda env:base] *",
   "language": "python",
   "name": "conda-base-py"
  },
  "language_info": {
   "codemirror_mode": {
    "name": "ipython",
    "version": 3
   },
   "file_extension": ".py",
   "mimetype": "text/x-python",
   "name": "python",
   "nbconvert_exporter": "python",
   "pygments_lexer": "ipython3",
   "version": "3.12.7"
  }
 },
 "nbformat": 4,
 "nbformat_minor": 5
}
