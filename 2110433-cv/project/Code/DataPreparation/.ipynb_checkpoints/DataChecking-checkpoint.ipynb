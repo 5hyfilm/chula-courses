{
 "cells": [
  {
   "cell_type": "code",
   "execution_count": 4,
   "id": "674ac4a3-d5a8-4e9d-af46-1ba24e114b6f",
   "metadata": {},
   "outputs": [
    {
     "name": "stdout",
     "output_type": "stream",
     "text": [
      "\n",
      "✅ ตรวจสอบ: HAM10000_train.csv\n",
      "📄 จำนวนใน CSV      : 3088\n",
      "🖼️  จำนวนในโฟลเดอร์ : 3088\n",
      "✅ รูปภาพครบและตรงกับ CSV ทั้งหมด\n",
      "\n",
      "✅ ตรวจสอบ: HAM10000_test.csv\n",
      "📄 จำนวนใน CSV      : 773\n",
      "🖼️  จำนวนในโฟลเดอร์ : 773\n",
      "✅ รูปภาพครบและตรงกับ CSV ทั้งหมด\n"
     ]
    }
   ],
   "source": [
    "import os\n",
    "import pandas as pd\n",
    "\n",
    "def check_image_consistency(csv_path, image_dir):\n",
    "    # โหลด CSV\n",
    "    df = pd.read_csv(csv_path)\n",
    "\n",
    "    # รายชื่อรูปใน CSV\n",
    "    csv_image_ids = set(df['image_id'].astype(str))\n",
    "\n",
    "    # รายชื่อไฟล์จริงในโฟลเดอร์ (ตัด .jpg ออก)\n",
    "    folder_image_ids = set([\n",
    "        os.path.splitext(fname)[0]\n",
    "        for fname in os.listdir(image_dir)\n",
    "        if fname.endswith('.jpg')\n",
    "    ])\n",
    "\n",
    "    # หา diff\n",
    "    missing_images = csv_image_ids - folder_image_ids\n",
    "    extra_images = folder_image_ids - csv_image_ids\n",
    "\n",
    "    # แสดงผล\n",
    "    print(f\"\\n✅ ตรวจสอบ: {os.path.basename(csv_path)}\")\n",
    "    print(f\"📄 จำนวนใน CSV      : {len(csv_image_ids)}\")\n",
    "    print(f\"🖼️  จำนวนในโฟลเดอร์ : {len(folder_image_ids)}\")\n",
    "    \n",
    "    if not missing_images and not extra_images:\n",
    "        print(\"✅ รูปภาพครบและตรงกับ CSV ทั้งหมด\")\n",
    "    else:\n",
    "        if missing_images:\n",
    "            print(f\"❌ หายไปจากโฟลเดอร์: {len(missing_images)} รูป (ตัวอย่าง: {list(missing_images)[:5]})\")\n",
    "        if extra_images:\n",
    "            print(f\"⚠️ เกินมาจากโฟลเดอร์: {len(extra_images)} รูป (ตัวอย่าง: {list(extra_images)[:5]})\")\n",
    "\n",
    "# 🔍 ตรวจสอบทั้ง train/test\n",
    "check_image_consistency(\n",
    "    csv_path='../../HAM10000_balanced/train/HAM10000_train.csv',\n",
    "    image_dir='../../HAM10000_balanced/train/train_images'\n",
    ")\n",
    "\n",
    "check_image_consistency(\n",
    "    csv_path='../../HAM10000_balanced/test/HAM10000_test.csv',\n",
    "    image_dir='../../HAM10000_balanced/test/test_images'\n",
    ")"
   ]
  },
  {
   "cell_type": "code",
   "execution_count": null,
   "id": "d9bb61ee-d7bf-42c8-9bd6-a071019ed850",
   "metadata": {},
   "outputs": [],
   "source": []
  }
 ],
 "metadata": {
  "kernelspec": {
   "display_name": "Python [conda env:base] *",
   "language": "python",
   "name": "conda-base-py"
  },
  "language_info": {
   "codemirror_mode": {
    "name": "ipython",
    "version": 3
   },
   "file_extension": ".py",
   "mimetype": "text/x-python",
   "name": "python",
   "nbconvert_exporter": "python",
   "pygments_lexer": "ipython3",
   "version": "3.12.7"
  }
 },
 "nbformat": 4,
 "nbformat_minor": 5
}
