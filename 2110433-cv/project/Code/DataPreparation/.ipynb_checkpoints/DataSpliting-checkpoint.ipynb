{
 "cells": [
  {
   "cell_type": "code",
   "execution_count": 1,
   "id": "4db60b60-f845-4f4a-831f-891363dd9de6",
   "metadata": {},
   "outputs": [
    {
     "name": "stdout",
     "output_type": "stream",
     "text": [
      "Train: dx\n",
      "mel      890\n",
      "bkl      879\n",
      "nv       441\n",
      "bcc      411\n",
      "akiec    261\n",
      "vasc     114\n",
      "df        92\n",
      "Name: count, dtype: int64\n",
      "\n",
      "Test: dx\n",
      "mel      223\n",
      "bkl      220\n",
      "nv       110\n",
      "bcc      103\n",
      "akiec     66\n",
      "vasc      28\n",
      "df        23\n",
      "Name: count, dtype: int64\n"
     ]
    }
   ],
   "source": [
    "import pandas as pd\n",
    "from sklearn.model_selection import train_test_split\n",
    "\n",
    "# โหลด metadata ที่ balance แล้ว\n",
    "df_balanced = pd.read_csv('../../HAM10000_balanced/HAM10000_balanced.csv')\n",
    "\n",
    "# แบ่งเป็น train/test โดย stratify จาก class (dx)\n",
    "train_df, test_df = train_test_split(\n",
    "    df_balanced,\n",
    "    test_size=0.2,\n",
    "    stratify=df_balanced['dx'],\n",
    "    random_state=42\n",
    ")\n",
    "\n",
    "# ตรวจสอบจำนวน\n",
    "print(\"Train:\", train_df['dx'].value_counts())\n",
    "print(\"\\nTest:\", test_df['dx'].value_counts())\n",
    "\n",
    "# บันทึกไฟล์แยก\n",
    "train_df.to_csv('../../HAM10000_balanced/train/HAM10000_train.csv', index=False)\n",
    "test_df.to_csv('../../HAM10000_balanced/test/HAM10000_test.csv', index=False)"
   ]
  },
  {
   "cell_type": "code",
   "execution_count": 3,
   "id": "2ed8fbaf-4a17-4206-8341-4dab25d31548",
   "metadata": {},
   "outputs": [],
   "source": [
    "import os\n",
    "import shutil\n",
    "\n",
    "# Path ที่เก็บภาพต้นฉบับ\n",
    "image_dir = '../../HAM10000_balanced/HAM10000_balanced_images/'  # ปรับตามจริง\n",
    "\n",
    "# Path สำหรับ train/test\n",
    "output_train_dir = '../../HAM10000_balanced/train/train_images/'\n",
    "output_test_dir  = '../../HAM10000_balanced/test/test_images/'\n",
    "\n",
    "os.makedirs(output_train_dir, exist_ok=True)\n",
    "os.makedirs(output_test_dir, exist_ok=True)\n",
    "\n",
    "# 🔁 ฟังก์ชันสำหรับคัดลอกรูป\n",
    "def copy_images(df, output_dir):\n",
    "    for _, row in df.iterrows():\n",
    "        img_name = f\"{row['image_id']}.jpg\"\n",
    "        src = os.path.join(image_dir, img_name)\n",
    "        dst = os.path.join(output_dir, img_name)\n",
    "        if os.path.exists(src):\n",
    "            shutil.copyfile(src, dst)\n",
    "        else:\n",
    "            print(f\"❌ Not found: {src}\")\n",
    "\n",
    "# ✅ คัดลอก\n",
    "copy_images(train_df, output_train_dir)\n",
    "copy_images(test_df, output_test_dir)"
   ]
  },
  {
   "cell_type": "code",
   "execution_count": null,
   "id": "8fe80a2b-8fbb-4240-bfa3-87b00dd60856",
   "metadata": {},
   "outputs": [],
   "source": []
  }
 ],
 "metadata": {
  "kernelspec": {
   "display_name": "Python [conda env:base] *",
   "language": "python",
   "name": "conda-base-py"
  },
  "language_info": {
   "codemirror_mode": {
    "name": "ipython",
    "version": 3
   },
   "file_extension": ".py",
   "mimetype": "text/x-python",
   "name": "python",
   "nbconvert_exporter": "python",
   "pygments_lexer": "ipython3",
   "version": "3.12.7"
  }
 },
 "nbformat": 4,
 "nbformat_minor": 5
}
