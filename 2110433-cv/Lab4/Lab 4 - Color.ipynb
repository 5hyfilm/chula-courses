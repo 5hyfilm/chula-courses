{
 "cells": [
  {
   "attachments": {},
   "cell_type": "markdown",
   "metadata": {},
   "source": [
    "# 2110433 - Computer Vision (2024/2)\n",
    "## Lab 4 - Color Processing\n",
    "In this lab, we will learn to use color feature in different color spaces to extract useful information from images. This notebook includes both coding and written questions. Please hand in this notebook file with all outputs and your answer"
   ]
  },
  {
   "cell_type": "markdown",
   "metadata": {},
   "source": [
    "Import OpenCV, Numpy and Matplotlib as always"
   ]
  },
  {
   "cell_type": "code",
   "execution_count": 1,
   "metadata": {},
   "outputs": [],
   "source": [
    "import cv2\n",
    "import math\n",
    "import time\n",
    "import threading\n",
    "import numpy as np\n",
    "import random as rng\n",
    "from matplotlib import pyplot as plt\n",
    "from ipywidgets import interact,interactive\n",
    "import ipywidgets as widgets\n",
    "from IPython.display import display, HTML,clear_output\n",
    "import IPython.display\n",
    "%matplotlib inline\n",
    "\n",
    "from datetime import datetime"
   ]
  },
  {
   "cell_type": "markdown",
   "metadata": {},
   "source": [
    "## Grayscale Image Thresholding\n",
    "Thresholding is the simplest method of image segmentation. This non-linear operation converts a grayscale image into a binary image where the two colors (black/white) are assigned to pixels that are below or above the specified threshold. <br>\n",
    "Lena comes again! Can you adjust both sliders to segment lena's skin?"
   ]
  },
  {
   "cell_type": "code",
   "execution_count": 2,
   "metadata": {},
   "outputs": [
    {
     "data": {
      "application/vnd.jupyter.widget-view+json": {
       "model_id": "3277ac7a84554166b76f8a44cee6fe47",
       "version_major": 2,
       "version_minor": 0
      },
      "text/plain": [
       "interactive(children=(IntSlider(value=1, description='minValue', max=255), IntSlider(value=1, description='max…"
      ]
     },
     "metadata": {},
     "output_type": "display_data"
    }
   ],
   "source": [
    "inputImage = cv2.imread(\"assets/lena_std.tif\",cv2.IMREAD_GRAYSCALE)\n",
    "def grayscaleThresholding(minValue,maxValue):\n",
    "    thresholdImage = np.logical_and(inputImage > minValue, inputImage < maxValue)\n",
    "    inputImageCopy = inputImage.copy()\n",
    "    cv2.rectangle(inputImageCopy,(250,400),(340,500),255,3)\n",
    "    cropRegion = inputImage[400:500,250:340]\n",
    "    \n",
    "    plt.figure(figsize=(10,10))\n",
    "    plt.subplot(131)\n",
    "    plt.title(\"Lena Image\")\n",
    "    plt.imshow(inputImageCopy, cmap='gray')\n",
    "    \n",
    "    plt.subplot(132)\n",
    "    plt.title(\"Segmentation Mask\")\n",
    "    plt.imshow(thresholdImage, cmap='gray')\n",
    "    \n",
    "    plt.subplot(133)\n",
    "    plt.title(\"Pixel Value Distribution\")\n",
    "    plt.hist(cropRegion,range=(0,255))\n",
    "    plt.show()\n",
    "interact(grayscaleThresholding, minValue=widgets.IntSlider(min=0,max=255,step=1,value=1),maxValue=widgets.IntSlider(min=0,max=255,step=1,value=1));"
   ]
  },
  {
   "cell_type": "markdown",
   "metadata": {},
   "source": [
    "## Simple Image Segmentation using Color"
   ]
  },
  {
   "cell_type": "markdown",
   "metadata": {},
   "source": [
    "As you can see from the above sample, only grayscale information is usually not enough to segment \"things\" from the images. In this section we will apply simple color segmentation on various colorspaces. The following block is code snippet which retrive image from your webcam and apply thresholding on BGR image using defined value."
   ]
  },
  {
   "cell_type": "code",
   "execution_count": 3,
   "metadata": {},
   "outputs": [],
   "source": [
    "bMin = 50; bMax = 170\n",
    "gMin = 70; gMax = 180\n",
    "rMin = 90; rMax = 220\n",
    "cameraNo = 0"
   ]
  },
  {
   "cell_type": "code",
   "execution_count": 4,
   "metadata": {},
   "outputs": [
    {
     "name": "stdout",
     "output_type": "stream",
     "text": [
      "Stream stopped\n"
     ]
    }
   ],
   "source": [
    "# You can press \"Interupt Kernel Button to stop webcam\"\n",
    "inputStream = cv2.VideoCapture(cameraNo) \n",
    "try:\n",
    "    while True:\n",
    "        _, videoFrameBGR = inputStream.read()\n",
    "        if videoFrameBGR is not None:\n",
    "            outputVideoFrameBGR = videoFrameBGR.copy()\n",
    "\n",
    "            # Draw ROI\n",
    "            cv2.rectangle(outputVideoFrameBGR,(100,100),(200,200),(0,255,0),3)\n",
    "            # Cropped Region\n",
    "            croppedRegion = videoFrameBGR[100:200,100:200,:]\n",
    "            \n",
    "           \n",
    "            \n",
    "            mask = cv2.inRange(videoFrameBGR,(bMin,gMin,rMin),(bMax,gMax,rMax))[:,:,np.newaxis]\n",
    "            mask = np.repeat(mask,3,axis=2)\n",
    "            \n",
    "            ## Draw Min/Max pixel value in BGR order on image\n",
    "            cv2.putText(outputVideoFrameBGR,str(np.min(croppedRegion[:,:,0]))+'/'+str(np.min(croppedRegion[:,:,1]))+'/'+str(np.min(croppedRegion[:,:,2])),(20,20),cv2.FONT_HERSHEY_SIMPLEX,1.0,(0,0,255))\n",
    "            cv2.putText(outputVideoFrameBGR,str(np.max(croppedRegion[:,:,0]))+'/'+str(np.max(croppedRegion[:,:,1]))+'/'+str(np.max(croppedRegion[:,:,2])),(20,50),cv2.FONT_HERSHEY_SIMPLEX,1.0,(0,0,255))\n",
    "            \n",
    "            outputVideoFrameBGR = np.hstack((outputVideoFrameBGR,mask))\n",
    "            \n",
    "            # Encode image as jpg numpy array\n",
    "            _, buf = cv2.imencode(\".jpg\", outputVideoFrameBGR)\n",
    "            # Draw result\n",
    "            IPython.display.display(IPython.display.Image(data=buf))\n",
    "        \n",
    "            clear_output(wait=True) \n",
    "        else:\n",
    "            print(\"Cannot Open Webcam, hw problem?\")\n",
    "            break\n",
    "except KeyboardInterrupt:\n",
    "    print (\"Stream stopped\")\n",
    "inputStream.release()"
   ]
  },
  {
   "cell_type": "markdown",
   "metadata": {},
   "source": [
    "Since the slider widget does not support for-loop webcam retrival method that we use, we may use build-in OpenCV GUI library to create a color range slider by using the following code. (The window name <b>\"Color Segmentation\"</b> will popup!)"
   ]
  },
  {
   "cell_type": "code",
   "execution_count": 5,
   "metadata": {},
   "outputs": [
    {
     "name": "stdout",
     "output_type": "stream",
     "text": [
      "Stream stopped\n"
     ]
    }
   ],
   "source": [
    "def sliderCallback(x):\n",
    "    pass\n",
    "# Create a OpenCV Window\n",
    "windowName = 'Color Segmentation'\n",
    "cv2.namedWindow(windowName)\n",
    "cv2.createTrackbar('bMin',windowName,0,255,sliderCallback)\n",
    "cv2.createTrackbar('gMin',windowName,0,255,sliderCallback)\n",
    "cv2.createTrackbar('rMin',windowName,0,255,sliderCallback)\n",
    "cv2.createTrackbar('bMax',windowName,0,255,sliderCallback)\n",
    "cv2.createTrackbar('gMax',windowName,0,255,sliderCallback)\n",
    "cv2.createTrackbar('rMax',windowName,0,255,sliderCallback)\n",
    "\n",
    "inputStream = cv2.VideoCapture(cameraNo) \n",
    "try:\n",
    "    while True:\n",
    "        _, videoFrameBGR = inputStream.read()\n",
    "        if videoFrameBGR is not None:\n",
    "            \n",
    "            \n",
    "            bMin = cv2.getTrackbarPos('bMin',windowName)\n",
    "            gMin = cv2.getTrackbarPos('gMin',windowName)\n",
    "            rMin = cv2.getTrackbarPos('rMin',windowName)\n",
    "            \n",
    "            bMax = cv2.getTrackbarPos('bMax',windowName)\n",
    "            gMax = cv2.getTrackbarPos('gMax',windowName)\n",
    "            rMax = cv2.getTrackbarPos('rMax',windowName)\n",
    "            \n",
    "            mask = cv2.inRange(videoFrameBGR,(bMin,gMin,rMin),(bMax,gMax,rMax))[:,:,np.newaxis]\n",
    "            mask = np.repeat(mask,3,axis=2)\n",
    "            outputVideoFrameBGR = videoFrameBGR.copy()\n",
    "            outputVideoFrameBGR = np.hstack((outputVideoFrameBGR,mask))\n",
    "            \n",
    "            cv2.imshow(windowName,outputVideoFrameBGR)\n",
    "            if cv2.waitKey(1) == ord('q'):\n",
    "                cv2.destroyAllWindows()\n",
    "                break\n",
    "        else:\n",
    "            print(\"Cannot Open Webcam, hw problem?\")\n",
    "            break\n",
    "except KeyboardInterrupt:\n",
    "    print (\"Stream stopped\")\n",
    "inputStream.release()\n",
    "cv2.destroyAllWindows()"
   ]
  },
  {
   "cell_type": "markdown",
   "metadata": {},
   "source": [
    "OpenCV supports many well-known colorspaces. You can apply the colorspace transformation by using <a href=\"https://docs.opencv.org/3.4.2/d7/d1b/group__imgproc__misc.html#ga397ae87e1288a81d2363b61574eb8cab\">cv2.cvtColor</a> and see the list of suppoted transformation flags <a href=\"https://docs.opencv.org/3.4.2/d7/d1b/group__imgproc__misc.html#ga4e0972be5de079fed4e3a10e24ef5ef0\">here</a>. Try tp apply color segmention on any object in other colorspace <b>(NOT BGR!!)</b> by fill the following block."
   ]
  },
  {
   "cell_type": "code",
   "execution_count": 6,
   "metadata": {},
   "outputs": [
    {
     "name": "stderr",
     "output_type": "stream",
     "text": [
      "2025-01-30 21:21:30.914 python[32307:765943] +[IMKClient subclass]: chose IMKClient_Modern\n",
      "2025-01-30 21:21:30.914 python[32307:765943] +[IMKInputSession subclass]: chose IMKInputSession_Modern\n"
     ]
    },
    {
     "name": "stdout",
     "output_type": "stream",
     "text": [
      "Stream stopped\n"
     ]
    }
   ],
   "source": [
    "def sliderCallback(x):\n",
    "    pass\n",
    "\n",
    "windowName = 'YCbCr Skin Detection'\n",
    "cv2.namedWindow(windowName)\n",
    "\n",
    "# Create Trackbars for YCbCr Thresholds\n",
    "cv2.createTrackbar('Cb Min', windowName, 0, 255, sliderCallback)\n",
    "cv2.createTrackbar('Cr Min', windowName, 0, 255, sliderCallback)\n",
    "cv2.createTrackbar('Cb Max', windowName, 255, 255, sliderCallback)\n",
    "cv2.createTrackbar('Cr Max', windowName, 255, 255, sliderCallback)\n",
    "\n",
    "cameraNo = 0\n",
    "inputStream = cv2.VideoCapture(cameraNo)\n",
    "\n",
    "try:\n",
    "    while True:\n",
    "        ret, videoFrameBGR = inputStream.read()\n",
    "        if not ret or videoFrameBGR is None:\n",
    "            print(\"Cannot Open Webcam, hardware issue?\")\n",
    "            break\n",
    "        \n",
    "        # Convert BGR to YCbCr\n",
    "        videoFrameYCbCr = cv2.cvtColor(videoFrameBGR, cv2.COLOR_BGR2YCrCb)\n",
    "\n",
    "        # Extract the Cb and Cr channels\n",
    "        Y, Cr, Cb = cv2.split(videoFrameYCbCr)\n",
    "\n",
    "        # Get Threshold values from trackbars\n",
    "        cbMin = cv2.getTrackbarPos('Cb Min', windowName)\n",
    "        crMin = cv2.getTrackbarPos('Cr Min', windowName)\n",
    "        cbMax = cv2.getTrackbarPos('Cb Max', windowName)\n",
    "        crMax = cv2.getTrackbarPos('Cr Max', windowName)\n",
    "\n",
    "        # Create a mask based on Cb & Cr values\n",
    "        mask = cv2.inRange(videoFrameYCbCr, (0, crMin, cbMin), (255, crMax, cbMax))\n",
    "\n",
    "        # Apply mask to extract the skin region\n",
    "        segmentedOutput = cv2.bitwise_and(videoFrameBGR, videoFrameBGR, mask=mask)\n",
    "\n",
    "        # Show original, mask, and result side by side\n",
    "        outputVideoFrame = np.hstack((videoFrameBGR, cv2.cvtColor(mask, cv2.COLOR_GRAY2BGR), segmentedOutput))\n",
    "\n",
    "        # Display results\n",
    "        cv2.imshow(windowName, outputVideoFrame)\n",
    "\n",
    "        # Press 'q' to exit\n",
    "        if cv2.waitKey(1) & 0xFF == ord('q'):\n",
    "            break\n",
    "\n",
    "except KeyboardInterrupt:\n",
    "    print(\"Stream stopped\")\n",
    "\n",
    "# Release Video Stream & Close Windows\n",
    "inputStream.release()\n",
    "cv2.destroyAllWindows()"
   ]
  },
  {
   "cell_type": "markdown",
   "metadata": {},
   "source": [
    "## Morphological Transformations"
   ]
  },
  {
   "cell_type": "markdown",
   "metadata": {},
   "source": [
    "The field of mathematical morphology contributes a wide range of operators to image processing, all based around a simple mathematical concepts from set theory. Morphological transformations are the operations based on the image shape employed on binay images. This operation needs needs two inputs, one is binary image, second one is called <b>structuring element or kernel</b> which decides the operation output. You can design the kernel to suit your application needs. Two basic morphological operators are Erosion and Dilation"
   ]
  },
  {
   "cell_type": "markdown",
   "metadata": {},
   "source": [
    "The following mask image is segmented by using color information. You can see that there are some hand's pixels which are not connect into a perfect hand shape. We can correct these by using the basic morphological operaters."
   ]
  },
  {
   "cell_type": "code",
   "execution_count": 7,
   "metadata": {},
   "outputs": [
    {
     "data": {
      "image/png": "[encoded data removed]",
      "text/plain": [
       "<Figure size 640x480 with 1 Axes>"
      ]
     },
     "metadata": {},
     "output_type": "display_data"
    }
   ],
   "source": [
    "handMask = cv2.imread('assets/Lab4-SegmentedHand.png',cv2.IMREAD_GRAYSCALE)\n",
    "plt.title('Segmented Hand Mask')\n",
    "plt.imshow(handMask,cmap='gray')\n",
    "plt.show()"
   ]
  },
  {
   "cell_type": "code",
   "execution_count": 8,
   "metadata": {},
   "outputs": [
    {
     "data": {
      "application/vnd.jupyter.widget-view+json": {
       "model_id": "627416bd66ce448a8fe92d1b3b1b32e1",
       "version_major": 2,
       "version_minor": 0
      },
      "text/plain": [
       "interactive(children=(IntSlider(value=1, description='kernelSize', max=11, min=1), Dropdown(description='kerne…"
      ]
     },
     "metadata": {},
     "output_type": "display_data"
    }
   ],
   "source": [
    "def openAndCloseMorph(kernelSize,kernelShape, morphType):\n",
    "    kernel = cv2.getStructuringElement(kernelShape,(kernelSize,kernelSize))\n",
    "\n",
    "    outputImage = handMask.copy()\n",
    "    \n",
    "    if morphType == 'erode':\n",
    "        outputImage = cv2.erode(outputImage,kernel,iterations = 1)\n",
    "    else:\n",
    "        outputImage = cv2.dilate(outputImage,kernel,iterations = 1)\n",
    "\n",
    "    plt.figure(figsize=(5,5))\n",
    "    plt.imshow(outputImage, cmap='gray')\n",
    "    plt.show()\n",
    "    \n",
    "    print('Morphology Kernel Shape:')\n",
    "    display(kernel)\n",
    "    \n",
    "interact(openAndCloseMorph, kernelSize=widgets.IntSlider(min=1,max=11,step=1,value=1), \n",
    "         kernelShape=widgets.Dropdown(\n",
    "                        options=[cv2.MORPH_RECT,cv2.MORPH_ELLIPSE, cv2.MORPH_CROSS],\n",
    "                        value=cv2.MORPH_RECT,\n",
    "                        description='kernelShape:',\n",
    "                        disabled=False),\n",
    "        morphType=widgets.Dropdown(\n",
    "                        options=['erode','dilate'],\n",
    "                        value='erode',\n",
    "                        description='Morph Type:',\n",
    "                        disabled=False)\n",
    ");"
   ]
  },
  {
   "cell_type": "markdown",
   "metadata": {},
   "source": [
    "This <a href=\"https://docs.opencv.org/3.4.2/d9/d61/tutorial_py_morphological_ops.html\">page</a> shows a good morphological operation exmple, try to write an interactive visualization like the above sample on <b>Opening and Closing</b> operations. See the output results by yourself."
   ]
  },
  {
   "cell_type": "code",
   "execution_count": 9,
   "metadata": {},
   "outputs": [
    {
     "data": {
      "application/vnd.jupyter.widget-view+json": {
       "model_id": "ff7e63fc746140e69f16317217aaac40",
       "version_major": 2,
       "version_minor": 0
      },
      "text/plain": [
       "interactive(children=(IntSlider(value=1, description='kernelSize', max=11, min=1), Dropdown(description='kerne…"
      ]
     },
     "metadata": {},
     "output_type": "display_data"
    }
   ],
   "source": [
    "### FILL HERE ###\n",
    "def openAndCloseMorphEx(kernelSize,kernelShape, morphType):\n",
    "    kernel = cv2.getStructuringElement(kernelShape,(kernelSize,kernelSize))\n",
    "\n",
    "    outputImage = handMask.copy()\n",
    "    \n",
    "    if morphType == 'opening':\n",
    "        outputImage = cv2.morphologyEx(outputImage, cv2.MORPH_OPEN, kernel)\n",
    "    else:\n",
    "        outputImage = cv2.morphologyEx(outputImage, cv2.MORPH_CLOSE, kernel)\n",
    "\n",
    "    plt.figure(figsize=(5,5))\n",
    "    plt.imshow(outputImage, cmap='gray')\n",
    "    plt.show()\n",
    "    \n",
    "    print('Morphology Kernel Shape:')\n",
    "    display(kernel)\n",
    "    \n",
    "interact(openAndCloseMorphEx, kernelSize=widgets.IntSlider(min=1,max=11,step=1,value=1), \n",
    "         kernelShape=widgets.Dropdown(\n",
    "                        options=[cv2.MORPH_RECT,cv2.MORPH_ELLIPSE, cv2.MORPH_CROSS],\n",
    "                        value=cv2.MORPH_RECT,\n",
    "                        description='kernelShape:',\n",
    "                        disabled=False),\n",
    "        morphType=widgets.Dropdown(\n",
    "                        options=['opening','closing'],\n",
    "                        value='opening',\n",
    "                        description='Operation Type:',\n",
    "                        disabled=False)\n",
    ");\n",
    "#################"
   ]
  },
  {
   "cell_type": "markdown",
   "metadata": {},
   "source": [
    "## Assignment 1 - Color Based Face Detector <br>\n",
    "\n",
    "<img src=\"assets/Lab4-funnyface.gif\"/>\n",
    "By using the knowledge from lecture 1-4, you should be able to write your own simple color based face detector. Use the above code snippets to help you write it. The output should be a code which retrive video feed from <b>your webcam</b> and draw bounding boxes around detected faces. Write the detection results into video file and hand in with this notebook. There should be <b>two video sequences</b>, in good lighting and other lighting condition. The output video should show robustness of your designed alogorithm. (Optional) You will get extra points if you can use <b>same parameters</b> for both sequences.\n",
    "\n",
    "<b>Basic Guidance:<b>\n",
    "1. Create a \"face color segmentation mask\" using your choice colorspace.\n",
    "2. Filter out the outlier pixel!\n",
    "3. Categorize each connected component into group by using cv2.findContours (from Lab 3)\n",
    "4. Find the bounding box which can enclose those connect components by <a href=\"https://docs.opencv.org/3.4.2/d3/dc0/group__imgproc__shape.html#gacb413ddce8e48ff3ca61ed7cf626a366\">cv2.boundingRect</a>\n",
    "\n",
    "<b>Hints:</b>\n",
    "- From today lecture, how do to discard noise/fill small hole from color segmentation mask output?\n",
    "- Since this is a color-based problem, you can use old knowledge from lecture 1-3 to improve segmentation result by apply <b>?</b> on input image\n",
    "- You can use some specific threshold based on shape properties or simple morphological operations to keep only potential contours\n",
    "- To achieve a better result for both lighting conditions, you may need to apply some data analysis on the <b>region of interest</b> by plotting each channel value and see their data distributions.\n",
    "- Internet is your friend. You can search for relavent research papers and use their algorithms/implementations, but you must <b>give proper credits</b> by citing them in this notebook. "
   ]
  },
  {
   "cell_type": "code",
   "execution_count": 10,
   "metadata": {},
   "outputs": [
    {
     "data": {
      "text/plain": [
       "'\\n1. ใช้ bilateralFilter ในการลด noise แต่พยายามคงให้ขอบรูปยังชัด\\n    - ใช้พารามิเตอร์ d=9, sigmaColor=75, sigmaSpace=75\\n    - เลือกใช้เพราะสามารถรักษาขอบของใบหน้าได้ดีกว่า Gaussian blur ทั่วไป\\n\\n2. เปลี่ยนจากการใช้ RGB เป็น YCrCb เพราะว่าเป็น color space ที่เหมาะกับผิวมนุษย์ที่สุด\\n    - Y: ความสว่าง [0, 255]\\n    - Cr: ค่าสีแดง [135, 180]\\n    - Cb: ค่าสีน้ำเงิน [85, 135]\\n\\n3. ทำ Skin Mask โดยใช้ cv2.inRange()\\n    - แปลงเป็นภาพขาวดำที่แยกสีผิวออกจากพื้นหลัง\\n    - พิกเซลที่เป็นสีผิวจะเป็นสีขาว (255)\\n    - พิกเซลอื่นๆ จะเป็นสีดำ (0)\\n\\n4. ทำ Opening กับ Closing เพื่อกำจัด noise\\n    - Opening (kernel 5x5): ลดจุดรบกวนขนาดเล็ก\\n    - Closing (kernel 11x11): เติมรูโหว่ในพื้นที่ผิว\\n\\nหา contour ใน Skin Mask และกรองด้วยเงื่อนไข:\\n    - Area: 1,000 - 100,000 pixels (กรองกล่องที่เล็ก/ใหญ่เกินไป)\\n    - Width: 50 - 300 pixels (ความกว้างที่เป็นไปได้ของใบหน้า)\\n    - Height: 50 - 300 pixels (ความสูงที่เป็นไปได้ของใบหน้า)\\n    - Aspect ratio: 0.5 - 2.0 (width/height) (อัตราส่วนที่เหมาะสมของใบหน้า)\\n'"
      ]
     },
     "execution_count": 10,
     "metadata": {},
     "output_type": "execute_result"
    }
   ],
   "source": [
    "### Describe how your algorithm work here (Thai or English). You can provide any visualization if you want.\n",
    "'''\n",
    "1. ใช้ bilateralFilter ในการลด noise แต่พยายามคงให้ขอบรูปยังชัด\n",
    "    - ใช้พารามิเตอร์ d=9, sigmaColor=75, sigmaSpace=75\n",
    "    - เลือกใช้เพราะสามารถรักษาขอบของใบหน้าได้ดีกว่า Gaussian blur ทั่วไป\n",
    "\n",
    "2. เปลี่ยนจากการใช้ RGB เป็น YCrCb เพราะว่าเป็น color space ที่เหมาะกับผิวมนุษย์ที่สุด\n",
    "    - Y: [0, 255]\n",
    "    - Cr: [135, 180]\n",
    "    - Cb: [85, 135]\n",
    "\n",
    "3. ทำ Skin Mask โดยใช้ cv2.inRange()\n",
    "    - แปลงเป็นภาพขาวดำที่แยกสีผิวออกจากพื้นหลัง\n",
    "    - พิกเซลที่เป็นสีผิวจะเป็นสีขาว (255)\n",
    "    - พิกเซลอื่นๆ จะเป็นสีดำ (0)\n",
    "\n",
    "4. ทำ Opening กับ Closing เพื่อกำจัด noise\n",
    "    - Opening (kernel 5x5): ลดจุดรบกวนขนาดเล็ก\n",
    "    - Closing (kernel 11x11): เติมรูโหว่ในพื้นที่ผิว\n",
    "\n",
    "หา contour ใน Skin Mask และกรองด้วยเงื่อนไข:\n",
    "    - Area: 1,000 - 100,000 pixels (กรองกล่องที่เล็ก/ใหญ่เกินไป)\n",
    "    - Width: 50 - 300 pixels (ความกว้างที่เป็นไปได้ของใบหน้า)\n",
    "    - Height: 50 - 300 pixels (ความสูงที่เป็นไปได้ของใบหน้า)\n",
    "    - Aspect ratio: 0.5 - 2.0 (width/height) (อัตราส่วนที่เหมาะสมของใบหน้า)\n",
    "'''"
   ]
  },
  {
   "cell_type": "code",
   "execution_count": 14,
   "metadata": {},
   "outputs": [
    {
     "ename": "KeyboardInterrupt",
     "evalue": "",
     "output_type": "error",
     "traceback": [
      "\u001b[0;31m---------------------------------------------------------------------------\u001b[0m",
      "\u001b[0;31mKeyboardInterrupt\u001b[0m                         Traceback (most recent call last)",
      "Cell \u001b[0;32mIn[14], line 95\u001b[0m\n\u001b[1;32m     92\u001b[0m         cv2\u001b[38;5;241m.\u001b[39mdestroyAllWindows()\n\u001b[1;32m     94\u001b[0m \u001b[38;5;28;01mif\u001b[39;00m \u001b[38;5;18m__name__\u001b[39m \u001b[38;5;241m==\u001b[39m \u001b[38;5;124m\"\u001b[39m\u001b[38;5;124m__main__\u001b[39m\u001b[38;5;124m\"\u001b[39m:\n\u001b[0;32m---> 95\u001b[0m     \u001b[43mmain\u001b[49m\u001b[43m(\u001b[49m\u001b[43m)\u001b[49m\n",
      "Cell \u001b[0;32mIn[14], line 70\u001b[0m, in \u001b[0;36mmain\u001b[0;34m()\u001b[0m\n\u001b[1;32m     68\u001b[0m \u001b[38;5;28;01mtry\u001b[39;00m:\n\u001b[1;32m     69\u001b[0m     \u001b[38;5;28;01mwhile\u001b[39;00m \u001b[38;5;28;01mTrue\u001b[39;00m:\n\u001b[0;32m---> 70\u001b[0m         ret, frame \u001b[38;5;241m=\u001b[39m \u001b[43mcap\u001b[49m\u001b[38;5;241;43m.\u001b[39;49m\u001b[43mread\u001b[49m\u001b[43m(\u001b[49m\u001b[43m)\u001b[49m\n\u001b[1;32m     71\u001b[0m         \u001b[38;5;28;01mif\u001b[39;00m \u001b[38;5;129;01mnot\u001b[39;00m ret:\n\u001b[1;32m     72\u001b[0m             \u001b[38;5;28;01mbreak\u001b[39;00m\n",
      "\u001b[0;31mKeyboardInterrupt\u001b[0m: "
     ]
    }
   ],
   "source": [
    "### FILL HERE ###\n",
    "def create_skin_mask(frame):\n",
    "    # ทำให้ภาพเรียบขึ้นด้วย bilateral filter\n",
    "    smoothed = cv2.bilateralFilter(frame, 9, 75, 75)\n",
    "    \n",
    "    # แปลงเป็น YCrCb color space\n",
    "    ycrcb = cv2.cvtColor(smoothed, cv2.COLOR_BGR2YCrCb)\n",
    "    \n",
    "    # กำหนดช่วงสีผิว\n",
    "    lower_ycrcb = np.array([0, 135, 85], dtype=np.uint8)\n",
    "    upper_ycrcb = np.array([255, 180, 135], dtype=np.uint8)\n",
    "    \n",
    "    # สร้าง mask จากช่วงสีผิว\n",
    "    mask = cv2.inRange(ycrcb, lower_ycrcb, upper_ycrcb)\n",
    "    \n",
    "    # ทำ morphological operations เพื่อลบ noise\n",
    "    kernel_open = cv2.getStructuringElement(cv2.MORPH_ELLIPSE, (5, 5))\n",
    "    kernel_close = cv2.getStructuringElement(cv2.MORPH_ELLIPSE, (11, 11))\n",
    "    \n",
    "    mask = cv2.morphologyEx(mask, cv2.MORPH_OPEN, kernel_open)\n",
    "    mask = cv2.morphologyEx(mask, cv2.MORPH_CLOSE, kernel_close)\n",
    "    \n",
    "    return mask\n",
    "\n",
    "def detect_faces(mask):\n",
    "    # หา contours\n",
    "    contours, _ = cv2.findContours(mask, cv2.RETR_EXTERNAL, cv2.CHAIN_APPROX_SIMPLE)\n",
    "    \n",
    "    # เก็บพื้นที่ที่น่าจะเป็นใบหน้า\n",
    "    face_rects = []\n",
    "    \n",
    "    for contour in contours:\n",
    "        # คำนวณพื้นที่ contour\n",
    "        area = cv2.contourArea(contour)\n",
    "        \n",
    "        # ถ้าพื้นที่เล็กหรือใหญ่เกินไป ข้ามไป\n",
    "        if area < 1000 or area > 100000:\n",
    "            continue\n",
    "        \n",
    "        # หากรอบรูปสี่เหลี่ยมที่ครอบ contour\n",
    "        x, y, w, h = cv2.boundingRect(contour)\n",
    "        \n",
    "        # ตรวจสอบอัตราส่วน และขนาด\n",
    "        aspect_ratio = float(w) / h\n",
    "        if (aspect_ratio < 0.5 or aspect_ratio > 2.0 or\n",
    "            w < 50 or h < 50 or\n",
    "            w > 300 or h > 300):\n",
    "            continue\n",
    "            \n",
    "        face_rects.append((x, y, w, h))\n",
    "        \n",
    "    return face_rects\n",
    "\n",
    "def main():\n",
    "    cap = cv2.VideoCapture(0)\n",
    "    if not cap.isOpened():\n",
    "        print(\"Can not use the camera\")\n",
    "        return\n",
    "\n",
    "    frame_width = int(cap.get(cv2.CAP_PROP_FRAME_WIDTH))\n",
    "    frame_height = int(cap.get(cv2.CAP_PROP_FRAME_HEIGHT))\n",
    "    fps = int(cap.get(cv2.CAP_PROP_FPS))\n",
    "\n",
    "    output_filename = 'Lab4_Ass1.mp4'\n",
    "    fourcc = cv2.VideoWriter_fourcc(*'mp4v')\n",
    "    out = cv2.VideoWriter(output_filename, fourcc, fps, (frame_width, frame_height))\n",
    "\n",
    "    try:\n",
    "        while True:\n",
    "            ret, frame = cap.read()\n",
    "            if not ret:\n",
    "                break\n",
    "\n",
    "            skin_mask = create_skin_mask(frame)\n",
    "            \n",
    "            face_rects = detect_faces(skin_mask)\n",
    "\n",
    "            for (x, y, w, h) in face_rects:\n",
    "                cv2.rectangle(frame, (x, y), (x + w, y + h), (0, 255, 0), 2)\n",
    "\n",
    "            out.write(frame)\n",
    "\n",
    "            cv2.imshow('Face Detection', frame)\n",
    "            cv2.imshow('Skin Mask', skin_mask)\n",
    "\n",
    "            if cv2.waitKey(1) & 0xFF == ord('q'):\n",
    "                break\n",
    "\n",
    "    finally:\n",
    "        cap.release()\n",
    "        out.release()\n",
    "        cv2.destroyAllWindows()\n",
    "\n",
    "if __name__ == \"__main__\":\n",
    "    main()"
   ]
  },
  {
   "cell_type": "markdown",
   "metadata": {},
   "source": [
    "## Assignment 2 - Invisibility Cloak \n",
    "By using the knowledge from lecture 1-4, you should be able to mimic a invisibility cloak from famous Harry Potter franchise by using color segmentation<br>\n",
    "<img src=\"assets/Lab4-invisibilitycloak.gif\"><br>\n",
    "<b>Basic Guidance:<b>\n",
    "1. Create a \"invisibility cloak color segmentation mask\" using your choice colorspace.\n",
    "2. Filter out the outlier pixel using some specify (you can think by your own!) criteria.\n",
    "3. Replace each invisible cloak area with store static background image.\n",
    "4. Make a short video clip to demonstrate/show your algorithm\n",
    "\n",
    "<b>Hints:</b>\n",
    "- From today lecture, how do to discard noise/fill small hole from color segmentation mask output?\n",
    "- Since this is a color-based problem, you can use old knowledge from lecture 1-3 to improve segmentation result by apply <b>?</b> on input image\n",
    "- Internet is your friend. You can search for relavent research papers and use their algorithm, but you must <b>give proper credits</b> by citing them in this notebook. "
   ]
  },
  {
   "cell_type": "code",
   "execution_count": null,
   "metadata": {},
   "outputs": [],
   "source": [
    "import time\n",
    "\n",
    "def create_background(cap):\n",
    "    print(\"Capturing background in 3 seconds. Please move away from the frame...\")\n",
    "    for i in range(3):\n",
    "        print(f\"{3-i}...\")\n",
    "        time.sleep(1)\n",
    "    \n",
    "    _, background = cap.read()\n",
    "    print(\"Background captured!\")\n",
    "    return background\n",
    "\n",
    "def create_mask(frame, lower_bound, upper_bound):\n",
    "    # Convert to HSV color space for better color segmentation\n",
    "    hsv = cv2.cvtColor(frame, cv2.COLOR_BGR2HSV)\n",
    "    \n",
    "    # Create initial mask\n",
    "    mask = cv2.inRange(hsv, lower_bound, upper_bound)\n",
    "    \n",
    "    # Remove noise and fill holes\n",
    "    # First, remove small noise pixels\n",
    "    kernel = np.ones((3,3), np.uint8)\n",
    "    mask = cv2.erode(mask, kernel, iterations=2)\n",
    "    mask = cv2.dilate(mask, kernel, iterations=2)\n",
    "    \n",
    "    # Fill holes in the mask\n",
    "    kernel = np.ones((5,5), np.uint8)\n",
    "    mask = cv2.morphologyEx(mask, cv2.MORPH_CLOSE, kernel)\n",
    "    \n",
    "    return mask\n",
    "\n",
    "def apply_cloak_effect(frame, background, mask):\n",
    "    # Invert the mask to get the cloak area\n",
    "    cloak_area = cv2.bitwise_not(mask)\n",
    "    \n",
    "    # Get the frame without the cloak\n",
    "    current_background = cv2.bitwise_and(frame, frame, mask=cloak_area)\n",
    "    \n",
    "    # Get the background only for the cloak area\n",
    "    cloak_part = cv2.bitwise_and(background, background, mask=mask)\n",
    "    \n",
    "    # Combine both parts\n",
    "    return cv2.add(current_background, cloak_part)\n",
    "\n",
    "def main():\n",
    "    # Initialize video capture\n",
    "    cap = cv2.VideoCapture(0)\n",
    "    \n",
    "    frame_width = int(cap.get(cv2.CAP_PROP_FRAME_WIDTH))\n",
    "    frame_height = int(cap.get(cv2.CAP_PROP_FRAME_HEIGHT))\n",
    "    fps = 20\n",
    "    \n",
    "    output_filename = 'Lab4_Ass2.avi'\n",
    "    \n",
    "    fourcc = cv2.VideoWriter_fourcc(*'XVID')  # Use XVID codec\n",
    "    out = cv2.VideoWriter(output_filename, fourcc, fps, (frame_width, frame_height))\n",
    "    \n",
    "    # Allow the camera to warm up\n",
    "    time.sleep(2)\n",
    "    \n",
    "    # Capture the background first\n",
    "    background = create_background(cap)\n",
    "    \n",
    "    # Define color range for the purple cloak\n",
    "    # Purple typically falls in the range of 130-160 in HSV\n",
    "    lower_purple = np.array([130, 50, 50])\n",
    "    upper_purple = np.array([160, 255, 255])\n",
    "    \n",
    "    print(\"Hold up the purple cloth to create the invisibility effect!\")\n",
    "    \n",
    "    while True:\n",
    "        ret, frame = cap.read()\n",
    "        if not ret:\n",
    "            break\n",
    "            \n",
    "        # Apply Gaussian blur to reduce noise\n",
    "        frame = cv2.GaussianBlur(frame, (5, 5), 0)\n",
    "        \n",
    "        # Create mask for purple range\n",
    "        mask = create_mask(frame, lower_purple, upper_purple)\n",
    "        \n",
    "        # Apply the cloak effect\n",
    "        result = apply_cloak_effect(frame, background, mask)\n",
    "        \n",
    "        out.write(result)\n",
    "        \n",
    "        cv2.imshow('Invisibility Cloak', result)\n",
    "        \n",
    "        if cv2.waitKey(1) & 0xFF == ord('q'):\n",
    "            break\n",
    "    \n",
    "    cap.release()\n",
    "    out.release()\n",
    "    cv2.destroyAllWindows()\n",
    "\n",
    "if __name__ == \"__main__\":\n",
    "    main()"
   ]
  },
  {
   "cell_type": "markdown",
   "metadata": {},
   "source": [
    "# Reference\n",
    "- https://docs.opencv.org/4.x/d0/d86/tutorial_py_image_arithmetics.html\n",
    "- https://harshilp.medium.com/invisibility-cloak-using-opencv-8b07142c83d6"
   ]
  }
 ],
 "metadata": {
  "kernelspec": {
   "display_name": "Python [conda env:chulacv2024]",
   "language": "python",
   "name": "conda-env-chulacv2024-py"
  },
  "language_info": {
   "codemirror_mode": {
    "name": "ipython",
    "version": 3
   },
   "file_extension": ".py",
   "mimetype": "text/x-python",
   "name": "python",
   "nbconvert_exporter": "python",
   "pygments_lexer": "ipython3",
   "version": "3.11.11"
  }
 },
 "nbformat": 4,
 "nbformat_minor": 4
}
