{
 "cells": [
  {
   "cell_type": "code",
   "execution_count": 3,
   "id": "e0164596-fa5f-425c-a722-99561d210363",
   "metadata": {},
   "outputs": [
    {
     "name": "stdout",
     "output_type": "stream",
     "text": [
      "รูปภาพเหมือนกันหรือไม่: ไม่ใช่\n",
      "ค่าความเหมือน (SSIM scores):\n",
      "รูป 1 กับ 2: 0.8798\n",
      "รูป 2 กับ 3: 0.8228\n",
      "รูป 1 กับ 3: 0.8951\n"
     ]
    }
   ],
   "source": [
    "import cv2\n",
    "import numpy as np\n",
    "from skimage.metrics import structural_similarity as ssim\n",
    "\n",
    "def compare_images(image_paths):\n",
    "\n",
    "    images = []\n",
    "    \n",
    "    # อ่านและปรับขนาดรูปให้เท่ากัน\n",
    "    for path in image_paths:\n",
    "        img = cv2.imread(path)\n",
    "        if img is None:\n",
    "            raise ValueError(f\"ไม่สามารถอ่านรูปภาพจาก {path}\")\n",
    "        img = cv2.cvtColor(img, cv2.COLOR_BGR2GRAY)\n",
    "        img = cv2.resize(img, (500, 500))\n",
    "        images.append(img)\n",
    "    \n",
    "    # คำนวณค่า SSIM ระหว่างรูป\n",
    "    similarity_scores = []\n",
    "    similarity_scores.append(ssim(images[0], images[1]))\n",
    "    similarity_scores.append(ssim(images[1], images[2]))\n",
    "    similarity_scores.append(ssim(images[0], images[2]))\n",
    "    \n",
    "    # กำหนดค่า threshold สำหรับตัดสินว่ารูปเหมือนกัน\n",
    "    threshold = 0.95\n",
    "    \n",
    "    # ตรวจสอบว่าทุกคู่มีความเหมือนกันมากกว่า threshold\n",
    "    are_similar = all(score > threshold for score in similarity_scores)\n",
    "    \n",
    "    return are_similar, similarity_scores\n",
    "\n",
    "# ตัวอย่างการใช้งาน\n",
    "if __name__ == \"__main__\":\n",
    "    image_paths = [\n",
    "        \"custom.jpg\",\n",
    "        \"cv.jpg\",\n",
    "        \"scipy.jpg\"\n",
    "    ]\n",
    "    \n",
    "    try:\n",
    "        are_similar, scores = compare_images(image_paths)\n",
    "        print(f\"รูปภาพเหมือนกันหรือไม่: {'ใช่' if are_similar else 'ไม่ใช่'}\")\n",
    "        print(f\"ค่าความเหมือน (SSIM scores):\")\n",
    "        print(f\"รูป 1 กับ 2: {scores[0]:.4f}\")\n",
    "        print(f\"รูป 2 กับ 3: {scores[1]:.4f}\")\n",
    "        print(f\"รูป 1 กับ 3: {scores[2]:.4f}\")\n",
    "    except Exception as e:\n",
    "        print(f\"เกิดข้อผิดพลาด: {str(e)}\")"
   ]
  },
  {
   "cell_type": "code",
   "execution_count": null,
   "id": "52867ea3-eef9-46de-83b0-027a61004d00",
   "metadata": {},
   "outputs": [],
   "source": []
  }
 ],
 "metadata": {
  "kernelspec": {
   "display_name": "Python [conda env:chulacv2024]",
   "language": "python",
   "name": "conda-env-chulacv2024-py"
  },
  "language_info": {
   "codemirror_mode": {
    "name": "ipython",
    "version": 3
   },
   "file_extension": ".py",
   "mimetype": "text/x-python",
   "name": "python",
   "nbconvert_exporter": "python",
   "pygments_lexer": "ipython3",
   "version": "3.11.11"
  }
 },
 "nbformat": 4,
 "nbformat_minor": 5
}
