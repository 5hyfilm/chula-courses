{
  "nbformat": 4,
  "nbformat_minor": 0,
  "metadata": {
    "kernelspec": {
      "display_name": "Python 3",
      "language": "python",
      "name": "python3"
    },
    "language_info": {
      "codemirror_mode": {
        "name": "ipython",
        "version": 3
      },
      "file_extension": ".py",
      "mimetype": "text/x-python",
      "name": "python",
      "nbconvert_exporter": "python",
      "pygments_lexer": "ipython3",
      "version": "3.6.2"
    },
    "colab": {
      "name": "00_web_scraping_with_str_functions_2021",
      "provenance": [],
      "collapsed_sections": [],
      "include_colab_link": true
    }
  },
  "cells": [
    {
      "cell_type": "markdown",
      "metadata": {
        "id": "view-in-github",
        "colab_type": "text"
      },
      "source": [
        "<a href=\"https://colab.research.google.com/github/5hyfilm/2110101ECN/blob/main/00_web_scraping_with_str_functions_2021.ipynb\" target=\"_parent\"><img src=\"https://colab.research.google.com/assets/colab-badge.svg\" alt=\"Open In Colab\"/></a>"
      ]
    },
    {
      "cell_type": "markdown",
      "metadata": {
        "id": "EsX9HcswkMhh"
      },
      "source": [
        "# Workshop 2.1 : web parsing with str functions\n",
        "We will crawl data from https://www.chula.ac.th/en/academics/faculties-and-schools/\n",
        "\n",
        "which is mirrored here https://comprogchula.github.io/\n",
        "\n",
        "<img src =\"https://github.com/Mixelon-tera/Workshop2_Datascraping_Resource/raw/master/source/intro_scraping.png\" width=\"800\">"
      ]
    },
    {
      "cell_type": "code",
      "metadata": {
        "id": "3pkX1wP3kMhi",
        "colab": {
          "base_uri": "https://localhost:8080/"
        },
        "outputId": "b0e2d441-1bd3-4d90-f63c-c47df14275f2"
      },
      "source": [
        "import urllib\n",
        "import urllib.request as urq\n",
        "import os\n",
        "\n",
        "dir_path = os.path.dirname(os.path.realpath(\"__file__\"))\n",
        "print(dir_path)"
      ],
      "execution_count": null,
      "outputs": [
        {
          "output_type": "stream",
          "name": "stdout",
          "text": [
            "/content\n"
          ]
        }
      ]
    },
    {
      "cell_type": "markdown",
      "metadata": {
        "id": "F59BwNdMieQw"
      },
      "source": [
        "### Tip! \n",
        " \n",
        "#### สำหรับเรื่อง string ในภาษา python ต้องระวังเรื่อง escape character เรามักจะใช้เครื่องหมาย \\ นำหน้า escape character ดังนี้\n",
        "\n",
        "<img src=\"https://i2.wp.com/www.techpaste.com/wp-content/uploads/2014/06/Escape_Characters_Python.jpg?fit=441%2C425&ssl=1\" width=400>"
      ]
    },
    {
      "cell_type": "markdown",
      "metadata": {
        "id": "9a5vdLTmkMhl"
      },
      "source": [
        "# TO DO 1 : Crawl \"Faculty Name\" [only 19 faculties] (1%)"
      ]
    },
    {
      "cell_type": "markdown",
      "metadata": {
        "id": "UGZp9qD8kMhm"
      },
      "source": [
        "Print all Faculty name in Chulalongkorn University\n",
        "and rint Number of Faculties like below image\n",
        "\n",
        "<img src=\"https://github.com/Mixelon-tera/Workshop2_Datascraping_Resource/raw/master/source/fac_name.png\" width=300>\n",
        "\n",
        "<img src=\"https://github.com/Mixelon-tera/Workshop2_Datascraping_Resource/raw/master/source/number_faculty.png\" width=300>"
      ]
    },
    {
      "cell_type": "code",
      "metadata": {
        "id": "tF2I-cQFkMhn",
        "colab": {
          "base_uri": "https://localhost:8080/"
        },
        "outputId": "c3f2e833-ded0-4522-fb93-832bba335364"
      },
      "source": [
        "### บางเว็บไซต์เราไม่สามารถใช้ urlopen ได้ตรงๆ เนื่องจากเว็บมีการป้องกันไว้ วิธีการแก้เบื้องต้นคือการใส่ header เพื่อหลอกเว็บไซต์ว่าเรากำลังใช้เว็บในการ request ข้อมูลเพจ ###\n",
        "### แต่ในการบ้านวันนี้เราสามารถใส่ url ลงใน urlopen ได้ตรงๆเลย เพราะเว็บไม่ได้มีการป้องกันไว้ ###\n",
        "\n",
        "url = 'https://comprogchula.github.io/'\n",
        "html = str(urq.urlopen(url).read().decode('utf-8'))\n",
        "\n",
        "# ---- TO DO 1 : Code Here ----\n",
        "f_count = html.count('html\">Faculty')\n",
        "f = 0\n",
        "n = 0\n",
        "\n",
        "while n < f_count:\n",
        "  t = html.find('class=\"text-title-1', f)\n",
        "  f = html.find('Faculty', t)\n",
        "  name = []\n",
        "  while html[f] != '<':\n",
        "    name.append(html[f])\n",
        "    f += 1\n",
        "  strname = ''.join(name)\n",
        "  n += 1\n",
        "  print(strname)\n",
        "print('Number of Faculties :', n)"
      ],
      "execution_count": null,
      "outputs": [
        {
          "output_type": "stream",
          "name": "stdout",
          "text": [
            "Faculty of Allied Health Sciences\n",
            "Faculty of Architecture\n",
            "Faculty of Arts\n",
            "Faculty of Commerce and Accountancy\n",
            "Faculty of Communication Arts\n",
            "Faculty of Dentistry\n",
            "Faculty of Economics\n",
            "Faculty of Education\n",
            "Faculty of Engineering\n",
            "Faculty of Fine and Applied Arts\n",
            "Faculty of Law\n",
            "Faculty of Medicine\n",
            "Faculty of Nursing\n",
            "Faculty of Pharmaceutical Sciences\n",
            "Faculty of Political Science\n",
            "Faculty of Psychology\n",
            "Faculty of Science\n",
            "Faculty of Sports Science\n",
            "Faculty of Veterinary Science\n",
            "Number of Faculties : 19\n"
          ]
        }
      ]
    },
    {
      "cell_type": "markdown",
      "metadata": {
        "id": "4J3G2YYEkMhq"
      },
      "source": [
        "# TO DO 2 : Crawl \"Faculty and Schools Image\" [21 faculties and schools] (1%)\n",
        "\n",
        "Print image's url and save image into folder 'faculty_image'\n",
        "\n",
        "#### Hint : save images into -> dir_path+\"/faculty_image\"+faculty_name\n",
        "\n",
        "<img src=\"https://github.com/pjumruspun/ComProg2021-Workshop/blob/main/Workshop-02-Scraping/images.png?raw=true\" width=600>\n",
        "\n",
        "<img src=\"https://github.com/pjumruspun/ComProg2021-Workshop/blob/main/Workshop-02-Scraping/images_dir.png?raw=true\" width=600>"
      ]
    },
    {
      "cell_type": "code",
      "metadata": {
        "id": "z7XGFlJ972N3"
      },
      "source": [
        "#สร้าง folder ชื่อ faculty_image\n",
        "\n",
        "!mkdir -p faculty_image"
      ],
      "execution_count": null,
      "outputs": []
    },
    {
      "cell_type": "markdown",
      "metadata": {
        "id": "6egHZ54tTMX2"
      },
      "source": [
        "### ขั้นตอนการอ่านและบันทึกไฟล์ภาพ\n",
        "\n",
        "1. อ่านภาพจากลิงค์\n",
        "* d = url.urlopen( [ลิงค์ของภาพ] )\n",
        "---\n",
        "2. สร้างไฟล์พร้อมระบุตำแหน่งที่จะเก็บไฟล์ภาพ \n",
        "* l = open( [ระบุตำแหน่งที่จะเก็บภาพ] )\n",
        "---\n",
        "\n",
        "3. บันทึกข้อมูลภาพไปยังตำแหน่งที่เก็บไฟล์ตามที่ระบุไว้ในข้อ (2.)\n",
        "* l.write(d.read())\n",
        "---\n",
        "\n",
        "4. ปิดไฟล์\n",
        "* l.close()\n",
        "---\n"
      ]
    },
    {
      "cell_type": "code",
      "metadata": {
        "id": "2JSrIjIHkMhq",
        "colab": {
          "base_uri": "https://localhost:8080/"
        },
        "outputId": "4b1d3347-136b-4e8f-92e1-2734d85f1a44"
      },
      "source": [
        "# ---- TO DO 2 : Code Here ----\n",
        "url = 'https://comprogchula.github.io/'\n",
        "html = str(urq.urlopen(url).read().decode('utf-8'))\n",
        "\n",
        "f_count = html.count('class=\"post-media\"')\n",
        "i = 0 \n",
        "n = 0\n",
        "while n < 22:\n",
        "  t = html.find('class=\"post-media\"', i)\n",
        "  i = html.find('data-src=\"', t)\n",
        "  name = []\n",
        "  while html[i+10] != '\"':\n",
        "    name.append(html[i+10])\n",
        "    i += 1\n",
        "  strname = ''.join(name)\n",
        "  n += 1\n",
        "  print(strname)\n",
        "  d = urq.urlopen(strname)\n",
        "  name = strname[37:]\n",
        "  I = open('/content/faculty_image/{}'.format(name), 'wb')\n",
        "  I.write(d.read())\n",
        "  I.close()\n",
        "print('Total images:', n)"
      ],
      "execution_count": null,
      "outputs": [
        {
          "output_type": "stream",
          "name": "stdout",
          "text": [
            "https://comprogchula.github.io/image/chula-faculty-allied-health-sciences-hero-desktop-1024x640.jpg\n",
            "https://comprogchula.github.io/image/architecture-hero-1440x900-1024x640.jpg\n",
            "https://comprogchula.github.io/image/chula-faculty-arts-hero-desktop-1024x640.jpg\n",
            "https://comprogchula.github.io/image/chula-faculty-commerce-and-accountancy-hero-desktop-1024x640.jpg\n",
            "https://comprogchula.github.io/image/chula-faculty-communication-arts-hero-desktop-1024x640.jpg\n",
            "https://comprogchula.github.io/image/chula-faculty-dentistry-hero-desktop-1024x640.jpg\n",
            "https://comprogchula.github.io/image/chula-faculty-economics-hero-desktop-1024x640.jpg\n",
            "https://comprogchula.github.io/image/chula-faculty-education-hero-desktop-1024x640.jpg\n",
            "https://comprogchula.github.io/image/chula-faculty-engineering-hero-desktop-1024x640.jpg\n",
            "https://comprogchula.github.io/image/faculty-of-fine-and-applied-arts-hero-desktop-1024x640.jpg\n",
            "https://comprogchula.github.io/image/chula-faculty-law-hero-desktop-1024x640.jpg\n",
            "https://comprogchula.github.io/image/chula-faculty-medicine-hero-desktop-1024x640.jpg\n",
            "https://comprogchula.github.io/image/chula-faculty-nursing-hero-desktop-1024x640.jpg\n",
            "https://comprogchula.github.io/image/chula-faculty-pharmaceutical-sciences-hero-desktop-01-1024x640.jpg\n",
            "https://comprogchula.github.io/image/chula-faculty-political-science-hero-desktop-1024x640.jpg\n",
            "https://comprogchula.github.io/image/chula-faculty-psychology-hero-desktop-1024x640.jpg\n",
            "https://comprogchula.github.io/image/chula-faculty-science-hero-desktop-2-1024x640.jpg\n",
            "https://comprogchula.github.io/image/chula-faculty-sports-science-hero-desktop-1024x640.jpg\n",
            "https://comprogchula.github.io/image/chula-faculty-veterinary-science-hero-desktop-1024x640.jpg\n",
            "https://comprogchula.github.io/image/school-of-integrated-building-1024x640.jpg\n",
            "https://comprogchula.github.io/image/school-of-agricultural-hero-desktop-1024x640.jpg\n",
            "https://comprogchula.github.io/image/chula-faculty-graduate-school-hero-desktop-1024x640.jpg\n",
            "Total images: 22\n"
          ]
        }
      ]
    },
    {
      "cell_type": "markdown",
      "metadata": {
        "id": "wu9Lq8EYm_4O"
      },
      "source": [
        "# TO DO 3 : Crawl \"Faculty Telephone Number\" [19 Faculties] (1%)\n",
        "\n",
        "Print Tel. of each faculty in Chulalongkorn University\n",
        "\n",
        "*** Only Faculty ***\n",
        "\n",
        "<img src=\"https://github.com/pjumruspun/ComProg2021-Workshop/blob/main/Workshop-02-Scraping/tel.png?raw=true\" width=450>"
      ]
    },
    {
      "cell_type": "code",
      "metadata": {
        "id": "N45f2HN5zQAr"
      },
      "source": [
        "# ---- TO DO 3 : Code Here ----\n",
        "\n",
        "def connect_info(url):\n",
        "  html = str(urq.urlopen(url).read().decode('utf-8'))\n",
        "  url_name = url[31:].replace('.html', '')\n",
        "  # ---- TO DO 3 : Code Here ----\n",
        "  f_count = html.count('html\">Faculty')\n",
        "  f = 0\n",
        "  n = 0\n",
        "\n",
        "  while n < 1:\n",
        "    t = html.find('<div id=\"wpcf-field-custom-content-contact-2\"', f)\n",
        "    f = html.find('+66', t)\n",
        "    name = []\n",
        "    while html[f] != '<':\n",
        "      name.append(html[f])\n",
        "      f += 1\n",
        "    strname = ''.join(name).replace('>', '')\n",
        "    n += 1\n",
        "    print(url_name)\n",
        "    print('\\t', strname)"
      ],
      "execution_count": null,
      "outputs": []
    },
    {
      "cell_type": "code",
      "metadata": {
        "id": "7CUSb9KvkMht"
      },
      "source": [
        "url = 'https://comprogchula.github.io/'\n",
        "html = str(urq.urlopen(url).read().decode('utf-8'))\n",
        "\n",
        "f_count = html.count('html\">Faculty')\n",
        "f = 0 \n",
        "n = 0\n",
        "all_url = []\n",
        "\n",
        "while n < f_count:\n",
        "  x = html.find('class=\"post-media\"',f)\n",
        "  f = html.find('href',x)\n",
        "  name = []\n",
        "  while html[f+6] != '\"':\n",
        "    name.append(html[f+6])\n",
        "    f += 1\n",
        "  strname = ''.join(name)\n",
        "  all_url.append(strname)\n",
        "  n += 1"
      ],
      "execution_count": null,
      "outputs": []
    },
    {
      "cell_type": "code",
      "metadata": {
        "colab": {
          "base_uri": "https://localhost:8080/"
        },
        "id": "6hRYu9Y89Er0",
        "outputId": "e80b7f6f-52ff-4374-ae4f-7bcfe03b6a79"
      },
      "source": [
        "for i in all_url:\n",
        "  connect_info(i)"
      ],
      "execution_count": null,
      "outputs": [
        {
          "output_type": "stream",
          "name": "stdout",
          "text": [
            "faculty-of-allied-health-sciences-chulalongkorn-university\n",
            "\t +66 (0) 2218 1065\n",
            "faculty-of-architecture-chulalongkorn-university\n",
            "\t +66 2218 4302\n",
            "faculty-of-arts-chulalongkorn-university\n",
            "\t +66 2218 4870\n",
            "faculty-of-commerce-and-accountancy-chulalongkorn-university\n",
            "\t +66 2218 5758\n",
            "faculty-of-communication-arts-chulalongkorn-university\n",
            "\t +66 2218 2163\n",
            "faculty-of-dentistry-chulalongkorn-university\n",
            "\t +66 2218 8635, +66 2218 8653, +66 2218 9016\n",
            "faculty-of-economics-chulalongkorn-university\n",
            "\t +66 2218 6259\n",
            "faculty-of-education-chulalongkorn-university\n",
            "\t +66 2218 2565 ext. 6760\n",
            "faculty-of-engineering-chulalongkorn-university\n",
            "\t +66 2218 6337\n",
            "faculty-of-fine-and-applied-arts-chulalongkorn-university\n",
            "\t +66 2218 4583\n",
            "faculty-of-law-chulalongkorn-university\n",
            "\t +66 2218 2017\n",
            "faculty-of-medicine-chulalongkorn-university\n",
            "\t +66 2256 4288, +66 2256 4000 ext. 3404\n",
            "faculty-of-nursing-chulalongkorn-university\n",
            "\t +66 2218 1131\n",
            "faculty-of-pharmaceutical-sciences-chulalongkorn-university\n",
            "\t +66 2215 0871 – 7 (Secretary office)\n",
            "faculty-of-political-science-chulalongkorn-university\n",
            "\t +66 2218 7250 – 3\n",
            "faculty-of-psychology-chulalongkorn-university\n",
            "\t +66 2218 1189\n",
            "faculty-of-science-chulalongkorn-university\n",
            "\t +66 2218 5000\n",
            "faculty-of-sports-science-chulalongkorn-university\n",
            "\t +66 2218 1032\n",
            "faculty-of-veterinary-science-chulalongkorn-university\n",
            "\t +66 2218 9771 – 3\n"
          ]
        }
      ]
    },
    {
      "cell_type": "markdown",
      "metadata": {
        "id": "O6qXu-BSkMhv"
      },
      "source": [
        "# TO DO 4: Crawl faculty of CP (1%)\n",
        "\n",
        "Current Faculty Members and Retired Faculty Members\n",
        "\n",
        "from https://www.cp.eng.chula.ac.th/en/about/faculty/\n",
        "\n",
        "*** Crawl only active members that have image ***\n",
        "\n",
        "**hint:** There are multiple strategies. To make it simple, we also accept a solution that list Dr. PITCHAYA as well. Another way is to check whether the image is the same filecmp.cmp https://docs.python.org/3/library/filecmp.html can do this. Or you can use if statements to exclude known exceptions.\n",
        "\n",
        "<img src=\"https://github.com/pjumruspun/ComProg2021-Workshop/blob/main/Workshop-02-Scraping/aj_active.png?raw=true\">\n",
        "\n",
        "<img src=\"https://github.com/pjumruspun/ComProg2021-Workshop/blob/main/Workshop-02-Scraping/aj_inactive.png?raw=true\">"
      ]
    },
    {
      "cell_type": "code",
      "metadata": {
        "colab": {
          "base_uri": "https://localhost:8080/"
        },
        "id": "fpNcpbyuFm30",
        "outputId": "75078e5d-fec5-4e01-87a9-1d85e5222abd"
      },
      "source": [
        "url = 'https://www.cp.eng.chula.ac.th/en/about/faculty/'\n",
        "html = str(urq.urlopen(url).read().decode('utf-8'))\n",
        "\n",
        "# ---- TO DO 4 : Code Here ----\n",
        "d = 0\n",
        "n = 0\n",
        "print('Current Faculty Members')\n",
        "while n < 37:\n",
        "  a = html.find('class=\"instructorRow\"',d)\n",
        "  d = html.find('<p>',a)\n",
        "\n",
        "  name = []\n",
        "  for i in range(100):\n",
        "    name.append(html[d+3])\n",
        "    d += 1\n",
        "  strname = ''.join(name)\n",
        "  print(strname.strip())\n",
        "  n += 1"
      ],
      "execution_count": null,
      "outputs": [
        {
          "output_type": "stream",
          "name": "stdout",
          "text": [
            "Current Faculty Members\n",
            "PROF. DR. BOONSERM KIJSIRIKUL\n",
            "PROF. DR. PRABHAS CHONGSTITVATANA\n",
            "ASSOC. PROF. DR. ATHASIT SURARERKS\n",
            "ASSOC. PROF. DR. ATIWONG SUCHATO\n",
            "ASSOC. PROF. DR. CHOTIRAT RATANAMAHATANA\n",
            "ASSOC. PROF. DR. KRERK PIROMSOPA\n",
            "ASSOC. PROF. DR. KULTIDA ROJVIBOONCHAI\n",
            "ASSOC. PROF. DR. NUTTAPONG CHENTANEZ\n",
            "ASSOC. PROF. DR. PORNSIRI MUENCHAISRI\n",
            "ASSOC. PROF. DR. PROADPRAN PUNYABUKKANA\n",
            "ASSOC. PROF. DR. SETHA PAN-NGUM\n",
            "ASSOC. PROF. DR. SOMCHAI PRASITJUTRAKUL\n",
            "ASSOC. PROF. DR. TARATIP SUWANNASART\n",
            "ASSOC. PROF. DR. THANARAT CHALIDABHONGSE\n",
            "ASSOC. PROF. DR. TWITTIE SENIVONGSE\n",
            "ASSOC. PROF. DR. VISHNU KOTRAJARAS\n",
            "ASSOC. PROF. DR. WIWAT VATANAWOOD\n",
            "ASSOC. PROF. DR. YACHAI LIMPIYAKORN\n",
            "ASST. PROF. DR. ARTHIT THONGTAK\n",
            "ASST. PROF. DR. ATTAWITH SUDSANG\n",
            "ASST. PROF. DR. NATAWUT NUPAIROJ\n",
            "ASST. PROF. DR. NATTEE NIPARNAN\n",
            "ASST. PROF. DR. PEERAPON VATEEKUL\n",
            "ASST. PROF. DR. PIZZANU KANONGCHAIYOS\n",
            "ASST. PROF. DR. SUKREE SINTHUPINYO\n",
            "ASST. PROF. DR. VEERA MUANGSIN\n",
            "ASST. PROF. CHATE PATANOTHAI\n",
            "ASST. PROF. NAKORNTHIP PROMPOON\n",
            "DR.  DUANGDAO   WICHADAKUL\n",
            "DR. EKAPOL  CHUANGSUWANICH\n",
            "Dr. JESSADA THUTKAWKORAPIN\n",
            "DR. KUNWADEE  SRIPANIDKULCHAI\n",
            "Dr. NUENGWONG TUAYCHAROEN\n",
            "DR. PITCHAYA  SITTHI-AMORN\n",
            "DR. PITTIPOL  KANTAVAT\n",
            "DR. PUNNARAI  SIRICHAROEN\n",
            "THONGCHAI ROJAKANGSADAN\n"
          ]
        }
      ]
    },
    {
      "cell_type": "code",
      "metadata": {
        "colab": {
          "base_uri": "https://localhost:8080/"
        },
        "id": "42VPGVmDDzHn",
        "outputId": "0486a0c0-6d01-4e17-d548-4dd9daae102a"
      },
      "source": [
        "html.count('Current Faculty Members')"
      ],
      "execution_count": null,
      "outputs": [
        {
          "output_type": "execute_result",
          "data": {
            "text/plain": [
              "1"
            ]
          },
          "metadata": {},
          "execution_count": 9
        }
      ]
    },
    {
      "cell_type": "markdown",
      "metadata": {
        "id": "fmL5uX5RWp2f"
      },
      "source": [
        "# Optional\n",
        "\n",
        "ทดลองดึงข้อมูลจาก dek-d.com ดูสิ :)"
      ]
    },
    {
      "cell_type": "code",
      "metadata": {
        "id": "6r8NQmAYkMhy"
      },
      "source": [
        "dd_url = 'https://www.dek-d.com/home/writer/'"
      ],
      "execution_count": null,
      "outputs": []
    },
    {
      "cell_type": "markdown",
      "metadata": {
        "id": "kAFkUJU0YCaF"
      },
      "source": [
        "ลองรันโค๊ดบรรทัดด้านล่างดู"
      ]
    },
    {
      "cell_type": "code",
      "metadata": {
        "id": "GVrU9jG0XjvF",
        "colab": {
          "base_uri": "https://localhost:8080/",
          "height": 307
        },
        "outputId": "5668011a-b601-4450-bb1c-a2374833b33b"
      },
      "source": [
        "html = str(urq.urlopen(dd_url).read().decode('utf-8'))"
      ],
      "execution_count": null,
      "outputs": [
        {
          "output_type": "error",
          "ename": "HTTPError",
          "evalue": "ignored",
          "traceback": [
            "\u001b[0;31m---------------------------------------------------------------------------\u001b[0m",
            "\u001b[0;31mHTTPError\u001b[0m                                 Traceback (most recent call last)",
            "\u001b[0;32m<ipython-input-11-8c9c7f87ef16>\u001b[0m in \u001b[0;36m<module>\u001b[0;34m()\u001b[0m\n\u001b[0;32m----> 1\u001b[0;31m \u001b[0mhtml\u001b[0m \u001b[0;34m=\u001b[0m \u001b[0mstr\u001b[0m\u001b[0;34m(\u001b[0m\u001b[0murq\u001b[0m\u001b[0;34m.\u001b[0m\u001b[0murlopen\u001b[0m\u001b[0;34m(\u001b[0m\u001b[0mdd_url\u001b[0m\u001b[0;34m)\u001b[0m\u001b[0;34m.\u001b[0m\u001b[0mread\u001b[0m\u001b[0;34m(\u001b[0m\u001b[0;34m)\u001b[0m\u001b[0;34m.\u001b[0m\u001b[0mdecode\u001b[0m\u001b[0;34m(\u001b[0m\u001b[0;34m'utf-8'\u001b[0m\u001b[0;34m)\u001b[0m\u001b[0;34m)\u001b[0m\u001b[0;34m\u001b[0m\u001b[0;34m\u001b[0m\u001b[0m\n\u001b[0m",
            "\u001b[0;32m/usr/lib/python3.7/urllib/request.py\u001b[0m in \u001b[0;36murlopen\u001b[0;34m(url, data, timeout, cafile, capath, cadefault, context)\u001b[0m\n\u001b[1;32m    220\u001b[0m     \u001b[0;32melse\u001b[0m\u001b[0;34m:\u001b[0m\u001b[0;34m\u001b[0m\u001b[0;34m\u001b[0m\u001b[0m\n\u001b[1;32m    221\u001b[0m         \u001b[0mopener\u001b[0m \u001b[0;34m=\u001b[0m \u001b[0m_opener\u001b[0m\u001b[0;34m\u001b[0m\u001b[0;34m\u001b[0m\u001b[0m\n\u001b[0;32m--> 222\u001b[0;31m     \u001b[0;32mreturn\u001b[0m \u001b[0mopener\u001b[0m\u001b[0;34m.\u001b[0m\u001b[0mopen\u001b[0m\u001b[0;34m(\u001b[0m\u001b[0murl\u001b[0m\u001b[0;34m,\u001b[0m \u001b[0mdata\u001b[0m\u001b[0;34m,\u001b[0m \u001b[0mtimeout\u001b[0m\u001b[0;34m)\u001b[0m\u001b[0;34m\u001b[0m\u001b[0;34m\u001b[0m\u001b[0m\n\u001b[0m\u001b[1;32m    223\u001b[0m \u001b[0;34m\u001b[0m\u001b[0m\n\u001b[1;32m    224\u001b[0m \u001b[0;32mdef\u001b[0m \u001b[0minstall_opener\u001b[0m\u001b[0;34m(\u001b[0m\u001b[0mopener\u001b[0m\u001b[0;34m)\u001b[0m\u001b[0;34m:\u001b[0m\u001b[0;34m\u001b[0m\u001b[0;34m\u001b[0m\u001b[0m\n",
            "\u001b[0;32m/usr/lib/python3.7/urllib/request.py\u001b[0m in \u001b[0;36mopen\u001b[0;34m(self, fullurl, data, timeout)\u001b[0m\n\u001b[1;32m    529\u001b[0m         \u001b[0;32mfor\u001b[0m \u001b[0mprocessor\u001b[0m \u001b[0;32min\u001b[0m \u001b[0mself\u001b[0m\u001b[0;34m.\u001b[0m\u001b[0mprocess_response\u001b[0m\u001b[0;34m.\u001b[0m\u001b[0mget\u001b[0m\u001b[0;34m(\u001b[0m\u001b[0mprotocol\u001b[0m\u001b[0;34m,\u001b[0m \u001b[0;34m[\u001b[0m\u001b[0;34m]\u001b[0m\u001b[0;34m)\u001b[0m\u001b[0;34m:\u001b[0m\u001b[0;34m\u001b[0m\u001b[0;34m\u001b[0m\u001b[0m\n\u001b[1;32m    530\u001b[0m             \u001b[0mmeth\u001b[0m \u001b[0;34m=\u001b[0m \u001b[0mgetattr\u001b[0m\u001b[0;34m(\u001b[0m\u001b[0mprocessor\u001b[0m\u001b[0;34m,\u001b[0m \u001b[0mmeth_name\u001b[0m\u001b[0;34m)\u001b[0m\u001b[0;34m\u001b[0m\u001b[0;34m\u001b[0m\u001b[0m\n\u001b[0;32m--> 531\u001b[0;31m             \u001b[0mresponse\u001b[0m \u001b[0;34m=\u001b[0m \u001b[0mmeth\u001b[0m\u001b[0;34m(\u001b[0m\u001b[0mreq\u001b[0m\u001b[0;34m,\u001b[0m \u001b[0mresponse\u001b[0m\u001b[0;34m)\u001b[0m\u001b[0;34m\u001b[0m\u001b[0;34m\u001b[0m\u001b[0m\n\u001b[0m\u001b[1;32m    532\u001b[0m \u001b[0;34m\u001b[0m\u001b[0m\n\u001b[1;32m    533\u001b[0m         \u001b[0;32mreturn\u001b[0m \u001b[0mresponse\u001b[0m\u001b[0;34m\u001b[0m\u001b[0;34m\u001b[0m\u001b[0m\n",
            "\u001b[0;32m/usr/lib/python3.7/urllib/request.py\u001b[0m in \u001b[0;36mhttp_response\u001b[0;34m(self, request, response)\u001b[0m\n\u001b[1;32m    639\u001b[0m         \u001b[0;32mif\u001b[0m \u001b[0;32mnot\u001b[0m \u001b[0;34m(\u001b[0m\u001b[0;36m200\u001b[0m \u001b[0;34m<=\u001b[0m \u001b[0mcode\u001b[0m \u001b[0;34m<\u001b[0m \u001b[0;36m300\u001b[0m\u001b[0;34m)\u001b[0m\u001b[0;34m:\u001b[0m\u001b[0;34m\u001b[0m\u001b[0;34m\u001b[0m\u001b[0m\n\u001b[1;32m    640\u001b[0m             response = self.parent.error(\n\u001b[0;32m--> 641\u001b[0;31m                 'http', request, response, code, msg, hdrs)\n\u001b[0m\u001b[1;32m    642\u001b[0m \u001b[0;34m\u001b[0m\u001b[0m\n\u001b[1;32m    643\u001b[0m         \u001b[0;32mreturn\u001b[0m \u001b[0mresponse\u001b[0m\u001b[0;34m\u001b[0m\u001b[0;34m\u001b[0m\u001b[0m\n",
            "\u001b[0;32m/usr/lib/python3.7/urllib/request.py\u001b[0m in \u001b[0;36merror\u001b[0;34m(self, proto, *args)\u001b[0m\n\u001b[1;32m    567\u001b[0m         \u001b[0;32mif\u001b[0m \u001b[0mhttp_err\u001b[0m\u001b[0;34m:\u001b[0m\u001b[0;34m\u001b[0m\u001b[0;34m\u001b[0m\u001b[0m\n\u001b[1;32m    568\u001b[0m             \u001b[0margs\u001b[0m \u001b[0;34m=\u001b[0m \u001b[0;34m(\u001b[0m\u001b[0mdict\u001b[0m\u001b[0;34m,\u001b[0m \u001b[0;34m'default'\u001b[0m\u001b[0;34m,\u001b[0m \u001b[0;34m'http_error_default'\u001b[0m\u001b[0;34m)\u001b[0m \u001b[0;34m+\u001b[0m \u001b[0morig_args\u001b[0m\u001b[0;34m\u001b[0m\u001b[0;34m\u001b[0m\u001b[0m\n\u001b[0;32m--> 569\u001b[0;31m             \u001b[0;32mreturn\u001b[0m \u001b[0mself\u001b[0m\u001b[0;34m.\u001b[0m\u001b[0m_call_chain\u001b[0m\u001b[0;34m(\u001b[0m\u001b[0;34m*\u001b[0m\u001b[0margs\u001b[0m\u001b[0;34m)\u001b[0m\u001b[0;34m\u001b[0m\u001b[0;34m\u001b[0m\u001b[0m\n\u001b[0m\u001b[1;32m    570\u001b[0m \u001b[0;34m\u001b[0m\u001b[0m\n\u001b[1;32m    571\u001b[0m \u001b[0;31m# XXX probably also want an abstract factory that knows when it makes\u001b[0m\u001b[0;34m\u001b[0m\u001b[0;34m\u001b[0m\u001b[0;34m\u001b[0m\u001b[0m\n",
            "\u001b[0;32m/usr/lib/python3.7/urllib/request.py\u001b[0m in \u001b[0;36m_call_chain\u001b[0;34m(self, chain, kind, meth_name, *args)\u001b[0m\n\u001b[1;32m    501\u001b[0m         \u001b[0;32mfor\u001b[0m \u001b[0mhandler\u001b[0m \u001b[0;32min\u001b[0m \u001b[0mhandlers\u001b[0m\u001b[0;34m:\u001b[0m\u001b[0;34m\u001b[0m\u001b[0;34m\u001b[0m\u001b[0m\n\u001b[1;32m    502\u001b[0m             \u001b[0mfunc\u001b[0m \u001b[0;34m=\u001b[0m \u001b[0mgetattr\u001b[0m\u001b[0;34m(\u001b[0m\u001b[0mhandler\u001b[0m\u001b[0;34m,\u001b[0m \u001b[0mmeth_name\u001b[0m\u001b[0;34m)\u001b[0m\u001b[0;34m\u001b[0m\u001b[0;34m\u001b[0m\u001b[0m\n\u001b[0;32m--> 503\u001b[0;31m             \u001b[0mresult\u001b[0m \u001b[0;34m=\u001b[0m \u001b[0mfunc\u001b[0m\u001b[0;34m(\u001b[0m\u001b[0;34m*\u001b[0m\u001b[0margs\u001b[0m\u001b[0;34m)\u001b[0m\u001b[0;34m\u001b[0m\u001b[0;34m\u001b[0m\u001b[0m\n\u001b[0m\u001b[1;32m    504\u001b[0m             \u001b[0;32mif\u001b[0m \u001b[0mresult\u001b[0m \u001b[0;32mis\u001b[0m \u001b[0;32mnot\u001b[0m \u001b[0;32mNone\u001b[0m\u001b[0;34m:\u001b[0m\u001b[0;34m\u001b[0m\u001b[0;34m\u001b[0m\u001b[0m\n\u001b[1;32m    505\u001b[0m                 \u001b[0;32mreturn\u001b[0m \u001b[0mresult\u001b[0m\u001b[0;34m\u001b[0m\u001b[0;34m\u001b[0m\u001b[0m\n",
            "\u001b[0;32m/usr/lib/python3.7/urllib/request.py\u001b[0m in \u001b[0;36mhttp_error_default\u001b[0;34m(self, req, fp, code, msg, hdrs)\u001b[0m\n\u001b[1;32m    647\u001b[0m \u001b[0;32mclass\u001b[0m \u001b[0mHTTPDefaultErrorHandler\u001b[0m\u001b[0;34m(\u001b[0m\u001b[0mBaseHandler\u001b[0m\u001b[0;34m)\u001b[0m\u001b[0;34m:\u001b[0m\u001b[0;34m\u001b[0m\u001b[0;34m\u001b[0m\u001b[0m\n\u001b[1;32m    648\u001b[0m     \u001b[0;32mdef\u001b[0m \u001b[0mhttp_error_default\u001b[0m\u001b[0;34m(\u001b[0m\u001b[0mself\u001b[0m\u001b[0;34m,\u001b[0m \u001b[0mreq\u001b[0m\u001b[0;34m,\u001b[0m \u001b[0mfp\u001b[0m\u001b[0;34m,\u001b[0m \u001b[0mcode\u001b[0m\u001b[0;34m,\u001b[0m \u001b[0mmsg\u001b[0m\u001b[0;34m,\u001b[0m \u001b[0mhdrs\u001b[0m\u001b[0;34m)\u001b[0m\u001b[0;34m:\u001b[0m\u001b[0;34m\u001b[0m\u001b[0;34m\u001b[0m\u001b[0m\n\u001b[0;32m--> 649\u001b[0;31m         \u001b[0;32mraise\u001b[0m \u001b[0mHTTPError\u001b[0m\u001b[0;34m(\u001b[0m\u001b[0mreq\u001b[0m\u001b[0;34m.\u001b[0m\u001b[0mfull_url\u001b[0m\u001b[0;34m,\u001b[0m \u001b[0mcode\u001b[0m\u001b[0;34m,\u001b[0m \u001b[0mmsg\u001b[0m\u001b[0;34m,\u001b[0m \u001b[0mhdrs\u001b[0m\u001b[0;34m,\u001b[0m \u001b[0mfp\u001b[0m\u001b[0;34m)\u001b[0m\u001b[0;34m\u001b[0m\u001b[0;34m\u001b[0m\u001b[0m\n\u001b[0m\u001b[1;32m    650\u001b[0m \u001b[0;34m\u001b[0m\u001b[0m\n\u001b[1;32m    651\u001b[0m \u001b[0;32mclass\u001b[0m \u001b[0mHTTPRedirectHandler\u001b[0m\u001b[0;34m(\u001b[0m\u001b[0mBaseHandler\u001b[0m\u001b[0;34m)\u001b[0m\u001b[0;34m:\u001b[0m\u001b[0;34m\u001b[0m\u001b[0;34m\u001b[0m\u001b[0m\n",
            "\u001b[0;31mHTTPError\u001b[0m: HTTP Error 403: Forbidden"
          ]
        }
      ]
    },
    {
      "cell_type": "markdown",
      "metadata": {
        "id": "O9G_ZbZsYMUh"
      },
      "source": [
        "จะพบว่าเกิด error ขึ้นเนื่องจากเว็บ dek-d มีการป้องกันไว้ \n",
        "\n",
        "หากเราต้อง scrape จะต้องส่ง user-agent เช่น Web-browser, Accept-Charset, Accept-Encoding เป็นต้น เพื่อหลอกเว็บไซต์ว่าเรากำลังใช้เว็บในการ request ข้อมูลเพจ"
      ]
    },
    {
      "cell_type": "code",
      "metadata": {
        "id": "WeVk4zsWZLZ0"
      },
      "source": [
        "headers={'User-Agent': 'Mozilla/5.0 (Windows; U; Windows NT 5.1; en-US; rv:1.9.0.7) Gecko/2009021910 Firefox/3.0.7'} \n",
        "\n",
        "\n",
        "dd_request = urq.Request(dd_url,None,headers) \n",
        "dd_html = str(urq.urlopen(dd_request).read().decode('utf-8'))"
      ],
      "execution_count": null,
      "outputs": []
    },
    {
      "cell_type": "markdown",
      "metadata": {
        "id": "HNO0U9aYf0Id"
      },
      "source": [
        "ลองดึงข้อมูล title นิยายจากเว็บ https://www.dek-d.com/home/writer/ ดูสิ!!!\n",
        "\n",
        "\n",
        "#### ตัวอย่าง output \n",
        "\n",
        "<img src=\"https://github.com/Mixelon-tera/Workshop2_Datascraping_Resource/raw/master/source/dek_d_fiction.png\" width=400>"
      ]
    },
    {
      "cell_type": "code",
      "metadata": {
        "id": "OQjDoNJKXESX"
      },
      "source": [
        "# ---- OPTIONAL : Code Here ----\n",
        "\n",
        "\n",
        "\n",
        "\n",
        "\n",
        "\n",
        "\n",
        "\n",
        "\n",
        "\n",
        "\n",
        "\n"
      ],
      "execution_count": null,
      "outputs": []
    },
    {
      "cell_type": "code",
      "metadata": {
        "id": "sGP98yANbpsl"
      },
      "source": [
        ""
      ],
      "execution_count": null,
      "outputs": []
    }
  ]
}