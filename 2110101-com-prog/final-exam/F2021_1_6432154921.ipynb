{
  "nbformat": 4,
  "nbformat_minor": 0,
  "metadata": {
    "colab": {
      "name": "F2021-1-6432154921.ipynb",
      "provenance": [],
      "collapsed_sections": []
    },
    "kernelspec": {
      "display_name": "Python 3",
      "name": "python3"
    },
    "language_info": {
      "name": "python"
    }
  },
  "cells": [
    {
      "cell_type": "markdown",
      "metadata": {
        "id": "L9hNibotW3Zh"
      },
      "source": [
        "<center>\n",
        "<h1>2110101 Computer Programming</h1>\n",
        "ข้อสอบปลายภาค ภาคการศึกษาต้น ปีการศึกษา 2564<br>2 ธันวาคม 2564 (8:30 - 11:30น.)\n",
        "</center>\n",
        "<hr>\n",
        "\n",
        "- ข้อมูลแบ่งเป็น คะแนนเต็ม 110 (แถม 10 คะแนน)\n",
        " - ตอนที่ 1 (20 คะแนน)\n",
        "   - คำถามเติมคำตอบ จำนวน 11 ข้อ\n",
        " - ตอนที่ 2 (90 คะแนน) โจทย์เขียนโปรแกรม 6 ข้อ ข้อละ 15 คะแนน\n",
        "- อนุญาตให้เปิดตำราและค้นข้อมูลได้\n",
        "- ห้ามสื่อสารกับผู้อื่น (ยกเว้นอาจารย์ผู้สอนและผู้คุมสอบ)\n",
        "- เมื่อหมดเวลา ให้บันทึกแฟ้ม และหยุดการพิมพ์ใด ๆ ทั้งสิ้น\n",
        "- นิสิตที่กระทำผิดเกี่ยวกับการสอบ ตามข้อบังคับจุฬาลงกรณ์มหาวิทยาลัย มีโทษคือได้รับสัญลักษณ์ F ในรายวิชานี้ และอาจพิจารณาให้ถอนรายวิชาอื่นที่ลงทะเบียนไว้ ในภาคการศึกษานี้"
      ]
    },
    {
      "cell_type": "code",
      "metadata": {
        "cellView": "form",
        "id": "kEdA986EXF2v"
      },
      "source": [
        "#@title เติมข้อมูลข้างล่างนี้ให้สมบูรณ์\n",
        "#@markdown ข้าพเจ้ายอมรับและยินดีปฏิบัติตามระเบียบการสอบ ข้าพเจ้ายืนยันว่าเป็นผู้ทำข้อสอบนี้ด้วยตนเองโดยมิได้รับความช่วยเหลือ หรือให้ความช่วยเหลือในการทำข้อสอบนี้ \n",
        "\n",
        "#@markdown พิมพ์ชื่อและนามสกุลในช่องว่างข้างล่างนี้\n",
        "\n",
        "ลงชื่อ = ' \\u0E27\\u0E23\\u0E31\\u0E19\\u0E18\\u0E23 \\u0E08\\u0E31\\u0E19\\u0E17\\u0E23\\u0E4C\\u0E2A\\u0E27\\u0E48\\u0E32\\u0E07' #@param {type:\"string\"}"
      ],
      "execution_count": null,
      "outputs": []
    },
    {
      "cell_type": "markdown",
      "metadata": {
        "id": "8TMfr6aNybA9"
      },
      "source": [
        "# ตอนที่ 1: คำถามเติมคำตอบ\n",
        "6432154921"
      ]
    },
    {
      "cell_type": "markdown",
      "metadata": {
        "id": "j6SNSqR4ybA-"
      },
      "source": [
        "### คำถาม 1/11\n",
        "<pre>\n",
        "class A: \n",
        "    def __init__(self, a, b):\n",
        "        self.s = [a,b]\n",
        "    def __str__(self):\n",
        "        return ':'.join([(' '+str(e))[-2:] for e in self.s])\n",
        "    def f(self):\n",
        "        return ______________________\n",
        "\n",
        "a1 = A(9,1)\n",
        "a2 = a1.f()\n",
        "a3 = a2.f()\n",
        "print(a1)\n",
        "print(a2)\n",
        "print(a3)\n",
        "</pre>\n",
        "จะต้องเติมคำสั่งอะไรในช่องว่างที่ขีดเส้นใต้ของโปรแกรมข้างบนนี้ หลังจากให้ทำงาน แล้วผลลัพธ์ที่ได้เป็นดังแสดงข้างล่างนี้\n",
        "<pre>\n",
        " 9: 1\n",
        " 1: 9\n",
        " 9: 1\n",
        "</pre>"
      ]
    },
    {
      "cell_type": "code",
      "metadata": {
        "cellView": "form",
        "id": "j0Wj4otDybA_"
      },
      "source": [
        "#@title คำตอบ 1/11\n",
        "#@markdown เติมคำตอบแทนคำว่า None ข้างล่างนี้\n",
        "answer = None #@param {type:\"raw\"}"
      ],
      "execution_count": null,
      "outputs": []
    },
    {
      "cell_type": "markdown",
      "metadata": {
        "id": "Og-wIpDjybA_"
      },
      "source": [
        "### คำถาม 2/11\n",
        "ให้ `d` เป็น dict ที่เก็บข้อมูล `{ชื่อ: ลิสต์ของเลขประจำตัวนิสิต}` จงเขียนคำสั่งในช่องว่างที่ขีดเส้นใต้ของฟังก์ชันข้างล่างนี้ เพื่อให้ฟังก์ชันนี้คืน list of lists ที่เก็บข้อมูล `[ [เลขประจำตัวนิสิต,ชื่อ], ...]`\n",
        "\n",
        "หมายเหตุ: เลขประจำตัวหนึ่งต้องมีแค่ชื่อเดียว แต่ชื่อหนึ่งมีหลายเลขประจำตัวได้ (คนชื่อซ้ำกันมีมากมาย)\n",
        "\n",
        "<pre>\n",
        "def f(d):\n",
        "    x = []\n",
        "    for k in d:\n",
        "        for e in d[k]:\n",
        "            ______________\n",
        "    return x\n",
        "</pre>"
      ]
    },
    {
      "cell_type": "code",
      "metadata": {
        "cellView": "form",
        "id": "EFbWKqNQybA_"
      },
      "source": [
        "#@title คำตอบ 2/11\n",
        "#@markdown เติมคำตอบแทนคำว่า None ข้างล่างนี้\n",
        "answer = x.append([k, e]) #@param {type:\"raw\"}"
      ],
      "execution_count": null,
      "outputs": []
    },
    {
      "cell_type": "markdown",
      "metadata": {
        "id": "99ApbVP_ybBA"
      },
      "source": [
        "### คำถาม 3/11\n",
        "<pre>\n",
        "class A: \n",
        "    def __init__(self, a, b):\n",
        "        self.s = [a,b]\n",
        "    def __str__(self):\n",
        "        return ':'.join([(' '+str(e))[-2:] for e in self.s])\n",
        "    def __lt__(self, a):\n",
        "        return _______________________\n",
        "\n",
        "a1 = A(9,0)\n",
        "a2 = A(-9,-1)\n",
        "a3 = A(3,4)\n",
        "a4 = A(-8,5)\n",
        "for a in sorted([a1,a2,a3,a4]):\n",
        "    print(a)\n",
        "</pre>\n",
        "จะต้องเติมคำสั่งอะไรในช่องว่างที่ขีดเส้นใต้ของโปรแกรมข้างบนนี้ หลังจากให้ทำงาน แล้วผลลัพธ์ที่ได้เป็นดังแสดงข้างล่างนี้\n",
        "<pre>\n",
        " 3: 4\n",
        "-9:-1\n",
        " 9: 0\n",
        "-8: 5\n",
        "</pre>"
      ]
    },
    {
      "cell_type": "code",
      "metadata": {
        "cellView": "form",
        "id": "uHEMIkVZybBB"
      },
      "source": [
        "#@title คำตอบ 3/11\n",
        "#@markdown เติมคำตอบแทนคำว่า None ข้างล่างนี้\n",
        "answer = None #@param {type:\"raw\"}"
      ],
      "execution_count": null,
      "outputs": []
    },
    {
      "cell_type": "markdown",
      "metadata": {
        "id": "T6XULjW7ybBC"
      },
      "source": [
        "### คำถาม 4/11\n",
        "<pre>\n",
        "def f1(x): \n",
        "    d = []\n",
        "    for k,v in x.items():\n",
        "        if k == v:\n",
        "            d += [(k, 2*v)]\n",
        "    return d\n",
        "</pre>\n",
        "จงเติมคำสั่งในช่องว่างที่ขีดเส้นใต้ของฟังก์ชัน `f2` ข้างล่างนี้ เพื่อให้ `f2` ทำงานแล้วได้ผลลัพธ์เหมือน `f1` ข้างบน\n",
        "<pre>\n",
        "def f2(x):\n",
        "    return _________________________\n",
        "</pre>"
      ]
    },
    {
      "cell_type": "code",
      "metadata": {
        "cellView": "form",
        "id": "D0Zz3LT0ybBD"
      },
      "source": [
        "#@title คำตอบ 4/11\n",
        "#@markdown เติมคำตอบแทนคำว่า None ข้างล่างนี้\n",
        "answer = None #@param {type:\"raw\"}"
      ],
      "execution_count": null,
      "outputs": []
    },
    {
      "cell_type": "markdown",
      "metadata": {
        "id": "AQr0-6ikybBD"
      },
      "source": [
        "### คำถาม 5/11\n",
        "อยากทราบว่า <font size=+1>${  \\sum_{k=2}^{5}{ \\left ( \\sum_{j=1}^{6} {\\left ( {k^j}{(j-k)^k} \\right )} \\right )} }$</font> มีค่าเท่าไร\n"
      ]
    },
    {
      "cell_type": "code",
      "metadata": {
        "cellView": "form",
        "id": "zvXHuyjOybBE"
      },
      "source": [
        "#@title คำตอบ 5/11\n",
        "#@markdown เติมคำตอบแทนคำว่า None ข้างล่างนี้\n",
        "answer =  90070#@param {type:\"raw\"}"
      ],
      "execution_count": null,
      "outputs": []
    },
    {
      "cell_type": "markdown",
      "metadata": {
        "id": "AA-qsEfLybBE"
      },
      "source": [
        "### คำถาม 6/11\n",
        "ให้ `d` เป็น dict ที่เก็บข้อมูล `{เลขประจำตัวนิสิต: ชื่อ}` จงเขียนคำสั่งในช่องว่างที่ขีดเส้นใต้ของฟังก์ชันข้างล่างนี้ เพื่อให้ฟังก์ชันนี้คืน dict ที่เก็บข้อมูล `{ชื่อ: ลิสต์ของเลขประจำตัวนิสิต}`\n",
        "\n",
        "หมายเหตุ: เลขประจำตัวหนึ่งต้องมีแค่ชื่อเดียว แต่ชื่อหนึ่งมีหลายเลขประจำตัวได้ (คนชื่อซ้ำกันมีมากมาย)\n",
        "\n",
        "<pre>\n",
        "def f(d):\n",
        "    x = {}\n",
        "    for e in _________:\n",
        "        x[e] = []\n",
        "    for k in d:\n",
        "        for e in d[k]:\n",
        "            x[e] += [k]\n",
        "    return x\n",
        "</pre>"
      ]
    },
    {
      "cell_type": "code",
      "metadata": {
        "cellView": "form",
        "id": "FI9eQFguybBE"
      },
      "source": [
        "#@title คำตอบ 6/11\n",
        "#@markdown เติมคำตอบแทนคำว่า None ข้างล่างนี้\n",
        "answer = d #@param {type:\"raw\"}"
      ],
      "execution_count": null,
      "outputs": []
    },
    {
      "cell_type": "markdown",
      "metadata": {
        "id": "4EBnV5VSybBE"
      },
      "source": [
        "### คำถาม 7/11\n",
        "<pre>\n",
        "import numpy as np\n",
        "def f1(x, a, b): \n",
        "    # x เป็น 1-D numpy array of ints, a และ b เป็น int\n",
        "    return np.array([e for e in x if a <= e <= b])\n",
        "</pre>\n",
        "จงเติมคำสั่งในช่องว่างที่ขีดเส้นใต้ของฟังก์ชัน `f2` ข้างล่างนี้ เพื่อให้ `f2` ทำงานแล้วได้ผลลัพธ์เหมือน `f1` ข้างบน\n",
        "<pre>\n",
        "def f2(x, a, b):\n",
        "    return x[ _________________ ]\n",
        "</pre>"
      ]
    },
    {
      "cell_type": "code",
      "metadata": {
        "cellView": "form",
        "id": "CbAIcP69ybBF"
      },
      "source": [
        "#@title คำตอบ 7/11\n",
        "#@markdown เติมคำตอบแทนคำว่า None ข้างล่างนี้\n",
        "answer = None #@param {type:\"raw\"}"
      ],
      "execution_count": null,
      "outputs": []
    },
    {
      "cell_type": "markdown",
      "metadata": {
        "id": "Gri0F7HzybBF"
      },
      "source": [
        "### คำถาม 8/11\n",
        "จงเติมคำสั่งในช่องว่างที่ขีดเส้นใต้ในโปรแกรมข้างล่างนี้\n",
        "```\n",
        "def f(R, C):\n",
        "    for i in range(R):\n",
        "        out = ''\n",
        "        for j in range(C):\n",
        "            n = ____________________\n",
        "            out += ('   ' + str(n))[-4:]\n",
        "        print(out)\n",
        "\n",
        "f(5, 10)\n",
        "```    \n",
        "เพื่อให้แสดงผลลัพธ์ข้างล่างนี้\n",
        "```\n",
        "   1   6  11  16  21  26  31  36  41  46\n",
        "   2   7  12  17  22  27  32  37  42  47\n",
        "   3   8  13  18  23  28  33  38  43  48\n",
        "   4   9  14  19  24  29  34  39  44  49\n",
        "   5  10  15  20  25  30  35  40  45  50\n",
        "```\n",
        "\n"
      ]
    },
    {
      "cell_type": "code",
      "metadata": {
        "cellView": "form",
        "id": "tKiJJyt_ybBF"
      },
      "source": [
        "#@title คำตอบ 8/11\n",
        "#@markdown เติมคำตอบแทนคำว่า None ข้างล่างนี้\n",
        "answer = j + i + 1 #@param {type:\"raw\"}"
      ],
      "execution_count": null,
      "outputs": []
    },
    {
      "cell_type": "markdown",
      "metadata": {
        "id": "4I1cQGcWybBF"
      },
      "source": [
        "### คำถาม 9/11\n",
        "<pre>\n",
        "import numpy as np\n",
        "def f1(x): # x เป็น 1-D numpy array of floats\n",
        "    n = len(x)\n",
        "    D = np.zeros((n,n))\n",
        "    for i in range(n):\n",
        "        for j in range(i+1,n):\n",
        "            D[i,j] = x[i] - x[j]\n",
        "            D[j,i] = x[j] - x[i]\n",
        "    return D\n",
        "</pre>\n",
        "จงเติมคำสั่งในช่องว่างที่ขีดเส้นใต้ของฟังก์ชัน `f2` ข้างล่างนี้ เพื่อให้ `f2` ทำงานแล้วได้ผลลัพธ์เหมือน `f1` ข้างบน\n",
        "<pre>\n",
        "def f2(x):\n",
        "    z = np.array([x]).T\n",
        "    return _____________________\n",
        "</pre>"
      ]
    },
    {
      "cell_type": "code",
      "metadata": {
        "cellView": "form",
        "id": "qAeqRFIdybBG"
      },
      "source": [
        "#@title คำตอบ 9/11\n",
        "#@markdown เติมคำตอบแทนคำว่า None ข้างล่างนี้\n",
        "answer = None #@param {type:\"raw\"}"
      ],
      "execution_count": null,
      "outputs": []
    },
    {
      "cell_type": "markdown",
      "metadata": {
        "id": "X1p1fZsxybBG"
      },
      "source": [
        "### คำถาม 10/11\n",
        "ข้างล่างนี้คือโปรแกรมที่เก็บในแฟ้มชื่อ `final.py`\n",
        "<pre>\n",
        "f = open('final.py')\n",
        "c = 0\n",
        "for line in f:\n",
        "    # comment\n",
        "    if line.strip() != '':\n",
        "        c += 1\n",
        "\n",
        "f.close()\n",
        "print(c)\n",
        "</pre>\n",
        "เมื่อสั่งโปรแกรมข้างบนนี้ทำงาน จะแสดงอะไร"
      ]
    },
    {
      "cell_type": "code",
      "metadata": {
        "cellView": "form",
        "id": "6KL_XeN_ybBG"
      },
      "source": [
        "#@title คำตอบ 10/11\n",
        "#@markdown เติมคำตอบแทนคำว่า None ข้างล่างนี้\n",
        "answer =  1#@param {type:\"raw\"}"
      ],
      "execution_count": null,
      "outputs": []
    },
    {
      "cell_type": "markdown",
      "metadata": {
        "id": "bNToCKCvybBG"
      },
      "source": [
        "### คำถาม 11/11\n",
        "<pre>\n",
        "import numpy as np\n",
        "def f1(x, a): \n",
        "    # x เป็น 1-D numpy array of ints, a เป็น int\n",
        "    g = np.sum(x)/x.shape[0]\n",
        "    for i in range(len(x)):\n",
        "        if x[i] == g: \n",
        "            x[i] = a\n",
        "</pre>\n",
        "จงเติมคำสั่งในช่องว่างที่ขีดเส้นใต้ของฟังก์ชัน `f2` ข้างล่างนี้ เพื่อให้ `f2` ทำงานแล้วได้ผลลัพธ์เหมือน `f1` ข้างบน\n",
        "<pre>\n",
        "def f2(x, a):\n",
        "    x[_______________] = a\n",
        "</pre>"
      ]
    },
    {
      "cell_type": "code",
      "metadata": {
        "cellView": "form",
        "id": "1uQPq1-cybBG"
      },
      "source": [
        "#@title คำตอบ 11/11\n",
        "#@markdown เติมคำตอบแทนคำว่า None ข้างล่างนี้\n",
        "answer = None #@param {type:\"raw\"}"
      ],
      "execution_count": null,
      "outputs": []
    },
    {
      "cell_type": "markdown",
      "metadata": {
        "id": "UoIEZrjVybBH"
      },
      "source": [
        "# ตอนที่ 2: เขียนโปรแกรม\n",
        "6432154921"
      ]
    },
    {
      "cell_type": "markdown",
      "metadata": {
        "id": "s1j9V4OrybBH"
      },
      "source": [
        "## คำถาม 1/6\n"
      ]
    },
    {
      "cell_type": "markdown",
      "metadata": {
        "id": "DnwN4glrGbuO"
      },
      "source": [
        "### **Adding dashes**\n",
        "จงเขียนโปรแกรมเพื่ออ่านสตริงจากแฟ้ม \"data.txt\" ซึ่งจะมีแต่ตัวเลข ตัวอักษรและช่องว่างเท่านั้น ให้โปรแกรมแสดงสตริงที่อ่านจากไฟล์บนหน้าจอ โดยให้ใส่ dash \"-\" คั่นตัวอักษรทุก2ตัวในคำที่เป็นตัวพิมพ์ใหญ่ทั้งคำ \n",
        "\n",
        "<table>\n",
        "<thead>\n",
        "  <tr>\n",
        "    <th>ข้อมูลในแฟ้ม data.txt</th>\n",
        "    <th>ผลลัพธ์ที่แสดงทางจอภาพที่ถูกต้อง</th>\n",
        "    <th>ผลลัพธ์ที่เกือบถูก (ถูกหัก 20%)</th>\n",
        "  </tr>\n",
        "</thead>\n",
        "<tbody>\n",
        "<tr>\n",
        "<td><pre>\n",
        "PYTHON  is  very  popular\n",
        "I use   LOGITEC   mouse\n",
        "CHULALONGKORN      is MY University\n",
        "</pre></td>\n",
        "<td><pre>\n",
        "PY-TH-ON  is  very  popular\n",
        "I use   LO-GI-TE-C   mouse\n",
        "CH-UL-AL-ON-GK-OR-N      is MY University\n",
        "</pre></td>\n",
        "<td><pre>\n",
        "PY-TH-ON is very popular\n",
        "I use LO-GI-TE-C mouse\n",
        "CH-UL-AL-ON-GK-OR-N is MY University\n",
        "</pre></td>\n",
        "</tr>\n",
        "</tbody>\n",
        "</table>\n",
        "\n",
        "## สำคัญมาก\n",
        "\n",
        "- เขียนโปรแกรมที่ต้องการส่งใน code cell ข้างล่างนี้เท่านั้น \n",
        "- ห้ามแก้ไขข้อความใน **บรรทัดแรก** โดยเต็ดขาด"
      ]
    },
    {
      "cell_type": "code",
      "metadata": {
        "id": "BbBw0QcVHJo4",
        "colab": {
          "base_uri": "https://localhost:8080/"
        },
        "outputId": "51f24c8a-9f1c-4cf4-f112-36803b10dc53"
      },
      "source": [
        "# Adding_dashes (DO NOT modify this line)\n",
        "\n",
        "# Put your code only in this code cell.\n",
        "\n",
        "filename = open('/content/data.txt', 'r')\n",
        "# line = filename.readline()\n",
        "for line in filename:\n",
        "\n",
        "  line = \" \".join(line.split())\n",
        "  n = 2\n",
        "  lst = ''\n",
        "  # for i in range(0, len(string)):\n",
        "  #     print(string[i:i+1])\n",
        "\n",
        "  # print([line[i:i+n] for i in range(0, len(line), n)])\n",
        "  for i in range(0, len(line), n):\n",
        "      x = line[i:i+n]\n",
        "      y = line[i:i+n].upper()\n",
        "      if x == y:\n",
        "          lst+='-'\n",
        "          # print(\"-\", end = \"\")\n",
        "      # print(line[i:i+n], end = \"\")\n",
        "      lst+=line[i:i+n]\n",
        "  ans = lst[1:].replace('--', '-')\n",
        "  print(ans)\n",
        "\n",
        "\n",
        "\n",
        "\n",
        "\n",
        "\n",
        "\n",
        "\n",
        "\n",
        "\n",
        "\n",
        "\n",
        "\n"
      ],
      "execution_count": 18,
      "outputs": [
        {
          "output_type": "stream",
          "name": "stdout",
          "text": [
            "PY-TH-ON is very popular\n",
            "I use -LO-GI-TE-C mouse\n",
            "CH-UL-AL-ON-GK-OR-N is- M-Y University\n"
          ]
        }
      ]
    },
    {
      "cell_type": "markdown",
      "metadata": {
        "id": "ACSeEMsWybBH"
      },
      "source": [
        "## คำถาม 2/6\n"
      ]
    },
    {
      "cell_type": "markdown",
      "metadata": {
        "id": "VIC2PBEwHHtL"
      },
      "source": [
        "### **SALE_REPORT**\n",
        "**คำสั่ง**\n",
        "\n",
        "จงเขียนโปรแกรมรับข้อมูลรายการซื้อสินค้าของลูกค้าซึ่งประกอบด้วย ชื่อ-สกุล  หมายเลขสินค้า และชื่อสินค้า  เราสามารถรับข้อมูลชื่อ-สกุลลูกค้าคนเดิมที่ซื้อสินค้าอื่นเพิ่มได้ จากนั้นรับคำถามเพื่อค้นหมายเลขสินค้าและชื่อสินค้าจากชื่อ-สกุลที่ให้ หรือค้นชื่อ-สกุล จากหมายเลขสินค้าหรือชื่อสินค้าที่ให้\n",
        "\n",
        "\n",
        "**ข้อมูลนำเข้า**\n",
        "\n",
        "บรรทัดแรกเป็นจำนวนเต็ม N \n",
        "\n",
        "N บรรทัดต่อมาเป็นข้อมูลรายการซื้อสินค้าของลูกค้า ประกอบด้วย ชื่อ นามสกุล หมายเลขสินค้า และชื่อสินค้าคั่นด้วยช่องว่าง \n",
        "\n",
        "บรรทัดที่ N+2 เป็นจำนวนเต็ม M \n",
        "\n",
        "M บรรทัดต่อมาเป็นชื่อ นามสกุล (กรณีที่ต้องการให้ค้นหมายเลขสินค้าและชื่อสินค้า) หรือ เป็นหมายเลขสินค้าหรือชื่อสินค้าเท่านั้น (กรณีที่ต้องการให้ค้นชื่อ-สกุล)\n",
        "\n",
        "\n",
        "**ข้อมูลส่งออก**\n",
        "\n",
        "หมายเลขสินค้าและชื่อสินค้า หรือชื่อ-สกุล ขึ้นกับคำถาม ถ้าหาไม่พบให้แสดง Not found \n",
        "\n",
        "(โปรดระวังว่า ชื่อ-สกุลหนึ่งอาจมีหลายหมายเลขสินค้าและชื่อสินค้า และชื่อสินค้าหนึ่งอาจมีหลายชื่อ-สกุล)\n",
        "\n",
        "\n",
        "## **ตัวอย่าง**\n",
        "\n",
        "<pre>\n",
        "<table align=left border=2>\n",
        "<tr><td>Input</td><td>Output</td></tr>\n",
        "<tr><td>6</td><td>iPhone --> Anthony Stark, Henry Pym, Steven Rogers</td></tr> \n",
        "<tr><td>Anthony Stark A1-1111 Samsung</td><td>Anthony Stark --> A1-1111 Samsung, A2-2222 iPhone</td></tr> \n",
        "<tr><td>Henry Pym A2-2222 iPhone</td><td>Steven Rogers --> A2-2222 iPhone</td></tr> \n",
        "<tr><td>Anthony Stark A2-2222 iPhone\n",
        "</td><td>Nokia --> Not found</td></tr> \n",
        "<tr><td>Robert Banner A3-3333 Oppo</td><td>A4-4444 --> Robert Banner</td></tr> \n",
        "<tr><td>Robert Banner A4-4444 Xiaomi</td><td>Oppo --> Robert Banner</td></tr> \n",
        "<tr><td>Steven Rogers A2-2222 iPhone</td><td></td></tr> \n",
        "<tr><td>6</td><td></td></tr> \n",
        "<tr><td>iPhone</td><td></td></tr> \n",
        "<tr><td>Anthony Stark</td><td></td></tr> \n",
        "<tr><td>Steven Rogers</td><td></td></tr> \n",
        "<tr><td>Nokia</td><td></td></tr> \n",
        "<tr><td>A4-4444</td><td></td></tr> \n",
        "<tr><td>Oppo</td><td></td></tr> \n",
        "\n",
        "</table>\n",
        "</pre>\n",
        "\n",
        "\n",
        "\n",
        "## **สำคัญมาก**\n",
        "- เขียนโปรแกรมที่ต้องการส่งใน code cell ข้างล่างนี้เท่านั้น \n",
        "- ห้ามแก้ไขข้อความใน **บรรทัดแรก** โดยเต็ดขาด\n",
        "\n"
      ]
    },
    {
      "cell_type": "code",
      "metadata": {
        "id": "3210vQVDHHtM"
      },
      "source": [
        "# Sale_Report (DO NOT modify this line)\n",
        "\n",
        "# Put your code only in this code cell.\n",
        "\n",
        "N = int(input())\n",
        "\n",
        "name_dict = {}\n",
        "code_dict = {}\n",
        "item_dict = {}\n",
        "\n",
        "i = 0\n",
        "while i < N:\n",
        "    first, last, code, item = [x for x in input().split()]\n",
        "    name = first + ' ' + last\n",
        "    tel_dict[name] = tel\n",
        "    name_dict[tel] = name\n",
        "    i+=1\n",
        "\n",
        "M = int(input())\n",
        "j = 0\n",
        "while j < M:\n",
        "    search = input()\n",
        "    if search in tel_dict:\n",
        "        print(search, '-->', tel_dict[search])\n",
        "    elif search in name_dict:\n",
        "        print(search, '-->', name_dict[search])\n",
        "    else:\n",
        "        print(search, '--> Not found')\n",
        "    j+=1\n",
        "\n",
        "\n",
        "\n",
        "\n",
        "\n",
        "\n",
        "\n",
        "\n",
        "\n"
      ],
      "execution_count": null,
      "outputs": []
    },
    {
      "cell_type": "markdown",
      "metadata": {
        "id": "1PBirrjxybBI"
      },
      "source": [
        "## คำถาม 3/6\n"
      ]
    },
    {
      "cell_type": "markdown",
      "metadata": {
        "id": "yX-V29fhV4A3"
      },
      "source": [
        "### NESTED\n",
        "ให้เขียนฟังก์ชัน `pattern1(N)` ที่สร้างและคืนลิสต์ซ้อนลิสต์แทนตารางที่มีขนาด `N x N` โดย `N > 0` \n",
        "\n",
        "ตัวอย่าง\n",
        "`pattern1(5)` ได้\n",
        "```\n",
        " [[ 0,  0,  0,  0,  1],\n",
        "  [ 0,  0,  0,  2,  3],\n",
        "  [ 0,  0,  4,  5,  6],\n",
        "  [ 0,  7,  8,  9, 10],\n",
        "  [11, 12, 13, 14, 15]]\n",
        "```\n",
        "ให้เขียนฟังก์ชัน `pattern2(N)` ที่สร้างและคืนลิสต์ซ้อนลิสต์แทนตารางที่มีขนาด `N x N` โดย `N > 0` \n",
        "\n",
        "ตัวอย่าง\n",
        "`pattern2(5)` ได้\n",
        "```\n",
        " [[1,  2,  4,  7, 11],\n",
        "  [0,  3,  5,  8, 12],\n",
        "  [0,  0,  6,  9, 13],\n",
        "  [0,  0,  0, 10, 14],\n",
        "  [0,  0,  0,  0, 15]]\n",
        "```\n"
      ]
    },
    {
      "cell_type": "code",
      "metadata": {
        "id": "CRbzA6YhuiiD"
      },
      "source": [
        "# NESTED_08 (DO NOT modify this line)\n",
        "\n",
        "# Put your code only in this code cell.\n",
        "\n",
        "def pattern1(N):\n",
        "  for i in range(N):\n",
        "    print(i)\n",
        "\n",
        "\n",
        "def pattern2(N):\n",
        "\n",
        "\n"
      ],
      "execution_count": 19,
      "outputs": []
    },
    {
      "cell_type": "markdown",
      "metadata": {
        "id": "SADSD24mybBI"
      },
      "source": [
        "## คำถาม 4/6\n"
      ]
    },
    {
      "cell_type": "markdown",
      "metadata": {
        "id": "NraUZjHVJ1mu"
      },
      "source": [
        "### **FIVB2021**\n",
        "วอลเลย์บอลหญิงเนชันส์ลีกปี 2021 ได้จัดการแข่งขันไปเมื่อต้นปีที่เมืองรีมีนีประเทศอิตาลี เป็นประเทศเจ้าภาพ ผลการแข่งขันในสองวันแรกเป็นดังนี้  \n",
        "กำหนดให้ข้อมูลนำเข้าแต่ละบรรทัด คือผลการแข่งขันในแต่ละแมทช์ ชื่อแรกคือทีมชนะ ชื่อถัดไปคือชื่อทีมที่แพ้ (ไม่มีเสมอ) แต่ละครั้งที่ทีมชนะในแต่ละแมทช์ ทีมนั้นจะได้ 3 คะแนน (points)\n",
        "\n",
        "```\n",
        "Netherlands Belgium\n",
        "Turkey Serbia\n",
        "Russia Germany\n",
        "Japan Thailand\n",
        "China Korea\n",
        "USA Dominican\n",
        "Poland Italy\n",
        "Brazil Canada\n",
        "Germany Netherlands\n",
        "Korea Thailand\n",
        "Japan China\n",
        "Russia Belgium\n",
        "Serbia Poland\n",
        "Brazil Dominican\n",
        "Turkey Italy\n",
        "USA Canada\n",
        "```\n",
        "\n",
        "โปรแกรมข้างล่างนี้ อาศัย dict ชื่อว่า ```FIVB``` มี key เป็นชื่อทีม และ value เก็บ set ของชื่อทีมที่แพ้ key ดังนั้น จากข้อมูลข้างบนนี้จะได้\n",
        "\n",
        "```python\n",
        "FIVB = { \n",
        "        'Netherlands': {'Belgium'},\n",
        "        'Turkey' : {'Serbia', 'Italy'},\n",
        "        'Russia' : {'Germany', 'Belgium'}\n",
        "        'Japan': {'Thailand', 'China'},\n",
        "        'China': {'Korea'},\n",
        "        'USA' : {'Dominican', 'Canada'},\n",
        "        'Poland' : {'Italy'}\n",
        "        'Brazil': {'Canada', 'Dominican'},\n",
        "        'Germany': {'Netherlands'},\n",
        "        'Korea': {'Thailand'},\n",
        "        'Serbia' : {'Poland'}\n",
        "     }\n",
        "```\n",
        "จงเขียนฟังก์ชัน ```wins(), get_all_teams(), calculate_points() และ read_fivb()``` ข้างล่างนี้ให้สมบูรณ์ตาม comment และการเก็บข้อมูลที่อธิบายข้างบนนี้\n",
        "\n",
        "## สำคัญมาก\n",
        "- เขียนโปรแกรมที่ต้องการส่งใน code cell ข้างล่างนี้เท่านั้น \n",
        "- ห้ามแก้ไขข้อความใน **บรรทัดแรก** และ code ที่ให้มาโดยเต็ดขาด\n"
      ]
    },
    {
      "cell_type": "code",
      "metadata": {
        "id": "41MuQDT4LPiZ"
      },
      "source": [
        "# FIVB2021 (DO NOT modify this line)\n",
        "\n",
        "# Put your code only in this code cell.\n",
        "\n",
        "def win(FIVB, t1, t2): \n",
        "    # return True if team t1 won against team t2, otherwise return False\n",
        "    if t2 in FIVB[t1]:\n",
        "        return True\n",
        "    return False\n",
        "\n",
        "    \n",
        "def get_all_teams(FIVB):\n",
        "    # return a list of teams that participated in the FIVB2021 in alphabetical order (A-Z).\n",
        "    key_lst = list(FIVB.keys())\n",
        "    value_lst = []\n",
        "    for c in key_lst:\n",
        "        x = list(FIVB[c])\n",
        "        value_lst.append(x)\n",
        "    flat_value_lst = [item for sublist in value_lst for item in sublist]\n",
        "    mergedlist = list(set(key_lst + flat_value_lst))\n",
        "    return sorted(mergedlist)\n",
        "    \n",
        "def calculate_points(FIVB):\n",
        "    # return a dictionary where key is each team and its value is points of the team.\n",
        "    # 3 points for a win\n",
        "    # A team that did not win any team gets 0 point.\n",
        "    points = dict()\n",
        "    all_team = get_all_teams(FIVB)\n",
        "    for i in all_team:\n",
        "        if i in FIVB.keys():\n",
        "            points[i] = len(FIVB[i])*3\n",
        "        else:\n",
        "            points[i] = 0\n",
        "    return points\n",
        "    \n",
        "    \n",
        "def read_fivb() :\n",
        "    # build a dictionary FIVB from inputs, of which structure is shown in the example given above\n",
        "\n",
        "    FIVB = dict()\n",
        "    while True:\n",
        "        d = input().split()\n",
        "        if len(d) == 1 : break\n",
        "        if d[0] not in FIVB:\n",
        "          FIVE[d[0]] = set()\n",
        "        if d[1] not in FIVB:\n",
        "          FIVB[d[1]] = set()\n",
        "        FIVB[d[0]].add(d[1])\n",
        "    return FIVB\n",
        "    \n"
      ],
      "execution_count": 1,
      "outputs": []
    },
    {
      "cell_type": "markdown",
      "metadata": {
        "id": "iFepIDVkybBJ"
      },
      "source": [
        "## คำถาม 5/6\n"
      ]
    },
    {
      "cell_type": "markdown",
      "metadata": {
        "id": "Ruz7bdAabAyJ"
      },
      "source": [
        "จงเขียนฟังก์ชัน `f1`, `f2` และ `f3` ข้างล่างนี้ รวมใน code cell ข้างล่างที่จัดไว้ให้\n",
        "\n",
        "- ห้ามใช้วงวน `for`, `while`, `map`, `reduce`, `itertools`, comprehension, recursive ในทุกฟังก์ชันของข้อนี้\n",
        "- ห้ามเปลี่ยนแปลงค่าของพารามิเตอร์ `x` ของทุกฟังก์ชันในข้อนี้\n",
        "`!%*`\n",
        "<pre>\n",
        "def f1(x):\n",
        "    # รับ x เป็น 1-D numpy array เก็บ floats (มีข้อมูลเกิน 2 ตัวแน่นอน)\n",
        "    # คืน True ถ้าข้อมูลใน x เรียงเป็นลำดับเลขคณิต (arithmetic sequence)\n",
        "    #   ถ้าไม่ใช่คืน False\n",
        "    # หมายเหตุ:\n",
        "    #   ถ้าไม่รู้ว่าลำดับเลขคณิตคืออะไร อ่าน https://en.wikipedia.org/wiki/Arithmetic_progression\n",
        "    #   ถ้าต้องการเปรียบเทียบสองจำนวน เช่น a กับ b ว่าเท่ากันหรือไม่\n",
        "    #     ให้เรียกใช้ฟังก์ชัน np.isclose(a, b) อย่าใช้ a == b \n",
        "    # ตัวอย่าง \n",
        "    #   f1(np.array([1., 3., 5., 7.])) คืน True\n",
        "    #   f1(np.array([-4., -4., -4.])) คืน True\n",
        "    #   f1(np.array([-0.5, 0, 0.5, 1.0])) คืน True\n",
        "    #   f1(np.array([3., 4., 5., 6., 8.])) คืน False\n",
        "</pre>\n",
        "<pre>\n",
        "def f2(x):\n",
        "    # รับ x เป็น 2-D numpy array เก็บ floats\n",
        "    # คืน 2-D numpy array ขนาดเท่ากับ x มีค่าเป็น moving average ของแต่ละแถวใน x\n",
        "    #   โดยแถวที่ r คอลัมน์ที่ c ของผลลัพธ์มีค่าเท่ากับ \n",
        "    #     ค่าเฉลี่ยของ x[r,c-2], x[r,c-1] และ x[r,c]\n",
        "    #     ถ้า ณ คอลัมน์ c ไม่มีคอลัมน์ทางซ้าย ก็ให้ผลลัพธ์เป็นค่าเท่ากับ x[r,c]\n",
        "    #     ถ้ามีคอลัมน์ c-1 แต่ไม่มีคอลัมน์ c-2 ก็ให้ผลลัพธ์เป็นค่าเฉลี่ยของ x[r,c-1] กับ x[r,c]\n",
        "    # ตัวอย่าง \n",
        "    #   f2(np.array([[1., 2.,  3., 4.], [5., 6.,  7., 8.]])) คืน\n",
        "    #      np.array([[1., 1.5, 2., 3.], [5., 5.5, 6., 7.]])\n",
        "    #   f2(np.array([[9.5]])) คืน np.array([[9.5]])\n",
        "</pre>\n",
        "<pre>\n",
        "def f3(x):\n",
        "    # รับ x เป็น 2-D numpy array เป็น square matrix จำนวนแถวเป็นจำนวนคึ่ และเก็บ 0 กับ 1 เท่านั้น  \n",
        "    # คืน True ถ้า \n",
        "    #     x เก็บค่า 1 ในลักษณะเป็นรูปเครื่องหมายบวก หรือตัวกากบาท \n",
        "    #     หรือ x เก็บค่า 0 ในลักษณะเป็นรูปเครื่องหมายบวก หรือตัวกากบาท \n",
        "    #     ดังตัวอย่างในรูปข้างล่าง\n",
        "    #   ถ้าไม่ใช่ ให้คืน False\n",
        "    # ตัวอย่าง \n",
        "    #   f3(np.array([[1]])) คืน True\n",
        "    #   f3(np.array([[0]])) คืน True\n",
        "    #   f3(np.array([[0,1,0],[1,1,1],[0,1,0]])) คืน True\n",
        "    #   f3(np.array([[1,0,1],[0,0,0],[1,0,1]])) คืน True\n",
        "    #   f3(np.array([[1,0,1],[0,1,0],[1,0,1]])) คืน True\n",
        "    #   f3(np.array([[0,1,0],[1,0,1],[0,1,0]])) คืน True\n",
        "    #   f3(np.array([[0,1,1],[1,0,1],[0,1,0]])) คืน False    \n",
        "</pre>\n",
        "![image.png](data:image/png;base64,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)\n"
      ]
    },
    {
      "cell_type": "code",
      "metadata": {
        "id": "rbuDmEMiVY-a"
      },
      "source": [
        "# NUMPY (DO NOT modify this line)\n",
        "\n",
        "# Put your code only in this code cell.\n",
        "import numpy as np\n",
        "\n",
        "def f1(x):\n",
        "\n",
        "\n",
        "def f2(x):\n",
        "\n",
        "\n",
        "def f3(x):\n",
        "\n",
        "\n"
      ],
      "execution_count": null,
      "outputs": []
    },
    {
      "cell_type": "markdown",
      "metadata": {
        "id": "-CaXg2jYybBN"
      },
      "source": [
        "## คำถาม 6/6\n"
      ]
    },
    {
      "cell_type": "markdown",
      "metadata": {
        "id": "fY1_4z8J_oDC"
      },
      "source": [
        "### **Tweet_3**\n",
        "ให้เติมเมท็อดต่าง ๆ ตามข้อกำหนดด้านล่าง \n",
        "\n",
        "* Constructor รับ dictionary ของทวีตซึ่งมี key ดังนี้\n",
        "  * id เก็บข้อความเป็นรหัสของทวีต\n",
        "  * words เก็บลิสต์ของคำในทวีต\n",
        "  * time เก็บเวลาของทวีตในข้อความตามรูปแบบ 'YYYY-mm-dd HH:MM' \n",
        "  * user เป็นข้อความเก็บชื่อบัญชีของเจ้าของทวีต\n",
        "\n",
        "  นำค่าจากทวีตมาเก็บในตัวแปร id, words, time และ user ตามค่าจาก key ของทวีต  \n",
        "* ```__lt__(self,rhs)``` เป็นเมท็อดเปรียบเทียบจำนวนคำใน ```words``` หาก จำนวนคำของ ```self``` มากกว่า ให้คืนค่า ```True``` ไม่เช่นนั้นให้คืนค่า ```False``` หากจำนวนคำเท่ากัน ให้เปรียบเทียบตามเวลาของทวีตสองอัน หากเวลาของ ```self``` มาหลังเวลาของ ```rhs``` ให้คืนค่า ```True``` ไม่เช่นนั้นให้คืนค่า ```False``` \n",
        "* ```__str__(self)``` คืนค่าเป็นข้อความในรูปแบบ ```time: [user] words (id)``` โดยข้อความใน ```words``` จะนำข้อความจากลิสต์มาต่อกันคั่นด้วยเครื่องหมายเว้นวรรค \n",
        "* ```similarity(self,other)``` คืนค่าจำนวนคำที่ซ้ำกันของเซตของ ```words``` ใน ```self``` และใน ```others```\n",
        "\n",
        "นอกจากนี้ให้เขียนฟังก์ชันดังต่อไปนี้\n",
        "* ```find_similarity(tweets)``` รับค่าเป็นลิสต์ของทวีตและคืนค่าเป็นลิสต์ของทูเปิลที่มีสมาชิกตัวที่หนึ่งเป็นความคล้ายซึ่งคืนมาจากเมท็อด ```similarity``` สมาชิกตัวที่สองเป็นรหัสประจำตัวทวีตที่หนึ่ง (```id1```) และสมาชิกตัวที่สามเป็นรหัสประจำทวีตที่สอง (```id2```) ตามเงื่อนไขดังนี้\n",
        "  * การวัดความคล้ายให้วัดจากเมท็อด ```similarity``` ของทวีตเท่านั้น\n",
        "  * เรียงลำดับตามความคล้ายจากน้อยไปมาก\n",
        "  * ในกรณีความคล้ายเท่ากัน ให้เรียงตามลำดับตามรหัสประจำตัวทวีตตัวที่หนึ่งและตัวที่สองตามลำดับ \n",
        "  * ไม่คืนค่าความคล้ายของทวีตเดียวกัน \n",
        "  * ไม่คืนค่าของคู่ของทวีตที่สลับลำดับกัน หากมี ```id1``` กับ ```id2``` แล้ว ไม่ให้คืนค่า ```id2``` กับ ```id1``` และให้ใช้เป็นลำดับ ```id1,id2``` โดย ```id1 < id2``` เสมอ \n",
        "* ```show_tweets(tweets)``` รับลิสต์ของทวีต ให้พิมพ์ทวีตเรียงตามลำดับเงื่อนไขจากเมท็อด ```__lt__``` และพิมพ์ตามข้อความที่คืนมาจากเมท็อด ```__str__```\n",
        "\n",
        "## **ตัวอย่าง**\n",
        "\n",
        "หากมีชุดคำสั่ง\n",
        "\n",
        "```\n",
        "tw1=Tweet({'id':1,'user':'abc','words':['this','is','a','blockchain','made','from','scratch','in','~50','lines','of','python','code'],'time':'2021-11-18 16:38'})\n",
        "tw2=Tweet({'id':2,'user':'cdg','words':['javascript', 'java', 'python', 'php', 'and', 'their', 'learning', 'curves'],'time':'2021-11-06 14:28'})\n",
        "tw3=Tweet({'id':3,'user':'def123','words':['python', 'and', 'javascript'],'time':'2021-11-01 07:55'})\n",
        "tw4=Tweet({'id':4,'user':'def123','words':['java','and','python'],'time':'2021-11-01 07:56'})\n",
        "tweets=[tw1,tw2,tw3,tw4]\n",
        "\n",
        "tweets=[tw1,tw2,tw3,tw4]\n",
        "```\n",
        "\n",
        "* ```tw1.similarity(tw2)``` จะคืนค่า 1\n",
        "* ```tw2.similarity(tw3)``` จะคืนค่า 3\n",
        "* ```tw3.similarity(tw4)``` จะคืนค่า 2\n",
        "* ```find_similarity(tweets)``` จะคืนค่า \n",
        "```\n",
        "[(1, 1, 2), (1, 1, 3), (1, 1, 4), (2, 3, 4), (3, 2, 3), (3, 2, 4)]\n",
        " ```\n",
        "* ```show_tweets(tweets)``` จะแสดงข้อความ \n",
        "```\n",
        "2021-11-18 16:38: [abc] this is a blockchain made from scratch in ~50 lines of python code (1)\n",
        "2021-11-06 14:28: [cdg] javascript java python php and their learning curves (2)\n",
        "2021-11-01 07:56: [def123] java and python (4)\n",
        "2021-11-01 07:55: [def123] python and javascript (3)\n",
        "```\n",
        "\n",
        "## **สำคัญมาก**\n",
        "- เขียนโปรแกรมที่ต้องการส่งใน code cell ข้างล่างนี้เท่านั้น \n",
        "- ห้ามแก้ไขข้อความใน **บรรทัดแรก** โดยเต็ดขาด"
      ]
    },
    {
      "cell_type": "code",
      "metadata": {
        "id": "u0mdx2EJ_oDD"
      },
      "source": [
        "# Tweet_3 (DO NOT modify this line)\n",
        "\n",
        "# Put your code only in this code cell.\n",
        "class Tweet:\n",
        "  def __init__(self,tweet):\n",
        "\n",
        "\n",
        "\n",
        "\n",
        "  def __lt__(self,rhs):\n",
        "\n",
        "\n",
        "\n",
        "  def __str__(self):\n",
        "\n",
        "\n",
        "  def similarity(self,other):\n",
        "\n",
        "\n",
        "def find_similarity(tweets):\n",
        "\n",
        "\n",
        "\n",
        "\n",
        "\n",
        "\n",
        "\n",
        "def show_tweets(tweets):\n",
        "\n"
      ],
      "execution_count": null,
      "outputs": []
    }
  ]
}