{
  "nbformat": 4,
  "nbformat_minor": 0,
  "metadata": {
    "colab": {
      "name": "[Student] Takehome Midterm Exam 2021",
      "provenance": [],
      "collapsed_sections": []
    },
    "kernelspec": {
      "name": "python3",
      "display_name": "Python 3"
    },
    "language_info": {
      "name": "python"
    }
  },
  "cells": [
    {
      "cell_type": "markdown",
      "metadata": {
        "id": "E3TTJGLVvkXy"
      },
      "source": [
        "**กติกาการสอบ**\n",
        "1. เป็นงานเดี่ยว\n",
        "2. การส่งจะเป็นการสัมภาษณ์กับพี่TA โดยก่อนสัมภาษณ์จะต้องส่งข้อสอบเป็น .ipynb โดยกดปุ่ม File->Download \n",
        "3. open world นิสิตสามารถค้นหาในอินเตอร์เน็ต หนังสือ หรือสื่ออื่นใดก็ได้ นิสิตสามารถ **ปรึกษา** กับเพื่อนหรือใครก็ได้ โดยนิสิตจะต้องแจ้งชื่อของบุคคลที่ปรึกษา หรือสื่อที่ใช้ประกอบการทำข้อสอบ นอกเหนือไปจาก documentation ของ pandas, matplotlib, กระดานถามตอบเช่น stackoverflow, หนังสือเรียน, หรือสื่อการเรียนของวิชา\n",
        "4. ตอนสัมภาษณ์ นิสิตจะต้องเข้าใจและอธิบายสิ่งที่ตนเองทำไปได้ หากไม่สามารถอธิบายได้ดีเพียงพอ อาจถูกหักคะแนนได้\n",
        "5. **TODO 5 ควรจะเป็นการวิเคราะห์ในแนวทางของตนเองห้ามปรึกษากับเพื่อน แต่สามารถดูสื่ออื่นใดประกอบได้**\n",
        "\n",
        "**ความแตกต่างระหว่างการปรึกษากับการลอก**\n",
        "\n",
        "ลักษณะต่อไปนี้คือการทุจริตในการสอบ\n",
        "1. ก็อบโค้ดของเพื่อน\n",
        "2. โชว์โค้ดคำตอบของตัวเองให้เพื่อนดู\n",
        "3. ก็อบโค้ดจากแหล่งอื่นโดยไม่แจ้งในรายชื่อสื่อ\n",
        "4. ปรึกษากับเพื่อนโดยไม่แจ้งชื่อเพื่อนในรายชื่อบุคคลที่ได้ปรึกษา\n",
        "5. ทำข้อสอบไปพร้อมๆกัน (เขียนคำตอบไปพร้อมๆกัน) ข้อสอบนี้เป็นงานเดี่ยว เพื่อนไม่ควรจะเห็นไฟล์ colab ของคุณไม่ว่าจะกรณีใดทั้งสิ้น\n",
        "\n",
        "ลักษณะต่อไปนี้ไม่ถือว่าเป็นการทุจริตในการสอบ\n",
        "1. สอนกระบวนการใช้คำสั่งให้เพื่อนโดยไม่แสดงโค้ดคำตอบของตนเองให้เพื่อนดู\n",
        "2. บอกชื่อคำสั่ง หรือสื่ออื่นใดให้เพื่อนไปดูเพิ่มเติมเอง\n",
        "3. สอบถามพี่TAหรืออาจารย์ (แต่พี่TAหรืออาจารย์อาจจะไม่ตอบ)"
      ]
    },
    {
      "cell_type": "markdown",
      "metadata": {
        "id": "nh8pJcZ8FmlL"
      },
      "source": [
        "**คะแนน**\n",
        "\n",
        "คะแนนของข้อสอบนี้จะถูกนำไปรวมกับคะแนนสอบมิดเทอมส่วนกลางได้สี่รูปแบบดังนี้ (รูปแบบที่ได้คะแนนสูงสุดจะถูกใช้โดยอัตโนมัติ ตอนคิดเกรด)\n",
        "\n",
        "จากคะแนน 10% ของเกรดทั้งหมด\n",
        "- สอบส่วนกลาง 8% take home 5% (คะแนนเพิ่มพิเศษ 3%)\n",
        "- สอบส่วนกลาง 5% take home 8% (คะแนนเพิ่มพิเศษ 3%)\n",
        "- สอบส่วนกลาง 10%\n",
        "- take home 10%"
      ]
    },
    {
      "cell_type": "markdown",
      "metadata": {
        "id": "W4GjwdnwxLol"
      },
      "source": [
        "**ชื่อ** วรันธร\n",
        "\n",
        "**นามสกุล** จันทร์สว่าง\n",
        "\n",
        "**รหัสนิสิต** 6432154921\n"
      ]
    },
    {
      "cell_type": "markdown",
      "metadata": {
        "id": "N3BbyrwjxgWE"
      },
      "source": [
        "**บุคคลที่ได้ปรึกษาในการทำข้อสอบนี้:** นายจงรัก ภักดี\n",
        "\n",
        "**สื่อที่ได้ใช้ในการทำข้อสอบนี้:** https://workpointtoday.com/covid-19-149/\n",
        "\n",
        "https://www.shanelynn.ie/pandas-drop-delete-dataframe-rows-columns/\n",
        "\n",
        "https://ichi.pro/th/kar-thangan-kab-wan-thi-laea-wela-ni-pandas-dataframe-112422831965575\n",
        "\n",
        "https://stackoverflow.com/a/54225623\n",
        "\n",
        "https://www.kite.com/python/answers/how-to-find-the-moving-average-of-a-list-in-python\n",
        "\n",
        "https://scikit-learn.org/stable/modules/generated/sklearn.linear_model.LinearRegression.html\n",
        "\n",
        "https://scikit-learn.org/stable/modules/generated/sklearn.preprocessing.PolynomialFeatures.html\n",
        "\n",
        "https://towardsdatascience.com/polynomial-regression-with-scikit-learn-what-you-should-know-bed9d3296f2\n",
        "\n",
        "https://machinelearningmastery.com/regression-metrics-for-machine-learning/"
      ]
    },
    {
      "cell_type": "markdown",
      "metadata": {
        "id": "0lltX9Zzfqjt"
      },
      "source": [
        "# Covid in Thailand and the world\n",
        "\n",
        "ข้อสอบนี้ต้องการจะให้คุณประมวลผลข้อมูล COVID-19 จากเวบไซต์ https://github.com/owid/covid-19-data/tree/master/public/data ซึ่งได้รวบรวมข้อมูลดิบเกี่ยวกับโควิดจากที่ต่างๆทั่วโลก\n",
        "\n",
        "โดยเราจะดึงข้อมูลจากไฟล์ https://github.com/owid/covid-19-data/blob/master/public/data/owid-covid-data.csv"
      ]
    },
    {
      "cell_type": "code",
      "metadata": {
        "colab": {
          "base_uri": "https://localhost:8080/"
        },
        "id": "qsLxgxLIcfr2",
        "outputId": "e3dc5349-298c-4989-f5aa-1de7bc562869"
      },
      "source": [
        "# ดาวน์โหลดไฟล์\n",
        "!wget https://raw.githubusercontent.com/owid/covid-19-data/master/public/data/owid-covid-data.csv"
      ],
      "execution_count": null,
      "outputs": [
        {
          "output_type": "stream",
          "name": "stdout",
          "text": [
            "--2021-10-02 07:13:42--  https://raw.githubusercontent.com/owid/covid-19-data/master/public/data/owid-covid-data.csv\n",
            "Resolving raw.githubusercontent.com (raw.githubusercontent.com)... 185.199.108.133, 185.199.109.133, 185.199.110.133, ...\n",
            "Connecting to raw.githubusercontent.com (raw.githubusercontent.com)|185.199.108.133|:443... connected.\n",
            "HTTP request sent, awaiting response... 200 OK\n",
            "Length: 33000916 (31M) [text/plain]\n",
            "Saving to: ‘owid-covid-data.csv’\n",
            "\n",
            "\rowid-covid-data.csv   0%[                    ]       0  --.-KB/s               \rowid-covid-data.csv 100%[===================>]  31.47M  --.-KB/s    in 0.1s    \n",
            "\n",
            "2021-10-02 07:13:42 (235 MB/s) - ‘owid-covid-data.csv’ saved [33000916/33000916]\n",
            "\n"
          ]
        }
      ]
    },
    {
      "cell_type": "code",
      "metadata": {
        "id": "bdatviYQSLvT"
      },
      "source": [
        "import pandas as pd\n",
        "import matplotlib.pyplot as plt"
      ],
      "execution_count": null,
      "outputs": []
    },
    {
      "cell_type": "markdown",
      "metadata": {
        "id": "X5K2k65-gS2Q"
      },
      "source": [
        "## TO DO1 [1 คะแนน] จงพล็อตข้อมูล new_cases รายวันของประเทศไทย สามารถเลือกลักษณะของกราฟได้ตามความเหมาะสมในการแสดงข้อมูล\n",
        "\n",
        "Hint1 ชื่อประเทศถูกเก็บเป็น iso_code https://en.wikipedia.org/wiki/ISO_3166-1_alpha-3\n",
        "\n",
        "Hint2 รายละเอียดข้อมูลในตารางสามารถดูได้จาก https://github.com/owid/covid-19-data/blob/master/public/data/owid-covid-codebook.csv\n",
        "\n",
        "Hint3 ฟังก์ชั่นนี้อาจมีประโยชน์ https://pandas.pydata.org/pandas-docs/stable/reference/api/pandas.DataFrame.fillna.html\n"
      ]
    },
    {
      "cell_type": "code",
      "metadata": {
        "id": "k8gQM9egdKcT"
      },
      "source": [
        "# เขียนโค้ดประกอบ สามารถเพิ่มจำนวนช่องโค้ดได้ตามใจชอบ\n",
        "df = pd.read_csv('/content/owid-covid-data.csv')\n",
        "df['new_cases'].fillna(0, inplace = True)\n",
        "df['total_cases'].fillna(0, inplace = True)\n",
        "df['new_deaths'].fillna(0, inplace = True)\n",
        "df['total_deaths'].fillna(0, inplace = True)\n",
        "df['new_tests'].fillna(0, inplace = True)\n",
        "df['total_tests'].fillna(0, inplace = True)\n",
        "df['tests_per_case'].fillna(0, inplace = True)"
      ],
      "execution_count": null,
      "outputs": []
    },
    {
      "cell_type": "code",
      "metadata": {
        "colab": {
          "base_uri": "https://localhost:8080/",
          "height": 609
        },
        "id": "vlES4puNeJVw",
        "outputId": "edae915e-b010-4f8a-b79b-e7760c20eaaa"
      },
      "source": [
        "df"
      ],
      "execution_count": null,
      "outputs": [
        {
          "output_type": "execute_result",
          "data": {
            "text/html": [
              "<div>\n",
              "<style scoped>\n",
              "    .dataframe tbody tr th:only-of-type {\n",
              "        vertical-align: middle;\n",
              "    }\n",
              "\n",
              "    .dataframe tbody tr th {\n",
              "        vertical-align: top;\n",
              "    }\n",
              "\n",
              "    .dataframe thead th {\n",
              "        text-align: right;\n",
              "    }\n",
              "</style>\n",
              "<table border=\"1\" class=\"dataframe\">\n",
              "  <thead>\n",
              "    <tr style=\"text-align: right;\">\n",
              "      <th></th>\n",
              "      <th>iso_code</th>\n",
              "      <th>continent</th>\n",
              "      <th>location</th>\n",
              "      <th>date</th>\n",
              "      <th>total_cases</th>\n",
              "      <th>new_cases</th>\n",
              "      <th>new_cases_smoothed</th>\n",
              "      <th>total_deaths</th>\n",
              "      <th>new_deaths</th>\n",
              "      <th>new_deaths_smoothed</th>\n",
              "      <th>total_cases_per_million</th>\n",
              "      <th>new_cases_per_million</th>\n",
              "      <th>new_cases_smoothed_per_million</th>\n",
              "      <th>total_deaths_per_million</th>\n",
              "      <th>new_deaths_per_million</th>\n",
              "      <th>new_deaths_smoothed_per_million</th>\n",
              "      <th>reproduction_rate</th>\n",
              "      <th>icu_patients</th>\n",
              "      <th>icu_patients_per_million</th>\n",
              "      <th>hosp_patients</th>\n",
              "      <th>hosp_patients_per_million</th>\n",
              "      <th>weekly_icu_admissions</th>\n",
              "      <th>weekly_icu_admissions_per_million</th>\n",
              "      <th>weekly_hosp_admissions</th>\n",
              "      <th>weekly_hosp_admissions_per_million</th>\n",
              "      <th>new_tests</th>\n",
              "      <th>total_tests</th>\n",
              "      <th>total_tests_per_thousand</th>\n",
              "      <th>new_tests_per_thousand</th>\n",
              "      <th>new_tests_smoothed</th>\n",
              "      <th>new_tests_smoothed_per_thousand</th>\n",
              "      <th>positive_rate</th>\n",
              "      <th>tests_per_case</th>\n",
              "      <th>tests_units</th>\n",
              "      <th>total_vaccinations</th>\n",
              "      <th>people_vaccinated</th>\n",
              "      <th>people_fully_vaccinated</th>\n",
              "      <th>total_boosters</th>\n",
              "      <th>new_vaccinations</th>\n",
              "      <th>new_vaccinations_smoothed</th>\n",
              "      <th>total_vaccinations_per_hundred</th>\n",
              "      <th>people_vaccinated_per_hundred</th>\n",
              "      <th>people_fully_vaccinated_per_hundred</th>\n",
              "      <th>total_boosters_per_hundred</th>\n",
              "      <th>new_vaccinations_smoothed_per_million</th>\n",
              "      <th>stringency_index</th>\n",
              "      <th>population</th>\n",
              "      <th>population_density</th>\n",
              "      <th>median_age</th>\n",
              "      <th>aged_65_older</th>\n",
              "      <th>aged_70_older</th>\n",
              "      <th>gdp_per_capita</th>\n",
              "      <th>extreme_poverty</th>\n",
              "      <th>cardiovasc_death_rate</th>\n",
              "      <th>diabetes_prevalence</th>\n",
              "      <th>female_smokers</th>\n",
              "      <th>male_smokers</th>\n",
              "      <th>handwashing_facilities</th>\n",
              "      <th>hospital_beds_per_thousand</th>\n",
              "      <th>life_expectancy</th>\n",
              "      <th>human_development_index</th>\n",
              "      <th>excess_mortality_cumulative_absolute</th>\n",
              "      <th>excess_mortality_cumulative</th>\n",
              "      <th>excess_mortality</th>\n",
              "      <th>excess_mortality_cumulative_per_million</th>\n",
              "    </tr>\n",
              "  </thead>\n",
              "  <tbody>\n",
              "    <tr>\n",
              "      <th>0</th>\n",
              "      <td>AFG</td>\n",
              "      <td>Asia</td>\n",
              "      <td>Afghanistan</td>\n",
              "      <td>2020-02-24</td>\n",
              "      <td>5.0</td>\n",
              "      <td>5.0</td>\n",
              "      <td>NaN</td>\n",
              "      <td>0.0</td>\n",
              "      <td>0.0</td>\n",
              "      <td>NaN</td>\n",
              "      <td>0.126</td>\n",
              "      <td>0.126</td>\n",
              "      <td>NaN</td>\n",
              "      <td>NaN</td>\n",
              "      <td>NaN</td>\n",
              "      <td>NaN</td>\n",
              "      <td>NaN</td>\n",
              "      <td>NaN</td>\n",
              "      <td>NaN</td>\n",
              "      <td>NaN</td>\n",
              "      <td>NaN</td>\n",
              "      <td>NaN</td>\n",
              "      <td>NaN</td>\n",
              "      <td>NaN</td>\n",
              "      <td>NaN</td>\n",
              "      <td>0.0</td>\n",
              "      <td>0.0</td>\n",
              "      <td>NaN</td>\n",
              "      <td>NaN</td>\n",
              "      <td>NaN</td>\n",
              "      <td>NaN</td>\n",
              "      <td>NaN</td>\n",
              "      <td>0.0</td>\n",
              "      <td>NaN</td>\n",
              "      <td>NaN</td>\n",
              "      <td>NaN</td>\n",
              "      <td>NaN</td>\n",
              "      <td>NaN</td>\n",
              "      <td>NaN</td>\n",
              "      <td>NaN</td>\n",
              "      <td>NaN</td>\n",
              "      <td>NaN</td>\n",
              "      <td>NaN</td>\n",
              "      <td>NaN</td>\n",
              "      <td>NaN</td>\n",
              "      <td>8.33</td>\n",
              "      <td>39835428.0</td>\n",
              "      <td>54.422</td>\n",
              "      <td>18.6</td>\n",
              "      <td>2.581</td>\n",
              "      <td>1.337</td>\n",
              "      <td>1803.987</td>\n",
              "      <td>NaN</td>\n",
              "      <td>597.029</td>\n",
              "      <td>9.59</td>\n",
              "      <td>NaN</td>\n",
              "      <td>NaN</td>\n",
              "      <td>37.746</td>\n",
              "      <td>0.5</td>\n",
              "      <td>64.83</td>\n",
              "      <td>0.511</td>\n",
              "      <td>NaN</td>\n",
              "      <td>NaN</td>\n",
              "      <td>NaN</td>\n",
              "      <td>NaN</td>\n",
              "    </tr>\n",
              "    <tr>\n",
              "      <th>1</th>\n",
              "      <td>AFG</td>\n",
              "      <td>Asia</td>\n",
              "      <td>Afghanistan</td>\n",
              "      <td>2020-02-25</td>\n",
              "      <td>5.0</td>\n",
              "      <td>0.0</td>\n",
              "      <td>NaN</td>\n",
              "      <td>0.0</td>\n",
              "      <td>0.0</td>\n",
              "      <td>NaN</td>\n",
              "      <td>0.126</td>\n",
              "      <td>0.000</td>\n",
              "      <td>NaN</td>\n",
              "      <td>NaN</td>\n",
              "      <td>NaN</td>\n",
              "      <td>NaN</td>\n",
              "      <td>NaN</td>\n",
              "      <td>NaN</td>\n",
              "      <td>NaN</td>\n",
              "      <td>NaN</td>\n",
              "      <td>NaN</td>\n",
              "      <td>NaN</td>\n",
              "      <td>NaN</td>\n",
              "      <td>NaN</td>\n",
              "      <td>NaN</td>\n",
              "      <td>0.0</td>\n",
              "      <td>0.0</td>\n",
              "      <td>NaN</td>\n",
              "      <td>NaN</td>\n",
              "      <td>NaN</td>\n",
              "      <td>NaN</td>\n",
              "      <td>NaN</td>\n",
              "      <td>0.0</td>\n",
              "      <td>NaN</td>\n",
              "      <td>NaN</td>\n",
              "      <td>NaN</td>\n",
              "      <td>NaN</td>\n",
              "      <td>NaN</td>\n",
              "      <td>NaN</td>\n",
              "      <td>NaN</td>\n",
              "      <td>NaN</td>\n",
              "      <td>NaN</td>\n",
              "      <td>NaN</td>\n",
              "      <td>NaN</td>\n",
              "      <td>NaN</td>\n",
              "      <td>8.33</td>\n",
              "      <td>39835428.0</td>\n",
              "      <td>54.422</td>\n",
              "      <td>18.6</td>\n",
              "      <td>2.581</td>\n",
              "      <td>1.337</td>\n",
              "      <td>1803.987</td>\n",
              "      <td>NaN</td>\n",
              "      <td>597.029</td>\n",
              "      <td>9.59</td>\n",
              "      <td>NaN</td>\n",
              "      <td>NaN</td>\n",
              "      <td>37.746</td>\n",
              "      <td>0.5</td>\n",
              "      <td>64.83</td>\n",
              "      <td>0.511</td>\n",
              "      <td>NaN</td>\n",
              "      <td>NaN</td>\n",
              "      <td>NaN</td>\n",
              "      <td>NaN</td>\n",
              "    </tr>\n",
              "    <tr>\n",
              "      <th>2</th>\n",
              "      <td>AFG</td>\n",
              "      <td>Asia</td>\n",
              "      <td>Afghanistan</td>\n",
              "      <td>2020-02-26</td>\n",
              "      <td>5.0</td>\n",
              "      <td>0.0</td>\n",
              "      <td>NaN</td>\n",
              "      <td>0.0</td>\n",
              "      <td>0.0</td>\n",
              "      <td>NaN</td>\n",
              "      <td>0.126</td>\n",
              "      <td>0.000</td>\n",
              "      <td>NaN</td>\n",
              "      <td>NaN</td>\n",
              "      <td>NaN</td>\n",
              "      <td>NaN</td>\n",
              "      <td>NaN</td>\n",
              "      <td>NaN</td>\n",
              "      <td>NaN</td>\n",
              "      <td>NaN</td>\n",
              "      <td>NaN</td>\n",
              "      <td>NaN</td>\n",
              "      <td>NaN</td>\n",
              "      <td>NaN</td>\n",
              "      <td>NaN</td>\n",
              "      <td>0.0</td>\n",
              "      <td>0.0</td>\n",
              "      <td>NaN</td>\n",
              "      <td>NaN</td>\n",
              "      <td>NaN</td>\n",
              "      <td>NaN</td>\n",
              "      <td>NaN</td>\n",
              "      <td>0.0</td>\n",
              "      <td>NaN</td>\n",
              "      <td>NaN</td>\n",
              "      <td>NaN</td>\n",
              "      <td>NaN</td>\n",
              "      <td>NaN</td>\n",
              "      <td>NaN</td>\n",
              "      <td>NaN</td>\n",
              "      <td>NaN</td>\n",
              "      <td>NaN</td>\n",
              "      <td>NaN</td>\n",
              "      <td>NaN</td>\n",
              "      <td>NaN</td>\n",
              "      <td>8.33</td>\n",
              "      <td>39835428.0</td>\n",
              "      <td>54.422</td>\n",
              "      <td>18.6</td>\n",
              "      <td>2.581</td>\n",
              "      <td>1.337</td>\n",
              "      <td>1803.987</td>\n",
              "      <td>NaN</td>\n",
              "      <td>597.029</td>\n",
              "      <td>9.59</td>\n",
              "      <td>NaN</td>\n",
              "      <td>NaN</td>\n",
              "      <td>37.746</td>\n",
              "      <td>0.5</td>\n",
              "      <td>64.83</td>\n",
              "      <td>0.511</td>\n",
              "      <td>NaN</td>\n",
              "      <td>NaN</td>\n",
              "      <td>NaN</td>\n",
              "      <td>NaN</td>\n",
              "    </tr>\n",
              "    <tr>\n",
              "      <th>3</th>\n",
              "      <td>AFG</td>\n",
              "      <td>Asia</td>\n",
              "      <td>Afghanistan</td>\n",
              "      <td>2020-02-27</td>\n",
              "      <td>5.0</td>\n",
              "      <td>0.0</td>\n",
              "      <td>NaN</td>\n",
              "      <td>0.0</td>\n",
              "      <td>0.0</td>\n",
              "      <td>NaN</td>\n",
              "      <td>0.126</td>\n",
              "      <td>0.000</td>\n",
              "      <td>NaN</td>\n",
              "      <td>NaN</td>\n",
              "      <td>NaN</td>\n",
              "      <td>NaN</td>\n",
              "      <td>NaN</td>\n",
              "      <td>NaN</td>\n",
              "      <td>NaN</td>\n",
              "      <td>NaN</td>\n",
              "      <td>NaN</td>\n",
              "      <td>NaN</td>\n",
              "      <td>NaN</td>\n",
              "      <td>NaN</td>\n",
              "      <td>NaN</td>\n",
              "      <td>0.0</td>\n",
              "      <td>0.0</td>\n",
              "      <td>NaN</td>\n",
              "      <td>NaN</td>\n",
              "      <td>NaN</td>\n",
              "      <td>NaN</td>\n",
              "      <td>NaN</td>\n",
              "      <td>0.0</td>\n",
              "      <td>NaN</td>\n",
              "      <td>NaN</td>\n",
              "      <td>NaN</td>\n",
              "      <td>NaN</td>\n",
              "      <td>NaN</td>\n",
              "      <td>NaN</td>\n",
              "      <td>NaN</td>\n",
              "      <td>NaN</td>\n",
              "      <td>NaN</td>\n",
              "      <td>NaN</td>\n",
              "      <td>NaN</td>\n",
              "      <td>NaN</td>\n",
              "      <td>8.33</td>\n",
              "      <td>39835428.0</td>\n",
              "      <td>54.422</td>\n",
              "      <td>18.6</td>\n",
              "      <td>2.581</td>\n",
              "      <td>1.337</td>\n",
              "      <td>1803.987</td>\n",
              "      <td>NaN</td>\n",
              "      <td>597.029</td>\n",
              "      <td>9.59</td>\n",
              "      <td>NaN</td>\n",
              "      <td>NaN</td>\n",
              "      <td>37.746</td>\n",
              "      <td>0.5</td>\n",
              "      <td>64.83</td>\n",
              "      <td>0.511</td>\n",
              "      <td>NaN</td>\n",
              "      <td>NaN</td>\n",
              "      <td>NaN</td>\n",
              "      <td>NaN</td>\n",
              "    </tr>\n",
              "    <tr>\n",
              "      <th>4</th>\n",
              "      <td>AFG</td>\n",
              "      <td>Asia</td>\n",
              "      <td>Afghanistan</td>\n",
              "      <td>2020-02-28</td>\n",
              "      <td>5.0</td>\n",
              "      <td>0.0</td>\n",
              "      <td>NaN</td>\n",
              "      <td>0.0</td>\n",
              "      <td>0.0</td>\n",
              "      <td>NaN</td>\n",
              "      <td>0.126</td>\n",
              "      <td>0.000</td>\n",
              "      <td>NaN</td>\n",
              "      <td>NaN</td>\n",
              "      <td>NaN</td>\n",
              "      <td>NaN</td>\n",
              "      <td>NaN</td>\n",
              "      <td>NaN</td>\n",
              "      <td>NaN</td>\n",
              "      <td>NaN</td>\n",
              "      <td>NaN</td>\n",
              "      <td>NaN</td>\n",
              "      <td>NaN</td>\n",
              "      <td>NaN</td>\n",
              "      <td>NaN</td>\n",
              "      <td>0.0</td>\n",
              "      <td>0.0</td>\n",
              "      <td>NaN</td>\n",
              "      <td>NaN</td>\n",
              "      <td>NaN</td>\n",
              "      <td>NaN</td>\n",
              "      <td>NaN</td>\n",
              "      <td>0.0</td>\n",
              "      <td>NaN</td>\n",
              "      <td>NaN</td>\n",
              "      <td>NaN</td>\n",
              "      <td>NaN</td>\n",
              "      <td>NaN</td>\n",
              "      <td>NaN</td>\n",
              "      <td>NaN</td>\n",
              "      <td>NaN</td>\n",
              "      <td>NaN</td>\n",
              "      <td>NaN</td>\n",
              "      <td>NaN</td>\n",
              "      <td>NaN</td>\n",
              "      <td>8.33</td>\n",
              "      <td>39835428.0</td>\n",
              "      <td>54.422</td>\n",
              "      <td>18.6</td>\n",
              "      <td>2.581</td>\n",
              "      <td>1.337</td>\n",
              "      <td>1803.987</td>\n",
              "      <td>NaN</td>\n",
              "      <td>597.029</td>\n",
              "      <td>9.59</td>\n",
              "      <td>NaN</td>\n",
              "      <td>NaN</td>\n",
              "      <td>37.746</td>\n",
              "      <td>0.5</td>\n",
              "      <td>64.83</td>\n",
              "      <td>0.511</td>\n",
              "      <td>NaN</td>\n",
              "      <td>NaN</td>\n",
              "      <td>NaN</td>\n",
              "      <td>NaN</td>\n",
              "    </tr>\n",
              "    <tr>\n",
              "      <th>...</th>\n",
              "      <td>...</td>\n",
              "      <td>...</td>\n",
              "      <td>...</td>\n",
              "      <td>...</td>\n",
              "      <td>...</td>\n",
              "      <td>...</td>\n",
              "      <td>...</td>\n",
              "      <td>...</td>\n",
              "      <td>...</td>\n",
              "      <td>...</td>\n",
              "      <td>...</td>\n",
              "      <td>...</td>\n",
              "      <td>...</td>\n",
              "      <td>...</td>\n",
              "      <td>...</td>\n",
              "      <td>...</td>\n",
              "      <td>...</td>\n",
              "      <td>...</td>\n",
              "      <td>...</td>\n",
              "      <td>...</td>\n",
              "      <td>...</td>\n",
              "      <td>...</td>\n",
              "      <td>...</td>\n",
              "      <td>...</td>\n",
              "      <td>...</td>\n",
              "      <td>...</td>\n",
              "      <td>...</td>\n",
              "      <td>...</td>\n",
              "      <td>...</td>\n",
              "      <td>...</td>\n",
              "      <td>...</td>\n",
              "      <td>...</td>\n",
              "      <td>...</td>\n",
              "      <td>...</td>\n",
              "      <td>...</td>\n",
              "      <td>...</td>\n",
              "      <td>...</td>\n",
              "      <td>...</td>\n",
              "      <td>...</td>\n",
              "      <td>...</td>\n",
              "      <td>...</td>\n",
              "      <td>...</td>\n",
              "      <td>...</td>\n",
              "      <td>...</td>\n",
              "      <td>...</td>\n",
              "      <td>...</td>\n",
              "      <td>...</td>\n",
              "      <td>...</td>\n",
              "      <td>...</td>\n",
              "      <td>...</td>\n",
              "      <td>...</td>\n",
              "      <td>...</td>\n",
              "      <td>...</td>\n",
              "      <td>...</td>\n",
              "      <td>...</td>\n",
              "      <td>...</td>\n",
              "      <td>...</td>\n",
              "      <td>...</td>\n",
              "      <td>...</td>\n",
              "      <td>...</td>\n",
              "      <td>...</td>\n",
              "      <td>...</td>\n",
              "      <td>...</td>\n",
              "      <td>...</td>\n",
              "      <td>...</td>\n",
              "    </tr>\n",
              "    <tr>\n",
              "      <th>120534</th>\n",
              "      <td>ZWE</td>\n",
              "      <td>Africa</td>\n",
              "      <td>Zimbabwe</td>\n",
              "      <td>2021-09-27</td>\n",
              "      <td>129919.0</td>\n",
              "      <td>294.0</td>\n",
              "      <td>247.571</td>\n",
              "      <td>4607.0</td>\n",
              "      <td>3.0</td>\n",
              "      <td>5.429</td>\n",
              "      <td>8608.371</td>\n",
              "      <td>19.480</td>\n",
              "      <td>16.404</td>\n",
              "      <td>305.258</td>\n",
              "      <td>0.199</td>\n",
              "      <td>0.360</td>\n",
              "      <td>1.12</td>\n",
              "      <td>NaN</td>\n",
              "      <td>NaN</td>\n",
              "      <td>NaN</td>\n",
              "      <td>NaN</td>\n",
              "      <td>NaN</td>\n",
              "      <td>NaN</td>\n",
              "      <td>NaN</td>\n",
              "      <td>NaN</td>\n",
              "      <td>0.0</td>\n",
              "      <td>0.0</td>\n",
              "      <td>NaN</td>\n",
              "      <td>NaN</td>\n",
              "      <td>NaN</td>\n",
              "      <td>NaN</td>\n",
              "      <td>NaN</td>\n",
              "      <td>0.0</td>\n",
              "      <td>NaN</td>\n",
              "      <td>5263782.0</td>\n",
              "      <td>3050981.0</td>\n",
              "      <td>2212801.0</td>\n",
              "      <td>NaN</td>\n",
              "      <td>28907.0</td>\n",
              "      <td>31282.0</td>\n",
              "      <td>34.88</td>\n",
              "      <td>20.22</td>\n",
              "      <td>14.66</td>\n",
              "      <td>NaN</td>\n",
              "      <td>2073.0</td>\n",
              "      <td>NaN</td>\n",
              "      <td>15092171.0</td>\n",
              "      <td>42.729</td>\n",
              "      <td>19.6</td>\n",
              "      <td>2.822</td>\n",
              "      <td>1.882</td>\n",
              "      <td>1899.775</td>\n",
              "      <td>21.4</td>\n",
              "      <td>307.846</td>\n",
              "      <td>1.82</td>\n",
              "      <td>1.6</td>\n",
              "      <td>30.7</td>\n",
              "      <td>36.791</td>\n",
              "      <td>1.7</td>\n",
              "      <td>61.49</td>\n",
              "      <td>0.571</td>\n",
              "      <td>NaN</td>\n",
              "      <td>NaN</td>\n",
              "      <td>NaN</td>\n",
              "      <td>NaN</td>\n",
              "    </tr>\n",
              "    <tr>\n",
              "      <th>120535</th>\n",
              "      <td>ZWE</td>\n",
              "      <td>Africa</td>\n",
              "      <td>Zimbabwe</td>\n",
              "      <td>2021-09-28</td>\n",
              "      <td>130272.0</td>\n",
              "      <td>353.0</td>\n",
              "      <td>298.000</td>\n",
              "      <td>4615.0</td>\n",
              "      <td>8.0</td>\n",
              "      <td>6.571</td>\n",
              "      <td>8631.760</td>\n",
              "      <td>23.390</td>\n",
              "      <td>19.745</td>\n",
              "      <td>305.788</td>\n",
              "      <td>0.530</td>\n",
              "      <td>0.435</td>\n",
              "      <td>1.11</td>\n",
              "      <td>NaN</td>\n",
              "      <td>NaN</td>\n",
              "      <td>NaN</td>\n",
              "      <td>NaN</td>\n",
              "      <td>NaN</td>\n",
              "      <td>NaN</td>\n",
              "      <td>NaN</td>\n",
              "      <td>NaN</td>\n",
              "      <td>0.0</td>\n",
              "      <td>0.0</td>\n",
              "      <td>NaN</td>\n",
              "      <td>NaN</td>\n",
              "      <td>NaN</td>\n",
              "      <td>NaN</td>\n",
              "      <td>NaN</td>\n",
              "      <td>0.0</td>\n",
              "      <td>NaN</td>\n",
              "      <td>5290317.0</td>\n",
              "      <td>3060086.0</td>\n",
              "      <td>2230231.0</td>\n",
              "      <td>NaN</td>\n",
              "      <td>26535.0</td>\n",
              "      <td>29469.0</td>\n",
              "      <td>35.05</td>\n",
              "      <td>20.28</td>\n",
              "      <td>14.78</td>\n",
              "      <td>NaN</td>\n",
              "      <td>1953.0</td>\n",
              "      <td>NaN</td>\n",
              "      <td>15092171.0</td>\n",
              "      <td>42.729</td>\n",
              "      <td>19.6</td>\n",
              "      <td>2.822</td>\n",
              "      <td>1.882</td>\n",
              "      <td>1899.775</td>\n",
              "      <td>21.4</td>\n",
              "      <td>307.846</td>\n",
              "      <td>1.82</td>\n",
              "      <td>1.6</td>\n",
              "      <td>30.7</td>\n",
              "      <td>36.791</td>\n",
              "      <td>1.7</td>\n",
              "      <td>61.49</td>\n",
              "      <td>0.571</td>\n",
              "      <td>NaN</td>\n",
              "      <td>NaN</td>\n",
              "      <td>NaN</td>\n",
              "      <td>NaN</td>\n",
              "    </tr>\n",
              "    <tr>\n",
              "      <th>120536</th>\n",
              "      <td>ZWE</td>\n",
              "      <td>Africa</td>\n",
              "      <td>Zimbabwe</td>\n",
              "      <td>2021-09-29</td>\n",
              "      <td>130485.0</td>\n",
              "      <td>213.0</td>\n",
              "      <td>240.143</td>\n",
              "      <td>4616.0</td>\n",
              "      <td>1.0</td>\n",
              "      <td>3.429</td>\n",
              "      <td>8645.873</td>\n",
              "      <td>14.113</td>\n",
              "      <td>15.912</td>\n",
              "      <td>305.854</td>\n",
              "      <td>0.066</td>\n",
              "      <td>0.227</td>\n",
              "      <td>1.10</td>\n",
              "      <td>NaN</td>\n",
              "      <td>NaN</td>\n",
              "      <td>NaN</td>\n",
              "      <td>NaN</td>\n",
              "      <td>NaN</td>\n",
              "      <td>NaN</td>\n",
              "      <td>NaN</td>\n",
              "      <td>NaN</td>\n",
              "      <td>0.0</td>\n",
              "      <td>0.0</td>\n",
              "      <td>NaN</td>\n",
              "      <td>NaN</td>\n",
              "      <td>NaN</td>\n",
              "      <td>NaN</td>\n",
              "      <td>NaN</td>\n",
              "      <td>0.0</td>\n",
              "      <td>NaN</td>\n",
              "      <td>5320565.0</td>\n",
              "      <td>3071643.0</td>\n",
              "      <td>2248922.0</td>\n",
              "      <td>NaN</td>\n",
              "      <td>30248.0</td>\n",
              "      <td>28149.0</td>\n",
              "      <td>35.25</td>\n",
              "      <td>20.35</td>\n",
              "      <td>14.90</td>\n",
              "      <td>NaN</td>\n",
              "      <td>1865.0</td>\n",
              "      <td>NaN</td>\n",
              "      <td>15092171.0</td>\n",
              "      <td>42.729</td>\n",
              "      <td>19.6</td>\n",
              "      <td>2.822</td>\n",
              "      <td>1.882</td>\n",
              "      <td>1899.775</td>\n",
              "      <td>21.4</td>\n",
              "      <td>307.846</td>\n",
              "      <td>1.82</td>\n",
              "      <td>1.6</td>\n",
              "      <td>30.7</td>\n",
              "      <td>36.791</td>\n",
              "      <td>1.7</td>\n",
              "      <td>61.49</td>\n",
              "      <td>0.571</td>\n",
              "      <td>NaN</td>\n",
              "      <td>NaN</td>\n",
              "      <td>NaN</td>\n",
              "      <td>NaN</td>\n",
              "    </tr>\n",
              "    <tr>\n",
              "      <th>120537</th>\n",
              "      <td>ZWE</td>\n",
              "      <td>Africa</td>\n",
              "      <td>Zimbabwe</td>\n",
              "      <td>2021-09-30</td>\n",
              "      <td>130820.0</td>\n",
              "      <td>335.0</td>\n",
              "      <td>240.857</td>\n",
              "      <td>4623.0</td>\n",
              "      <td>7.0</td>\n",
              "      <td>3.286</td>\n",
              "      <td>8668.070</td>\n",
              "      <td>22.197</td>\n",
              "      <td>15.959</td>\n",
              "      <td>306.318</td>\n",
              "      <td>0.464</td>\n",
              "      <td>0.218</td>\n",
              "      <td>NaN</td>\n",
              "      <td>NaN</td>\n",
              "      <td>NaN</td>\n",
              "      <td>NaN</td>\n",
              "      <td>NaN</td>\n",
              "      <td>NaN</td>\n",
              "      <td>NaN</td>\n",
              "      <td>NaN</td>\n",
              "      <td>NaN</td>\n",
              "      <td>0.0</td>\n",
              "      <td>0.0</td>\n",
              "      <td>NaN</td>\n",
              "      <td>NaN</td>\n",
              "      <td>NaN</td>\n",
              "      <td>NaN</td>\n",
              "      <td>NaN</td>\n",
              "      <td>0.0</td>\n",
              "      <td>NaN</td>\n",
              "      <td>5355820.0</td>\n",
              "      <td>3083764.0</td>\n",
              "      <td>2272056.0</td>\n",
              "      <td>NaN</td>\n",
              "      <td>35255.0</td>\n",
              "      <td>27045.0</td>\n",
              "      <td>35.49</td>\n",
              "      <td>20.43</td>\n",
              "      <td>15.05</td>\n",
              "      <td>NaN</td>\n",
              "      <td>1792.0</td>\n",
              "      <td>NaN</td>\n",
              "      <td>15092171.0</td>\n",
              "      <td>42.729</td>\n",
              "      <td>19.6</td>\n",
              "      <td>2.822</td>\n",
              "      <td>1.882</td>\n",
              "      <td>1899.775</td>\n",
              "      <td>21.4</td>\n",
              "      <td>307.846</td>\n",
              "      <td>1.82</td>\n",
              "      <td>1.6</td>\n",
              "      <td>30.7</td>\n",
              "      <td>36.791</td>\n",
              "      <td>1.7</td>\n",
              "      <td>61.49</td>\n",
              "      <td>0.571</td>\n",
              "      <td>NaN</td>\n",
              "      <td>NaN</td>\n",
              "      <td>NaN</td>\n",
              "      <td>NaN</td>\n",
              "    </tr>\n",
              "    <tr>\n",
              "      <th>120538</th>\n",
              "      <td>ZWE</td>\n",
              "      <td>Africa</td>\n",
              "      <td>Zimbabwe</td>\n",
              "      <td>2021-10-01</td>\n",
              "      <td>131028.0</td>\n",
              "      <td>208.0</td>\n",
              "      <td>270.571</td>\n",
              "      <td>4624.0</td>\n",
              "      <td>1.0</td>\n",
              "      <td>3.429</td>\n",
              "      <td>8681.852</td>\n",
              "      <td>13.782</td>\n",
              "      <td>17.928</td>\n",
              "      <td>306.384</td>\n",
              "      <td>0.066</td>\n",
              "      <td>0.227</td>\n",
              "      <td>NaN</td>\n",
              "      <td>NaN</td>\n",
              "      <td>NaN</td>\n",
              "      <td>NaN</td>\n",
              "      <td>NaN</td>\n",
              "      <td>NaN</td>\n",
              "      <td>NaN</td>\n",
              "      <td>NaN</td>\n",
              "      <td>NaN</td>\n",
              "      <td>0.0</td>\n",
              "      <td>0.0</td>\n",
              "      <td>NaN</td>\n",
              "      <td>NaN</td>\n",
              "      <td>NaN</td>\n",
              "      <td>NaN</td>\n",
              "      <td>NaN</td>\n",
              "      <td>0.0</td>\n",
              "      <td>NaN</td>\n",
              "      <td>NaN</td>\n",
              "      <td>NaN</td>\n",
              "      <td>NaN</td>\n",
              "      <td>NaN</td>\n",
              "      <td>NaN</td>\n",
              "      <td>NaN</td>\n",
              "      <td>NaN</td>\n",
              "      <td>NaN</td>\n",
              "      <td>NaN</td>\n",
              "      <td>NaN</td>\n",
              "      <td>NaN</td>\n",
              "      <td>NaN</td>\n",
              "      <td>15092171.0</td>\n",
              "      <td>42.729</td>\n",
              "      <td>19.6</td>\n",
              "      <td>2.822</td>\n",
              "      <td>1.882</td>\n",
              "      <td>1899.775</td>\n",
              "      <td>21.4</td>\n",
              "      <td>307.846</td>\n",
              "      <td>1.82</td>\n",
              "      <td>1.6</td>\n",
              "      <td>30.7</td>\n",
              "      <td>36.791</td>\n",
              "      <td>1.7</td>\n",
              "      <td>61.49</td>\n",
              "      <td>0.571</td>\n",
              "      <td>NaN</td>\n",
              "      <td>NaN</td>\n",
              "      <td>NaN</td>\n",
              "      <td>NaN</td>\n",
              "    </tr>\n",
              "  </tbody>\n",
              "</table>\n",
              "<p>120539 rows × 65 columns</p>\n",
              "</div>"
            ],
            "text/plain": [
              "       iso_code  ... excess_mortality_cumulative_per_million\n",
              "0           AFG  ...                                     NaN\n",
              "1           AFG  ...                                     NaN\n",
              "2           AFG  ...                                     NaN\n",
              "3           AFG  ...                                     NaN\n",
              "4           AFG  ...                                     NaN\n",
              "...         ...  ...                                     ...\n",
              "120534      ZWE  ...                                     NaN\n",
              "120535      ZWE  ...                                     NaN\n",
              "120536      ZWE  ...                                     NaN\n",
              "120537      ZWE  ...                                     NaN\n",
              "120538      ZWE  ...                                     NaN\n",
              "\n",
              "[120539 rows x 65 columns]"
            ]
          },
          "metadata": {},
          "execution_count": 4
        }
      ]
    },
    {
      "cell_type": "code",
      "metadata": {
        "id": "EL9CHRKCgAE0"
      },
      "source": [
        "iso_code_list = list(df['iso_code'])"
      ],
      "execution_count": null,
      "outputs": []
    },
    {
      "cell_type": "code",
      "metadata": {
        "id": "pteerRoigZzQ"
      },
      "source": [
        "new_cases_list = list(df['new_cases'])"
      ],
      "execution_count": null,
      "outputs": []
    },
    {
      "cell_type": "code",
      "metadata": {
        "id": "_mAlh5CWQdyG"
      },
      "source": [
        "i_list = []\n",
        "for i in range(len(iso_code_list)):\n",
        "  if iso_code_list[i] == 'THA':\n",
        "    i_list.append(i)"
      ],
      "execution_count": null,
      "outputs": []
    },
    {
      "cell_type": "code",
      "metadata": {
        "id": "a3uOZPzbn4Cj"
      },
      "source": [
        "tha_df = df.drop(index=df.index.difference(i_list))"
      ],
      "execution_count": null,
      "outputs": []
    },
    {
      "cell_type": "code",
      "metadata": {
        "id": "_dpMkfhFBEjM"
      },
      "source": [
        "# tha_df.to_csv('th_df.csv')"
      ],
      "execution_count": null,
      "outputs": []
    },
    {
      "cell_type": "code",
      "metadata": {
        "colab": {
          "base_uri": "https://localhost:8080/",
          "height": 309
        },
        "id": "_pvD3xHdpAql",
        "outputId": "b836fdd6-74c4-4000-a22e-5aa2e4e72f76"
      },
      "source": [
        "tha_df.tail()"
      ],
      "execution_count": null,
      "outputs": [
        {
          "output_type": "execute_result",
          "data": {
            "text/html": [
              "<div>\n",
              "<style scoped>\n",
              "    .dataframe tbody tr th:only-of-type {\n",
              "        vertical-align: middle;\n",
              "    }\n",
              "\n",
              "    .dataframe tbody tr th {\n",
              "        vertical-align: top;\n",
              "    }\n",
              "\n",
              "    .dataframe thead th {\n",
              "        text-align: right;\n",
              "    }\n",
              "</style>\n",
              "<table border=\"1\" class=\"dataframe\">\n",
              "  <thead>\n",
              "    <tr style=\"text-align: right;\">\n",
              "      <th></th>\n",
              "      <th>iso_code</th>\n",
              "      <th>continent</th>\n",
              "      <th>location</th>\n",
              "      <th>date</th>\n",
              "      <th>total_cases</th>\n",
              "      <th>new_cases</th>\n",
              "      <th>new_cases_smoothed</th>\n",
              "      <th>total_deaths</th>\n",
              "      <th>new_deaths</th>\n",
              "      <th>new_deaths_smoothed</th>\n",
              "      <th>total_cases_per_million</th>\n",
              "      <th>new_cases_per_million</th>\n",
              "      <th>new_cases_smoothed_per_million</th>\n",
              "      <th>total_deaths_per_million</th>\n",
              "      <th>new_deaths_per_million</th>\n",
              "      <th>new_deaths_smoothed_per_million</th>\n",
              "      <th>reproduction_rate</th>\n",
              "      <th>icu_patients</th>\n",
              "      <th>icu_patients_per_million</th>\n",
              "      <th>hosp_patients</th>\n",
              "      <th>hosp_patients_per_million</th>\n",
              "      <th>weekly_icu_admissions</th>\n",
              "      <th>weekly_icu_admissions_per_million</th>\n",
              "      <th>weekly_hosp_admissions</th>\n",
              "      <th>weekly_hosp_admissions_per_million</th>\n",
              "      <th>new_tests</th>\n",
              "      <th>total_tests</th>\n",
              "      <th>total_tests_per_thousand</th>\n",
              "      <th>new_tests_per_thousand</th>\n",
              "      <th>new_tests_smoothed</th>\n",
              "      <th>new_tests_smoothed_per_thousand</th>\n",
              "      <th>positive_rate</th>\n",
              "      <th>tests_per_case</th>\n",
              "      <th>tests_units</th>\n",
              "      <th>total_vaccinations</th>\n",
              "      <th>people_vaccinated</th>\n",
              "      <th>people_fully_vaccinated</th>\n",
              "      <th>total_boosters</th>\n",
              "      <th>new_vaccinations</th>\n",
              "      <th>new_vaccinations_smoothed</th>\n",
              "      <th>total_vaccinations_per_hundred</th>\n",
              "      <th>people_vaccinated_per_hundred</th>\n",
              "      <th>people_fully_vaccinated_per_hundred</th>\n",
              "      <th>total_boosters_per_hundred</th>\n",
              "      <th>new_vaccinations_smoothed_per_million</th>\n",
              "      <th>stringency_index</th>\n",
              "      <th>population</th>\n",
              "      <th>population_density</th>\n",
              "      <th>median_age</th>\n",
              "      <th>aged_65_older</th>\n",
              "      <th>aged_70_older</th>\n",
              "      <th>gdp_per_capita</th>\n",
              "      <th>extreme_poverty</th>\n",
              "      <th>cardiovasc_death_rate</th>\n",
              "      <th>diabetes_prevalence</th>\n",
              "      <th>female_smokers</th>\n",
              "      <th>male_smokers</th>\n",
              "      <th>handwashing_facilities</th>\n",
              "      <th>hospital_beds_per_thousand</th>\n",
              "      <th>life_expectancy</th>\n",
              "      <th>human_development_index</th>\n",
              "      <th>excess_mortality_cumulative_absolute</th>\n",
              "      <th>excess_mortality_cumulative</th>\n",
              "      <th>excess_mortality</th>\n",
              "      <th>excess_mortality_cumulative_per_million</th>\n",
              "    </tr>\n",
              "  </thead>\n",
              "  <tbody>\n",
              "    <tr>\n",
              "      <th>108411</th>\n",
              "      <td>THA</td>\n",
              "      <td>Asia</td>\n",
              "      <td>Thailand</td>\n",
              "      <td>2021-09-27</td>\n",
              "      <td>1571926.0</td>\n",
              "      <td>10288.0</td>\n",
              "      <td>11820.000</td>\n",
              "      <td>16369.0</td>\n",
              "      <td>101.0</td>\n",
              "      <td>128.571</td>\n",
              "      <td>22471.866</td>\n",
              "      <td>147.075</td>\n",
              "      <td>168.976</td>\n",
              "      <td>234.007</td>\n",
              "      <td>1.444</td>\n",
              "      <td>1.838</td>\n",
              "      <td>0.9</td>\n",
              "      <td>NaN</td>\n",
              "      <td>NaN</td>\n",
              "      <td>NaN</td>\n",
              "      <td>NaN</td>\n",
              "      <td>NaN</td>\n",
              "      <td>NaN</td>\n",
              "      <td>NaN</td>\n",
              "      <td>NaN</td>\n",
              "      <td>0.0</td>\n",
              "      <td>0.0</td>\n",
              "      <td>NaN</td>\n",
              "      <td>NaN</td>\n",
              "      <td>NaN</td>\n",
              "      <td>NaN</td>\n",
              "      <td>NaN</td>\n",
              "      <td>0.0</td>\n",
              "      <td>NaN</td>\n",
              "      <td>NaN</td>\n",
              "      <td>NaN</td>\n",
              "      <td>NaN</td>\n",
              "      <td>NaN</td>\n",
              "      <td>NaN</td>\n",
              "      <td>NaN</td>\n",
              "      <td>NaN</td>\n",
              "      <td>NaN</td>\n",
              "      <td>NaN</td>\n",
              "      <td>NaN</td>\n",
              "      <td>NaN</td>\n",
              "      <td>NaN</td>\n",
              "      <td>69950844.0</td>\n",
              "      <td>135.132</td>\n",
              "      <td>40.1</td>\n",
              "      <td>11.373</td>\n",
              "      <td>6.89</td>\n",
              "      <td>16277.671</td>\n",
              "      <td>0.1</td>\n",
              "      <td>109.861</td>\n",
              "      <td>7.04</td>\n",
              "      <td>1.9</td>\n",
              "      <td>38.8</td>\n",
              "      <td>90.67</td>\n",
              "      <td>2.1</td>\n",
              "      <td>77.15</td>\n",
              "      <td>0.777</td>\n",
              "      <td>NaN</td>\n",
              "      <td>NaN</td>\n",
              "      <td>NaN</td>\n",
              "      <td>NaN</td>\n",
              "    </tr>\n",
              "    <tr>\n",
              "      <th>108412</th>\n",
              "      <td>THA</td>\n",
              "      <td>Asia</td>\n",
              "      <td>Thailand</td>\n",
              "      <td>2021-09-28</td>\n",
              "      <td>1581415.0</td>\n",
              "      <td>9489.0</td>\n",
              "      <td>11615.714</td>\n",
              "      <td>16498.0</td>\n",
              "      <td>129.0</td>\n",
              "      <td>126.571</td>\n",
              "      <td>22607.519</td>\n",
              "      <td>135.652</td>\n",
              "      <td>166.055</td>\n",
              "      <td>235.851</td>\n",
              "      <td>1.844</td>\n",
              "      <td>1.809</td>\n",
              "      <td>0.9</td>\n",
              "      <td>NaN</td>\n",
              "      <td>NaN</td>\n",
              "      <td>NaN</td>\n",
              "      <td>NaN</td>\n",
              "      <td>NaN</td>\n",
              "      <td>NaN</td>\n",
              "      <td>NaN</td>\n",
              "      <td>NaN</td>\n",
              "      <td>0.0</td>\n",
              "      <td>0.0</td>\n",
              "      <td>NaN</td>\n",
              "      <td>NaN</td>\n",
              "      <td>NaN</td>\n",
              "      <td>NaN</td>\n",
              "      <td>NaN</td>\n",
              "      <td>0.0</td>\n",
              "      <td>NaN</td>\n",
              "      <td>NaN</td>\n",
              "      <td>NaN</td>\n",
              "      <td>NaN</td>\n",
              "      <td>NaN</td>\n",
              "      <td>NaN</td>\n",
              "      <td>NaN</td>\n",
              "      <td>NaN</td>\n",
              "      <td>NaN</td>\n",
              "      <td>NaN</td>\n",
              "      <td>NaN</td>\n",
              "      <td>NaN</td>\n",
              "      <td>NaN</td>\n",
              "      <td>69950844.0</td>\n",
              "      <td>135.132</td>\n",
              "      <td>40.1</td>\n",
              "      <td>11.373</td>\n",
              "      <td>6.89</td>\n",
              "      <td>16277.671</td>\n",
              "      <td>0.1</td>\n",
              "      <td>109.861</td>\n",
              "      <td>7.04</td>\n",
              "      <td>1.9</td>\n",
              "      <td>38.8</td>\n",
              "      <td>90.67</td>\n",
              "      <td>2.1</td>\n",
              "      <td>77.15</td>\n",
              "      <td>0.777</td>\n",
              "      <td>NaN</td>\n",
              "      <td>NaN</td>\n",
              "      <td>NaN</td>\n",
              "      <td>NaN</td>\n",
              "    </tr>\n",
              "    <tr>\n",
              "      <th>108413</th>\n",
              "      <td>THA</td>\n",
              "      <td>Asia</td>\n",
              "      <td>Thailand</td>\n",
              "      <td>2021-09-29</td>\n",
              "      <td>1591829.0</td>\n",
              "      <td>10414.0</td>\n",
              "      <td>11496.000</td>\n",
              "      <td>16620.0</td>\n",
              "      <td>122.0</td>\n",
              "      <td>123.857</td>\n",
              "      <td>22756.394</td>\n",
              "      <td>148.876</td>\n",
              "      <td>164.344</td>\n",
              "      <td>237.595</td>\n",
              "      <td>1.744</td>\n",
              "      <td>1.771</td>\n",
              "      <td>0.9</td>\n",
              "      <td>NaN</td>\n",
              "      <td>NaN</td>\n",
              "      <td>NaN</td>\n",
              "      <td>NaN</td>\n",
              "      <td>NaN</td>\n",
              "      <td>NaN</td>\n",
              "      <td>NaN</td>\n",
              "      <td>NaN</td>\n",
              "      <td>0.0</td>\n",
              "      <td>0.0</td>\n",
              "      <td>NaN</td>\n",
              "      <td>NaN</td>\n",
              "      <td>NaN</td>\n",
              "      <td>NaN</td>\n",
              "      <td>NaN</td>\n",
              "      <td>0.0</td>\n",
              "      <td>NaN</td>\n",
              "      <td>NaN</td>\n",
              "      <td>NaN</td>\n",
              "      <td>NaN</td>\n",
              "      <td>NaN</td>\n",
              "      <td>NaN</td>\n",
              "      <td>NaN</td>\n",
              "      <td>NaN</td>\n",
              "      <td>NaN</td>\n",
              "      <td>NaN</td>\n",
              "      <td>NaN</td>\n",
              "      <td>NaN</td>\n",
              "      <td>NaN</td>\n",
              "      <td>69950844.0</td>\n",
              "      <td>135.132</td>\n",
              "      <td>40.1</td>\n",
              "      <td>11.373</td>\n",
              "      <td>6.89</td>\n",
              "      <td>16277.671</td>\n",
              "      <td>0.1</td>\n",
              "      <td>109.861</td>\n",
              "      <td>7.04</td>\n",
              "      <td>1.9</td>\n",
              "      <td>38.8</td>\n",
              "      <td>90.67</td>\n",
              "      <td>2.1</td>\n",
              "      <td>77.15</td>\n",
              "      <td>0.777</td>\n",
              "      <td>NaN</td>\n",
              "      <td>NaN</td>\n",
              "      <td>NaN</td>\n",
              "      <td>NaN</td>\n",
              "    </tr>\n",
              "    <tr>\n",
              "      <th>108414</th>\n",
              "      <td>THA</td>\n",
              "      <td>Asia</td>\n",
              "      <td>Thailand</td>\n",
              "      <td>2021-09-30</td>\n",
              "      <td>1603475.0</td>\n",
              "      <td>11646.0</td>\n",
              "      <td>11266.000</td>\n",
              "      <td>16727.0</td>\n",
              "      <td>107.0</td>\n",
              "      <td>120.429</td>\n",
              "      <td>22922.883</td>\n",
              "      <td>166.488</td>\n",
              "      <td>161.056</td>\n",
              "      <td>239.125</td>\n",
              "      <td>1.530</td>\n",
              "      <td>1.722</td>\n",
              "      <td>NaN</td>\n",
              "      <td>NaN</td>\n",
              "      <td>NaN</td>\n",
              "      <td>NaN</td>\n",
              "      <td>NaN</td>\n",
              "      <td>NaN</td>\n",
              "      <td>NaN</td>\n",
              "      <td>NaN</td>\n",
              "      <td>NaN</td>\n",
              "      <td>0.0</td>\n",
              "      <td>0.0</td>\n",
              "      <td>NaN</td>\n",
              "      <td>NaN</td>\n",
              "      <td>NaN</td>\n",
              "      <td>NaN</td>\n",
              "      <td>NaN</td>\n",
              "      <td>0.0</td>\n",
              "      <td>NaN</td>\n",
              "      <td>NaN</td>\n",
              "      <td>NaN</td>\n",
              "      <td>NaN</td>\n",
              "      <td>NaN</td>\n",
              "      <td>NaN</td>\n",
              "      <td>NaN</td>\n",
              "      <td>NaN</td>\n",
              "      <td>NaN</td>\n",
              "      <td>NaN</td>\n",
              "      <td>NaN</td>\n",
              "      <td>NaN</td>\n",
              "      <td>NaN</td>\n",
              "      <td>69950844.0</td>\n",
              "      <td>135.132</td>\n",
              "      <td>40.1</td>\n",
              "      <td>11.373</td>\n",
              "      <td>6.89</td>\n",
              "      <td>16277.671</td>\n",
              "      <td>0.1</td>\n",
              "      <td>109.861</td>\n",
              "      <td>7.04</td>\n",
              "      <td>1.9</td>\n",
              "      <td>38.8</td>\n",
              "      <td>90.67</td>\n",
              "      <td>2.1</td>\n",
              "      <td>77.15</td>\n",
              "      <td>0.777</td>\n",
              "      <td>NaN</td>\n",
              "      <td>NaN</td>\n",
              "      <td>NaN</td>\n",
              "      <td>NaN</td>\n",
              "    </tr>\n",
              "    <tr>\n",
              "      <th>108415</th>\n",
              "      <td>THA</td>\n",
              "      <td>Asia</td>\n",
              "      <td>Thailand</td>\n",
              "      <td>2021-10-01</td>\n",
              "      <td>1615229.0</td>\n",
              "      <td>11754.0</td>\n",
              "      <td>11131.286</td>\n",
              "      <td>16850.0</td>\n",
              "      <td>123.0</td>\n",
              "      <td>119.143</td>\n",
              "      <td>23090.915</td>\n",
              "      <td>168.032</td>\n",
              "      <td>159.130</td>\n",
              "      <td>240.883</td>\n",
              "      <td>1.758</td>\n",
              "      <td>1.703</td>\n",
              "      <td>NaN</td>\n",
              "      <td>NaN</td>\n",
              "      <td>NaN</td>\n",
              "      <td>NaN</td>\n",
              "      <td>NaN</td>\n",
              "      <td>NaN</td>\n",
              "      <td>NaN</td>\n",
              "      <td>NaN</td>\n",
              "      <td>NaN</td>\n",
              "      <td>0.0</td>\n",
              "      <td>0.0</td>\n",
              "      <td>NaN</td>\n",
              "      <td>NaN</td>\n",
              "      <td>NaN</td>\n",
              "      <td>NaN</td>\n",
              "      <td>NaN</td>\n",
              "      <td>0.0</td>\n",
              "      <td>NaN</td>\n",
              "      <td>NaN</td>\n",
              "      <td>NaN</td>\n",
              "      <td>NaN</td>\n",
              "      <td>NaN</td>\n",
              "      <td>NaN</td>\n",
              "      <td>NaN</td>\n",
              "      <td>NaN</td>\n",
              "      <td>NaN</td>\n",
              "      <td>NaN</td>\n",
              "      <td>NaN</td>\n",
              "      <td>NaN</td>\n",
              "      <td>NaN</td>\n",
              "      <td>69950844.0</td>\n",
              "      <td>135.132</td>\n",
              "      <td>40.1</td>\n",
              "      <td>11.373</td>\n",
              "      <td>6.89</td>\n",
              "      <td>16277.671</td>\n",
              "      <td>0.1</td>\n",
              "      <td>109.861</td>\n",
              "      <td>7.04</td>\n",
              "      <td>1.9</td>\n",
              "      <td>38.8</td>\n",
              "      <td>90.67</td>\n",
              "      <td>2.1</td>\n",
              "      <td>77.15</td>\n",
              "      <td>0.777</td>\n",
              "      <td>NaN</td>\n",
              "      <td>NaN</td>\n",
              "      <td>NaN</td>\n",
              "      <td>NaN</td>\n",
              "    </tr>\n",
              "  </tbody>\n",
              "</table>\n",
              "</div>"
            ],
            "text/plain": [
              "       iso_code  ... excess_mortality_cumulative_per_million\n",
              "108411      THA  ...                                     NaN\n",
              "108412      THA  ...                                     NaN\n",
              "108413      THA  ...                                     NaN\n",
              "108414      THA  ...                                     NaN\n",
              "108415      THA  ...                                     NaN\n",
              "\n",
              "[5 rows x 65 columns]"
            ]
          },
          "metadata": {},
          "execution_count": 10
        }
      ]
    },
    {
      "cell_type": "code",
      "metadata": {
        "id": "qPC-Q3x2S_sY"
      },
      "source": [
        "idx_tha_new_cases = [idx+1 for idx in range(len(i_list))]"
      ],
      "execution_count": null,
      "outputs": []
    },
    {
      "cell_type": "code",
      "metadata": {
        "id": "QJSJqyI-4iBI"
      },
      "source": [
        "tha_new_cases = list(tha_df['new_cases'])"
      ],
      "execution_count": null,
      "outputs": []
    },
    {
      "cell_type": "code",
      "metadata": {
        "colab": {
          "base_uri": "https://localhost:8080/",
          "height": 282
        },
        "id": "80cGpx1FSmhb",
        "outputId": "cc7ed4f4-3cf3-4393-b080-4fad72749801"
      },
      "source": [
        "plt.plot(idx_tha_new_cases, tha_new_cases)"
      ],
      "execution_count": null,
      "outputs": [
        {
          "output_type": "execute_result",
          "data": {
            "text/plain": [
              "[<matplotlib.lines.Line2D at 0x7f85464ea0d0>]"
            ]
          },
          "metadata": {},
          "execution_count": 13
        },
        {
          "output_type": "display_data",
          "data": {
            "image/png": "[encoded data removed]",
            "text/plain": [
              "<Figure size 432x288 with 1 Axes>"
            ]
          },
          "metadata": {
            "needs_background": "light"
          }
        }
      ]
    },
    {
      "cell_type": "markdown",
      "metadata": {
        "id": "Q9p1pdvqiqwY"
      },
      "source": [
        "## TO DO2 [2 คะแนน] จากกราฟ จงระบุจุดสูงสุดของการระบาดในประเทศไทยทั้งสี่ระลอก\n",
        "\n",
        "ช่วงเวลาการระบาดแต่ละระลอก https://workpointtoday.com/covid-19-149/\n",
        "\n",
        "Hint1 pandasมีเครื่องมือช่วยเหลือมากมายเวลาทำงานกับข้อมูลเวลา สามารถศึกษาเพิ่มเติมได้ที่ https://ichi.pro/th/kar-thangan-kab-wan-thi-laea-wela-ni-pandas-dataframe-112422831965575 หรือ https://www.youtube.com/watch?v=Op4e6amDblE"
      ]
    },
    {
      "cell_type": "code",
      "metadata": {
        "id": "1dKyW_G1mJi6"
      },
      "source": [
        "# เขียนโค้ดประกอบ สามารถเพิ่มจำนวนช่องโค้ดได้ตามใจชอบ\n",
        "tha_df_date = tha_df.set_index(['date'])"
      ],
      "execution_count": null,
      "outputs": []
    },
    {
      "cell_type": "code",
      "metadata": {
        "colab": {
          "base_uri": "https://localhost:8080/",
          "height": 640
        },
        "id": "GyMhyjDC-obP",
        "outputId": "a0ae6874-4772-442b-dd87-f87dca89af0c"
      },
      "source": [
        "tha_df_date"
      ],
      "execution_count": null,
      "outputs": [
        {
          "output_type": "execute_result",
          "data": {
            "text/html": [
              "<div>\n",
              "<style scoped>\n",
              "    .dataframe tbody tr th:only-of-type {\n",
              "        vertical-align: middle;\n",
              "    }\n",
              "\n",
              "    .dataframe tbody tr th {\n",
              "        vertical-align: top;\n",
              "    }\n",
              "\n",
              "    .dataframe thead th {\n",
              "        text-align: right;\n",
              "    }\n",
              "</style>\n",
              "<table border=\"1\" class=\"dataframe\">\n",
              "  <thead>\n",
              "    <tr style=\"text-align: right;\">\n",
              "      <th></th>\n",
              "      <th>iso_code</th>\n",
              "      <th>continent</th>\n",
              "      <th>location</th>\n",
              "      <th>total_cases</th>\n",
              "      <th>new_cases</th>\n",
              "      <th>new_cases_smoothed</th>\n",
              "      <th>total_deaths</th>\n",
              "      <th>new_deaths</th>\n",
              "      <th>new_deaths_smoothed</th>\n",
              "      <th>total_cases_per_million</th>\n",
              "      <th>new_cases_per_million</th>\n",
              "      <th>new_cases_smoothed_per_million</th>\n",
              "      <th>total_deaths_per_million</th>\n",
              "      <th>new_deaths_per_million</th>\n",
              "      <th>new_deaths_smoothed_per_million</th>\n",
              "      <th>reproduction_rate</th>\n",
              "      <th>icu_patients</th>\n",
              "      <th>icu_patients_per_million</th>\n",
              "      <th>hosp_patients</th>\n",
              "      <th>hosp_patients_per_million</th>\n",
              "      <th>weekly_icu_admissions</th>\n",
              "      <th>weekly_icu_admissions_per_million</th>\n",
              "      <th>weekly_hosp_admissions</th>\n",
              "      <th>weekly_hosp_admissions_per_million</th>\n",
              "      <th>new_tests</th>\n",
              "      <th>total_tests</th>\n",
              "      <th>total_tests_per_thousand</th>\n",
              "      <th>new_tests_per_thousand</th>\n",
              "      <th>new_tests_smoothed</th>\n",
              "      <th>new_tests_smoothed_per_thousand</th>\n",
              "      <th>positive_rate</th>\n",
              "      <th>tests_per_case</th>\n",
              "      <th>tests_units</th>\n",
              "      <th>total_vaccinations</th>\n",
              "      <th>people_vaccinated</th>\n",
              "      <th>people_fully_vaccinated</th>\n",
              "      <th>total_boosters</th>\n",
              "      <th>new_vaccinations</th>\n",
              "      <th>new_vaccinations_smoothed</th>\n",
              "      <th>total_vaccinations_per_hundred</th>\n",
              "      <th>people_vaccinated_per_hundred</th>\n",
              "      <th>people_fully_vaccinated_per_hundred</th>\n",
              "      <th>total_boosters_per_hundred</th>\n",
              "      <th>new_vaccinations_smoothed_per_million</th>\n",
              "      <th>stringency_index</th>\n",
              "      <th>population</th>\n",
              "      <th>population_density</th>\n",
              "      <th>median_age</th>\n",
              "      <th>aged_65_older</th>\n",
              "      <th>aged_70_older</th>\n",
              "      <th>gdp_per_capita</th>\n",
              "      <th>extreme_poverty</th>\n",
              "      <th>cardiovasc_death_rate</th>\n",
              "      <th>diabetes_prevalence</th>\n",
              "      <th>female_smokers</th>\n",
              "      <th>male_smokers</th>\n",
              "      <th>handwashing_facilities</th>\n",
              "      <th>hospital_beds_per_thousand</th>\n",
              "      <th>life_expectancy</th>\n",
              "      <th>human_development_index</th>\n",
              "      <th>excess_mortality_cumulative_absolute</th>\n",
              "      <th>excess_mortality_cumulative</th>\n",
              "      <th>excess_mortality</th>\n",
              "      <th>excess_mortality_cumulative_per_million</th>\n",
              "    </tr>\n",
              "    <tr>\n",
              "      <th>date</th>\n",
              "      <th></th>\n",
              "      <th></th>\n",
              "      <th></th>\n",
              "      <th></th>\n",
              "      <th></th>\n",
              "      <th></th>\n",
              "      <th></th>\n",
              "      <th></th>\n",
              "      <th></th>\n",
              "      <th></th>\n",
              "      <th></th>\n",
              "      <th></th>\n",
              "      <th></th>\n",
              "      <th></th>\n",
              "      <th></th>\n",
              "      <th></th>\n",
              "      <th></th>\n",
              "      <th></th>\n",
              "      <th></th>\n",
              "      <th></th>\n",
              "      <th></th>\n",
              "      <th></th>\n",
              "      <th></th>\n",
              "      <th></th>\n",
              "      <th></th>\n",
              "      <th></th>\n",
              "      <th></th>\n",
              "      <th></th>\n",
              "      <th></th>\n",
              "      <th></th>\n",
              "      <th></th>\n",
              "      <th></th>\n",
              "      <th></th>\n",
              "      <th></th>\n",
              "      <th></th>\n",
              "      <th></th>\n",
              "      <th></th>\n",
              "      <th></th>\n",
              "      <th></th>\n",
              "      <th></th>\n",
              "      <th></th>\n",
              "      <th></th>\n",
              "      <th></th>\n",
              "      <th></th>\n",
              "      <th></th>\n",
              "      <th></th>\n",
              "      <th></th>\n",
              "      <th></th>\n",
              "      <th></th>\n",
              "      <th></th>\n",
              "      <th></th>\n",
              "      <th></th>\n",
              "      <th></th>\n",
              "      <th></th>\n",
              "      <th></th>\n",
              "      <th></th>\n",
              "      <th></th>\n",
              "      <th></th>\n",
              "      <th></th>\n",
              "      <th></th>\n",
              "      <th></th>\n",
              "      <th></th>\n",
              "      <th></th>\n",
              "      <th></th>\n",
              "    </tr>\n",
              "  </thead>\n",
              "  <tbody>\n",
              "    <tr>\n",
              "      <th>2020-01-04</th>\n",
              "      <td>THA</td>\n",
              "      <td>Asia</td>\n",
              "      <td>Thailand</td>\n",
              "      <td>0.0</td>\n",
              "      <td>0.0</td>\n",
              "      <td>NaN</td>\n",
              "      <td>0.0</td>\n",
              "      <td>0.0</td>\n",
              "      <td>NaN</td>\n",
              "      <td>NaN</td>\n",
              "      <td>NaN</td>\n",
              "      <td>NaN</td>\n",
              "      <td>NaN</td>\n",
              "      <td>NaN</td>\n",
              "      <td>NaN</td>\n",
              "      <td>NaN</td>\n",
              "      <td>NaN</td>\n",
              "      <td>NaN</td>\n",
              "      <td>NaN</td>\n",
              "      <td>NaN</td>\n",
              "      <td>NaN</td>\n",
              "      <td>NaN</td>\n",
              "      <td>NaN</td>\n",
              "      <td>NaN</td>\n",
              "      <td>2.0</td>\n",
              "      <td>2.0</td>\n",
              "      <td>0.0</td>\n",
              "      <td>0.0</td>\n",
              "      <td>NaN</td>\n",
              "      <td>NaN</td>\n",
              "      <td>NaN</td>\n",
              "      <td>0.0</td>\n",
              "      <td>tests performed</td>\n",
              "      <td>NaN</td>\n",
              "      <td>NaN</td>\n",
              "      <td>NaN</td>\n",
              "      <td>NaN</td>\n",
              "      <td>NaN</td>\n",
              "      <td>NaN</td>\n",
              "      <td>NaN</td>\n",
              "      <td>NaN</td>\n",
              "      <td>NaN</td>\n",
              "      <td>NaN</td>\n",
              "      <td>NaN</td>\n",
              "      <td>0.0</td>\n",
              "      <td>69950844.0</td>\n",
              "      <td>135.132</td>\n",
              "      <td>40.1</td>\n",
              "      <td>11.373</td>\n",
              "      <td>6.89</td>\n",
              "      <td>16277.671</td>\n",
              "      <td>0.1</td>\n",
              "      <td>109.861</td>\n",
              "      <td>7.04</td>\n",
              "      <td>1.9</td>\n",
              "      <td>38.8</td>\n",
              "      <td>90.67</td>\n",
              "      <td>2.1</td>\n",
              "      <td>77.15</td>\n",
              "      <td>0.777</td>\n",
              "      <td>NaN</td>\n",
              "      <td>NaN</td>\n",
              "      <td>NaN</td>\n",
              "      <td>NaN</td>\n",
              "    </tr>\n",
              "    <tr>\n",
              "      <th>2020-01-05</th>\n",
              "      <td>THA</td>\n",
              "      <td>Asia</td>\n",
              "      <td>Thailand</td>\n",
              "      <td>0.0</td>\n",
              "      <td>0.0</td>\n",
              "      <td>NaN</td>\n",
              "      <td>0.0</td>\n",
              "      <td>0.0</td>\n",
              "      <td>NaN</td>\n",
              "      <td>NaN</td>\n",
              "      <td>NaN</td>\n",
              "      <td>NaN</td>\n",
              "      <td>NaN</td>\n",
              "      <td>NaN</td>\n",
              "      <td>NaN</td>\n",
              "      <td>NaN</td>\n",
              "      <td>NaN</td>\n",
              "      <td>NaN</td>\n",
              "      <td>NaN</td>\n",
              "      <td>NaN</td>\n",
              "      <td>NaN</td>\n",
              "      <td>NaN</td>\n",
              "      <td>NaN</td>\n",
              "      <td>NaN</td>\n",
              "      <td>2.0</td>\n",
              "      <td>4.0</td>\n",
              "      <td>0.0</td>\n",
              "      <td>0.0</td>\n",
              "      <td>NaN</td>\n",
              "      <td>NaN</td>\n",
              "      <td>NaN</td>\n",
              "      <td>0.0</td>\n",
              "      <td>tests performed</td>\n",
              "      <td>NaN</td>\n",
              "      <td>NaN</td>\n",
              "      <td>NaN</td>\n",
              "      <td>NaN</td>\n",
              "      <td>NaN</td>\n",
              "      <td>NaN</td>\n",
              "      <td>NaN</td>\n",
              "      <td>NaN</td>\n",
              "      <td>NaN</td>\n",
              "      <td>NaN</td>\n",
              "      <td>NaN</td>\n",
              "      <td>0.0</td>\n",
              "      <td>69950844.0</td>\n",
              "      <td>135.132</td>\n",
              "      <td>40.1</td>\n",
              "      <td>11.373</td>\n",
              "      <td>6.89</td>\n",
              "      <td>16277.671</td>\n",
              "      <td>0.1</td>\n",
              "      <td>109.861</td>\n",
              "      <td>7.04</td>\n",
              "      <td>1.9</td>\n",
              "      <td>38.8</td>\n",
              "      <td>90.67</td>\n",
              "      <td>2.1</td>\n",
              "      <td>77.15</td>\n",
              "      <td>0.777</td>\n",
              "      <td>NaN</td>\n",
              "      <td>NaN</td>\n",
              "      <td>NaN</td>\n",
              "      <td>NaN</td>\n",
              "    </tr>\n",
              "    <tr>\n",
              "      <th>2020-01-06</th>\n",
              "      <td>THA</td>\n",
              "      <td>Asia</td>\n",
              "      <td>Thailand</td>\n",
              "      <td>0.0</td>\n",
              "      <td>0.0</td>\n",
              "      <td>NaN</td>\n",
              "      <td>0.0</td>\n",
              "      <td>0.0</td>\n",
              "      <td>NaN</td>\n",
              "      <td>NaN</td>\n",
              "      <td>NaN</td>\n",
              "      <td>NaN</td>\n",
              "      <td>NaN</td>\n",
              "      <td>NaN</td>\n",
              "      <td>NaN</td>\n",
              "      <td>NaN</td>\n",
              "      <td>NaN</td>\n",
              "      <td>NaN</td>\n",
              "      <td>NaN</td>\n",
              "      <td>NaN</td>\n",
              "      <td>NaN</td>\n",
              "      <td>NaN</td>\n",
              "      <td>NaN</td>\n",
              "      <td>NaN</td>\n",
              "      <td>5.0</td>\n",
              "      <td>9.0</td>\n",
              "      <td>0.0</td>\n",
              "      <td>0.0</td>\n",
              "      <td>NaN</td>\n",
              "      <td>NaN</td>\n",
              "      <td>NaN</td>\n",
              "      <td>0.0</td>\n",
              "      <td>tests performed</td>\n",
              "      <td>NaN</td>\n",
              "      <td>NaN</td>\n",
              "      <td>NaN</td>\n",
              "      <td>NaN</td>\n",
              "      <td>NaN</td>\n",
              "      <td>NaN</td>\n",
              "      <td>NaN</td>\n",
              "      <td>NaN</td>\n",
              "      <td>NaN</td>\n",
              "      <td>NaN</td>\n",
              "      <td>NaN</td>\n",
              "      <td>0.0</td>\n",
              "      <td>69950844.0</td>\n",
              "      <td>135.132</td>\n",
              "      <td>40.1</td>\n",
              "      <td>11.373</td>\n",
              "      <td>6.89</td>\n",
              "      <td>16277.671</td>\n",
              "      <td>0.1</td>\n",
              "      <td>109.861</td>\n",
              "      <td>7.04</td>\n",
              "      <td>1.9</td>\n",
              "      <td>38.8</td>\n",
              "      <td>90.67</td>\n",
              "      <td>2.1</td>\n",
              "      <td>77.15</td>\n",
              "      <td>0.777</td>\n",
              "      <td>NaN</td>\n",
              "      <td>NaN</td>\n",
              "      <td>NaN</td>\n",
              "      <td>NaN</td>\n",
              "    </tr>\n",
              "    <tr>\n",
              "      <th>2020-01-07</th>\n",
              "      <td>THA</td>\n",
              "      <td>Asia</td>\n",
              "      <td>Thailand</td>\n",
              "      <td>0.0</td>\n",
              "      <td>0.0</td>\n",
              "      <td>NaN</td>\n",
              "      <td>0.0</td>\n",
              "      <td>0.0</td>\n",
              "      <td>NaN</td>\n",
              "      <td>NaN</td>\n",
              "      <td>NaN</td>\n",
              "      <td>NaN</td>\n",
              "      <td>NaN</td>\n",
              "      <td>NaN</td>\n",
              "      <td>NaN</td>\n",
              "      <td>NaN</td>\n",
              "      <td>NaN</td>\n",
              "      <td>NaN</td>\n",
              "      <td>NaN</td>\n",
              "      <td>NaN</td>\n",
              "      <td>NaN</td>\n",
              "      <td>NaN</td>\n",
              "      <td>NaN</td>\n",
              "      <td>NaN</td>\n",
              "      <td>0.0</td>\n",
              "      <td>0.0</td>\n",
              "      <td>NaN</td>\n",
              "      <td>NaN</td>\n",
              "      <td>NaN</td>\n",
              "      <td>NaN</td>\n",
              "      <td>NaN</td>\n",
              "      <td>0.0</td>\n",
              "      <td>tests performed</td>\n",
              "      <td>NaN</td>\n",
              "      <td>NaN</td>\n",
              "      <td>NaN</td>\n",
              "      <td>NaN</td>\n",
              "      <td>NaN</td>\n",
              "      <td>NaN</td>\n",
              "      <td>NaN</td>\n",
              "      <td>NaN</td>\n",
              "      <td>NaN</td>\n",
              "      <td>NaN</td>\n",
              "      <td>NaN</td>\n",
              "      <td>0.0</td>\n",
              "      <td>69950844.0</td>\n",
              "      <td>135.132</td>\n",
              "      <td>40.1</td>\n",
              "      <td>11.373</td>\n",
              "      <td>6.89</td>\n",
              "      <td>16277.671</td>\n",
              "      <td>0.1</td>\n",
              "      <td>109.861</td>\n",
              "      <td>7.04</td>\n",
              "      <td>1.9</td>\n",
              "      <td>38.8</td>\n",
              "      <td>90.67</td>\n",
              "      <td>2.1</td>\n",
              "      <td>77.15</td>\n",
              "      <td>0.777</td>\n",
              "      <td>NaN</td>\n",
              "      <td>NaN</td>\n",
              "      <td>NaN</td>\n",
              "      <td>NaN</td>\n",
              "    </tr>\n",
              "    <tr>\n",
              "      <th>2020-01-08</th>\n",
              "      <td>THA</td>\n",
              "      <td>Asia</td>\n",
              "      <td>Thailand</td>\n",
              "      <td>0.0</td>\n",
              "      <td>0.0</td>\n",
              "      <td>NaN</td>\n",
              "      <td>0.0</td>\n",
              "      <td>0.0</td>\n",
              "      <td>NaN</td>\n",
              "      <td>NaN</td>\n",
              "      <td>NaN</td>\n",
              "      <td>NaN</td>\n",
              "      <td>NaN</td>\n",
              "      <td>NaN</td>\n",
              "      <td>NaN</td>\n",
              "      <td>NaN</td>\n",
              "      <td>NaN</td>\n",
              "      <td>NaN</td>\n",
              "      <td>NaN</td>\n",
              "      <td>NaN</td>\n",
              "      <td>NaN</td>\n",
              "      <td>NaN</td>\n",
              "      <td>NaN</td>\n",
              "      <td>NaN</td>\n",
              "      <td>1.0</td>\n",
              "      <td>10.0</td>\n",
              "      <td>0.0</td>\n",
              "      <td>0.0</td>\n",
              "      <td>NaN</td>\n",
              "      <td>NaN</td>\n",
              "      <td>NaN</td>\n",
              "      <td>0.0</td>\n",
              "      <td>tests performed</td>\n",
              "      <td>NaN</td>\n",
              "      <td>NaN</td>\n",
              "      <td>NaN</td>\n",
              "      <td>NaN</td>\n",
              "      <td>NaN</td>\n",
              "      <td>NaN</td>\n",
              "      <td>NaN</td>\n",
              "      <td>NaN</td>\n",
              "      <td>NaN</td>\n",
              "      <td>NaN</td>\n",
              "      <td>NaN</td>\n",
              "      <td>0.0</td>\n",
              "      <td>69950844.0</td>\n",
              "      <td>135.132</td>\n",
              "      <td>40.1</td>\n",
              "      <td>11.373</td>\n",
              "      <td>6.89</td>\n",
              "      <td>16277.671</td>\n",
              "      <td>0.1</td>\n",
              "      <td>109.861</td>\n",
              "      <td>7.04</td>\n",
              "      <td>1.9</td>\n",
              "      <td>38.8</td>\n",
              "      <td>90.67</td>\n",
              "      <td>2.1</td>\n",
              "      <td>77.15</td>\n",
              "      <td>0.777</td>\n",
              "      <td>NaN</td>\n",
              "      <td>NaN</td>\n",
              "      <td>NaN</td>\n",
              "      <td>NaN</td>\n",
              "    </tr>\n",
              "    <tr>\n",
              "      <th>...</th>\n",
              "      <td>...</td>\n",
              "      <td>...</td>\n",
              "      <td>...</td>\n",
              "      <td>...</td>\n",
              "      <td>...</td>\n",
              "      <td>...</td>\n",
              "      <td>...</td>\n",
              "      <td>...</td>\n",
              "      <td>...</td>\n",
              "      <td>...</td>\n",
              "      <td>...</td>\n",
              "      <td>...</td>\n",
              "      <td>...</td>\n",
              "      <td>...</td>\n",
              "      <td>...</td>\n",
              "      <td>...</td>\n",
              "      <td>...</td>\n",
              "      <td>...</td>\n",
              "      <td>...</td>\n",
              "      <td>...</td>\n",
              "      <td>...</td>\n",
              "      <td>...</td>\n",
              "      <td>...</td>\n",
              "      <td>...</td>\n",
              "      <td>...</td>\n",
              "      <td>...</td>\n",
              "      <td>...</td>\n",
              "      <td>...</td>\n",
              "      <td>...</td>\n",
              "      <td>...</td>\n",
              "      <td>...</td>\n",
              "      <td>...</td>\n",
              "      <td>...</td>\n",
              "      <td>...</td>\n",
              "      <td>...</td>\n",
              "      <td>...</td>\n",
              "      <td>...</td>\n",
              "      <td>...</td>\n",
              "      <td>...</td>\n",
              "      <td>...</td>\n",
              "      <td>...</td>\n",
              "      <td>...</td>\n",
              "      <td>...</td>\n",
              "      <td>...</td>\n",
              "      <td>...</td>\n",
              "      <td>...</td>\n",
              "      <td>...</td>\n",
              "      <td>...</td>\n",
              "      <td>...</td>\n",
              "      <td>...</td>\n",
              "      <td>...</td>\n",
              "      <td>...</td>\n",
              "      <td>...</td>\n",
              "      <td>...</td>\n",
              "      <td>...</td>\n",
              "      <td>...</td>\n",
              "      <td>...</td>\n",
              "      <td>...</td>\n",
              "      <td>...</td>\n",
              "      <td>...</td>\n",
              "      <td>...</td>\n",
              "      <td>...</td>\n",
              "      <td>...</td>\n",
              "      <td>...</td>\n",
              "    </tr>\n",
              "    <tr>\n",
              "      <th>2021-09-27</th>\n",
              "      <td>THA</td>\n",
              "      <td>Asia</td>\n",
              "      <td>Thailand</td>\n",
              "      <td>1571926.0</td>\n",
              "      <td>10288.0</td>\n",
              "      <td>11820.000</td>\n",
              "      <td>16369.0</td>\n",
              "      <td>101.0</td>\n",
              "      <td>128.571</td>\n",
              "      <td>22471.866</td>\n",
              "      <td>147.075</td>\n",
              "      <td>168.976</td>\n",
              "      <td>234.007</td>\n",
              "      <td>1.444</td>\n",
              "      <td>1.838</td>\n",
              "      <td>0.9</td>\n",
              "      <td>NaN</td>\n",
              "      <td>NaN</td>\n",
              "      <td>NaN</td>\n",
              "      <td>NaN</td>\n",
              "      <td>NaN</td>\n",
              "      <td>NaN</td>\n",
              "      <td>NaN</td>\n",
              "      <td>NaN</td>\n",
              "      <td>0.0</td>\n",
              "      <td>0.0</td>\n",
              "      <td>NaN</td>\n",
              "      <td>NaN</td>\n",
              "      <td>NaN</td>\n",
              "      <td>NaN</td>\n",
              "      <td>NaN</td>\n",
              "      <td>0.0</td>\n",
              "      <td>NaN</td>\n",
              "      <td>NaN</td>\n",
              "      <td>NaN</td>\n",
              "      <td>NaN</td>\n",
              "      <td>NaN</td>\n",
              "      <td>NaN</td>\n",
              "      <td>NaN</td>\n",
              "      <td>NaN</td>\n",
              "      <td>NaN</td>\n",
              "      <td>NaN</td>\n",
              "      <td>NaN</td>\n",
              "      <td>NaN</td>\n",
              "      <td>NaN</td>\n",
              "      <td>69950844.0</td>\n",
              "      <td>135.132</td>\n",
              "      <td>40.1</td>\n",
              "      <td>11.373</td>\n",
              "      <td>6.89</td>\n",
              "      <td>16277.671</td>\n",
              "      <td>0.1</td>\n",
              "      <td>109.861</td>\n",
              "      <td>7.04</td>\n",
              "      <td>1.9</td>\n",
              "      <td>38.8</td>\n",
              "      <td>90.67</td>\n",
              "      <td>2.1</td>\n",
              "      <td>77.15</td>\n",
              "      <td>0.777</td>\n",
              "      <td>NaN</td>\n",
              "      <td>NaN</td>\n",
              "      <td>NaN</td>\n",
              "      <td>NaN</td>\n",
              "    </tr>\n",
              "    <tr>\n",
              "      <th>2021-09-28</th>\n",
              "      <td>THA</td>\n",
              "      <td>Asia</td>\n",
              "      <td>Thailand</td>\n",
              "      <td>1581415.0</td>\n",
              "      <td>9489.0</td>\n",
              "      <td>11615.714</td>\n",
              "      <td>16498.0</td>\n",
              "      <td>129.0</td>\n",
              "      <td>126.571</td>\n",
              "      <td>22607.519</td>\n",
              "      <td>135.652</td>\n",
              "      <td>166.055</td>\n",
              "      <td>235.851</td>\n",
              "      <td>1.844</td>\n",
              "      <td>1.809</td>\n",
              "      <td>0.9</td>\n",
              "      <td>NaN</td>\n",
              "      <td>NaN</td>\n",
              "      <td>NaN</td>\n",
              "      <td>NaN</td>\n",
              "      <td>NaN</td>\n",
              "      <td>NaN</td>\n",
              "      <td>NaN</td>\n",
              "      <td>NaN</td>\n",
              "      <td>0.0</td>\n",
              "      <td>0.0</td>\n",
              "      <td>NaN</td>\n",
              "      <td>NaN</td>\n",
              "      <td>NaN</td>\n",
              "      <td>NaN</td>\n",
              "      <td>NaN</td>\n",
              "      <td>0.0</td>\n",
              "      <td>NaN</td>\n",
              "      <td>NaN</td>\n",
              "      <td>NaN</td>\n",
              "      <td>NaN</td>\n",
              "      <td>NaN</td>\n",
              "      <td>NaN</td>\n",
              "      <td>NaN</td>\n",
              "      <td>NaN</td>\n",
              "      <td>NaN</td>\n",
              "      <td>NaN</td>\n",
              "      <td>NaN</td>\n",
              "      <td>NaN</td>\n",
              "      <td>NaN</td>\n",
              "      <td>69950844.0</td>\n",
              "      <td>135.132</td>\n",
              "      <td>40.1</td>\n",
              "      <td>11.373</td>\n",
              "      <td>6.89</td>\n",
              "      <td>16277.671</td>\n",
              "      <td>0.1</td>\n",
              "      <td>109.861</td>\n",
              "      <td>7.04</td>\n",
              "      <td>1.9</td>\n",
              "      <td>38.8</td>\n",
              "      <td>90.67</td>\n",
              "      <td>2.1</td>\n",
              "      <td>77.15</td>\n",
              "      <td>0.777</td>\n",
              "      <td>NaN</td>\n",
              "      <td>NaN</td>\n",
              "      <td>NaN</td>\n",
              "      <td>NaN</td>\n",
              "    </tr>\n",
              "    <tr>\n",
              "      <th>2021-09-29</th>\n",
              "      <td>THA</td>\n",
              "      <td>Asia</td>\n",
              "      <td>Thailand</td>\n",
              "      <td>1591829.0</td>\n",
              "      <td>10414.0</td>\n",
              "      <td>11496.000</td>\n",
              "      <td>16620.0</td>\n",
              "      <td>122.0</td>\n",
              "      <td>123.857</td>\n",
              "      <td>22756.394</td>\n",
              "      <td>148.876</td>\n",
              "      <td>164.344</td>\n",
              "      <td>237.595</td>\n",
              "      <td>1.744</td>\n",
              "      <td>1.771</td>\n",
              "      <td>0.9</td>\n",
              "      <td>NaN</td>\n",
              "      <td>NaN</td>\n",
              "      <td>NaN</td>\n",
              "      <td>NaN</td>\n",
              "      <td>NaN</td>\n",
              "      <td>NaN</td>\n",
              "      <td>NaN</td>\n",
              "      <td>NaN</td>\n",
              "      <td>0.0</td>\n",
              "      <td>0.0</td>\n",
              "      <td>NaN</td>\n",
              "      <td>NaN</td>\n",
              "      <td>NaN</td>\n",
              "      <td>NaN</td>\n",
              "      <td>NaN</td>\n",
              "      <td>0.0</td>\n",
              "      <td>NaN</td>\n",
              "      <td>NaN</td>\n",
              "      <td>NaN</td>\n",
              "      <td>NaN</td>\n",
              "      <td>NaN</td>\n",
              "      <td>NaN</td>\n",
              "      <td>NaN</td>\n",
              "      <td>NaN</td>\n",
              "      <td>NaN</td>\n",
              "      <td>NaN</td>\n",
              "      <td>NaN</td>\n",
              "      <td>NaN</td>\n",
              "      <td>NaN</td>\n",
              "      <td>69950844.0</td>\n",
              "      <td>135.132</td>\n",
              "      <td>40.1</td>\n",
              "      <td>11.373</td>\n",
              "      <td>6.89</td>\n",
              "      <td>16277.671</td>\n",
              "      <td>0.1</td>\n",
              "      <td>109.861</td>\n",
              "      <td>7.04</td>\n",
              "      <td>1.9</td>\n",
              "      <td>38.8</td>\n",
              "      <td>90.67</td>\n",
              "      <td>2.1</td>\n",
              "      <td>77.15</td>\n",
              "      <td>0.777</td>\n",
              "      <td>NaN</td>\n",
              "      <td>NaN</td>\n",
              "      <td>NaN</td>\n",
              "      <td>NaN</td>\n",
              "    </tr>\n",
              "    <tr>\n",
              "      <th>2021-09-30</th>\n",
              "      <td>THA</td>\n",
              "      <td>Asia</td>\n",
              "      <td>Thailand</td>\n",
              "      <td>1603475.0</td>\n",
              "      <td>11646.0</td>\n",
              "      <td>11266.000</td>\n",
              "      <td>16727.0</td>\n",
              "      <td>107.0</td>\n",
              "      <td>120.429</td>\n",
              "      <td>22922.883</td>\n",
              "      <td>166.488</td>\n",
              "      <td>161.056</td>\n",
              "      <td>239.125</td>\n",
              "      <td>1.530</td>\n",
              "      <td>1.722</td>\n",
              "      <td>NaN</td>\n",
              "      <td>NaN</td>\n",
              "      <td>NaN</td>\n",
              "      <td>NaN</td>\n",
              "      <td>NaN</td>\n",
              "      <td>NaN</td>\n",
              "      <td>NaN</td>\n",
              "      <td>NaN</td>\n",
              "      <td>NaN</td>\n",
              "      <td>0.0</td>\n",
              "      <td>0.0</td>\n",
              "      <td>NaN</td>\n",
              "      <td>NaN</td>\n",
              "      <td>NaN</td>\n",
              "      <td>NaN</td>\n",
              "      <td>NaN</td>\n",
              "      <td>0.0</td>\n",
              "      <td>NaN</td>\n",
              "      <td>NaN</td>\n",
              "      <td>NaN</td>\n",
              "      <td>NaN</td>\n",
              "      <td>NaN</td>\n",
              "      <td>NaN</td>\n",
              "      <td>NaN</td>\n",
              "      <td>NaN</td>\n",
              "      <td>NaN</td>\n",
              "      <td>NaN</td>\n",
              "      <td>NaN</td>\n",
              "      <td>NaN</td>\n",
              "      <td>NaN</td>\n",
              "      <td>69950844.0</td>\n",
              "      <td>135.132</td>\n",
              "      <td>40.1</td>\n",
              "      <td>11.373</td>\n",
              "      <td>6.89</td>\n",
              "      <td>16277.671</td>\n",
              "      <td>0.1</td>\n",
              "      <td>109.861</td>\n",
              "      <td>7.04</td>\n",
              "      <td>1.9</td>\n",
              "      <td>38.8</td>\n",
              "      <td>90.67</td>\n",
              "      <td>2.1</td>\n",
              "      <td>77.15</td>\n",
              "      <td>0.777</td>\n",
              "      <td>NaN</td>\n",
              "      <td>NaN</td>\n",
              "      <td>NaN</td>\n",
              "      <td>NaN</td>\n",
              "    </tr>\n",
              "    <tr>\n",
              "      <th>2021-10-01</th>\n",
              "      <td>THA</td>\n",
              "      <td>Asia</td>\n",
              "      <td>Thailand</td>\n",
              "      <td>1615229.0</td>\n",
              "      <td>11754.0</td>\n",
              "      <td>11131.286</td>\n",
              "      <td>16850.0</td>\n",
              "      <td>123.0</td>\n",
              "      <td>119.143</td>\n",
              "      <td>23090.915</td>\n",
              "      <td>168.032</td>\n",
              "      <td>159.130</td>\n",
              "      <td>240.883</td>\n",
              "      <td>1.758</td>\n",
              "      <td>1.703</td>\n",
              "      <td>NaN</td>\n",
              "      <td>NaN</td>\n",
              "      <td>NaN</td>\n",
              "      <td>NaN</td>\n",
              "      <td>NaN</td>\n",
              "      <td>NaN</td>\n",
              "      <td>NaN</td>\n",
              "      <td>NaN</td>\n",
              "      <td>NaN</td>\n",
              "      <td>0.0</td>\n",
              "      <td>0.0</td>\n",
              "      <td>NaN</td>\n",
              "      <td>NaN</td>\n",
              "      <td>NaN</td>\n",
              "      <td>NaN</td>\n",
              "      <td>NaN</td>\n",
              "      <td>0.0</td>\n",
              "      <td>NaN</td>\n",
              "      <td>NaN</td>\n",
              "      <td>NaN</td>\n",
              "      <td>NaN</td>\n",
              "      <td>NaN</td>\n",
              "      <td>NaN</td>\n",
              "      <td>NaN</td>\n",
              "      <td>NaN</td>\n",
              "      <td>NaN</td>\n",
              "      <td>NaN</td>\n",
              "      <td>NaN</td>\n",
              "      <td>NaN</td>\n",
              "      <td>NaN</td>\n",
              "      <td>69950844.0</td>\n",
              "      <td>135.132</td>\n",
              "      <td>40.1</td>\n",
              "      <td>11.373</td>\n",
              "      <td>6.89</td>\n",
              "      <td>16277.671</td>\n",
              "      <td>0.1</td>\n",
              "      <td>109.861</td>\n",
              "      <td>7.04</td>\n",
              "      <td>1.9</td>\n",
              "      <td>38.8</td>\n",
              "      <td>90.67</td>\n",
              "      <td>2.1</td>\n",
              "      <td>77.15</td>\n",
              "      <td>0.777</td>\n",
              "      <td>NaN</td>\n",
              "      <td>NaN</td>\n",
              "      <td>NaN</td>\n",
              "      <td>NaN</td>\n",
              "    </tr>\n",
              "  </tbody>\n",
              "</table>\n",
              "<p>637 rows × 64 columns</p>\n",
              "</div>"
            ],
            "text/plain": [
              "           iso_code  ... excess_mortality_cumulative_per_million\n",
              "date                 ...                                        \n",
              "2020-01-04      THA  ...                                     NaN\n",
              "2020-01-05      THA  ...                                     NaN\n",
              "2020-01-06      THA  ...                                     NaN\n",
              "2020-01-07      THA  ...                                     NaN\n",
              "2020-01-08      THA  ...                                     NaN\n",
              "...             ...  ...                                     ...\n",
              "2021-09-27      THA  ...                                     NaN\n",
              "2021-09-28      THA  ...                                     NaN\n",
              "2021-09-29      THA  ...                                     NaN\n",
              "2021-09-30      THA  ...                                     NaN\n",
              "2021-10-01      THA  ...                                     NaN\n",
              "\n",
              "[637 rows x 64 columns]"
            ]
          },
          "metadata": {},
          "execution_count": 15
        }
      ]
    },
    {
      "cell_type": "code",
      "metadata": {
        "id": "S457x4sQ_Ino"
      },
      "source": [
        "def find_max_w(first, last):\n",
        "  w = tha_df_date.loc[first : last]\n",
        "  max_w = max(list(w['new_cases']))\n",
        "  idx_max_w = list(tha_df['new_cases']).index(max_w)\n",
        "  date_max_w = list(tha_df['date'])[idx_max_w]\n",
        "  print('max_date:',date_max_w, '|', 'new_cases:',max_w)"
      ],
      "execution_count": null,
      "outputs": []
    },
    {
      "cell_type": "code",
      "metadata": {
        "colab": {
          "base_uri": "https://localhost:8080/"
        },
        "id": "ztpzgjRuCOCQ",
        "outputId": "8da09159-d19a-43a3-cc28-8a10b386883f"
      },
      "source": [
        "d1 = find_max_w('2020-03-01', '2020-05-31')\n",
        "d2 = find_max_w('2020-12-01', '2021-02-28')\n",
        "d3 = find_max_w('2021-04-01', '2021-06-30')\n",
        "d4 = find_max_w('2021-07-01', '2021-09-30')"
      ],
      "execution_count": null,
      "outputs": [
        {
          "output_type": "stream",
          "name": "stdout",
          "text": [
            "max_date: 2020-03-22 | new_cases: 188.0\n",
            "max_date: 2021-01-29 | new_cases: 1732.0\n",
            "max_date: 2021-05-17 | new_cases: 9635.0\n",
            "max_date: 2021-08-13 | new_cases: 23418.0\n"
          ]
        }
      ]
    },
    {
      "cell_type": "markdown",
      "metadata": {
        "id": "tMG7ADCTk0yO"
      },
      "source": [
        "วันที่เป็นจุดสูงสุดของระลอกที่หนึ่ง\n",
        "\n",
        "**ANS:** 2020-03-22\n",
        "\n",
        "วันที่เป็นจุดสูงสุดของระลอกที่สอง\n",
        "\n",
        "**ANS:** 2021-01-29\n",
        "\n",
        "วันที่เป็นจุดสูงสุดของระลอกที่สาม\n",
        "\n",
        "**ANS:** 2021-05-17\n",
        "\n",
        "วันที่เป็นจุดสูงสุดของระลอกที่สี่\n",
        "\n",
        "**ANS:** 2021-08-13\n",
        "\n",
        "นิสิตคิดว่าช่วงที่เป็นจุดแบ่งระหว่างระลอกที่สามและระลอกที่สี่คือช่วงใด\n",
        "\n",
        "**ANS:** เดือนกรกฏาคม เนื่องจากจำนวนผู้ติดเชื้อใหม่มีการเพิ่มขึ้นอย่างมีนัยสำคัญ"
      ]
    },
    {
      "cell_type": "markdown",
      "metadata": {
        "id": "nod90_nzlXYU"
      },
      "source": [
        "## TO DO3 [2 คะแนน] คำนวน Moving average ของข้อมูล new_cases\n",
        "\n",
        "จงเติมฟังก์ชั่นด้านล่างให้สมบูรณ์ (ห้ามใช้ฟังก์ชั่นสำเร็จรูป โค้ดต้องใช้ loop และ if statement เป็นหลัก) และใช้ฟังก์ชั่นดังกล่าวแสดงข้อมูลที่มีการเกลี่ยจำนวนย้อนหลัง 7 วัน \n",
        "\n",
        "(การเกลี่ยจำนวนจะช่วยให้เราเห็น trend การระบาดได้ดีขึ้น)"
      ]
    },
    {
      "cell_type": "code",
      "metadata": {
        "id": "nuy-q7--FL1q"
      },
      "source": [
        "def moving_average(x, n):\n",
        "  # input: x เป็นลิสต์ของตัวเลข n เป็นตัวเลข (positive integer)\n",
        "  # output: average_x เป็นลิสต์ของตัวเลขขนาดเท่ากับ x\n",
        "  # ฟังก์ชั่นที่เอาตัวเลขย้อนหลัง n ตัวมาหาค่าเฉลี่ย ถ้าไม่มีเลขย้อนหลังเพียงพอให้เฉลี่ยเฉพาะเท่าที่มี\n",
        "\n",
        "  i = 0\n",
        "  average_x = []\n",
        "  while i < len(x) - n + 1:\n",
        "      this_window = x[i : i + n]\n",
        "      window_average = sum(this_window) / n\n",
        "      average_x.append(window_average)\n",
        "      i += 1\n",
        "\n",
        "  sum_remain = 0\n",
        "  j = 0\n",
        "  while j<n-1:\n",
        "    # print(x[j])\n",
        "    sum_remain+=x[j]\n",
        "  \n",
        "    mean_remain = sum_remain/(j+1)\n",
        "    average_x.insert(j, mean_remain)\n",
        "    j+=1\n",
        "  return average_x"
      ],
      "execution_count": null,
      "outputs": []
    },
    {
      "cell_type": "code",
      "metadata": {
        "colab": {
          "base_uri": "https://localhost:8080/"
        },
        "id": "WLS4Bjs8nd0O",
        "outputId": "9ccc893c-0b28-4eee-bfff-ae70c2a51486"
      },
      "source": [
        "# ถ้าเรียกใช้\n",
        "moving_average([1,2,3,4,5,6,7,8,9], 3)\n",
        "# ควรได้ [1.0, 1.5, 2.0, 3.0, 4.0, 5.0, 6.0, 7.0, 8.0]"
      ],
      "execution_count": null,
      "outputs": [
        {
          "output_type": "execute_result",
          "data": {
            "text/plain": [
              "[1.0, 1.5, 2.0, 3.0, 4.0, 5.0, 6.0, 7.0, 8.0]"
            ]
          },
          "metadata": {},
          "execution_count": 19
        }
      ]
    },
    {
      "cell_type": "code",
      "metadata": {
        "id": "iQNoCdfsnkQh"
      },
      "source": [
        "# เขียนโค้ดประกอบ สามารถเพิ่มจำนวนช่องโค้ดได้ตามใจชอบ\n",
        "\n",
        "moving_case = moving_average(tha_new_cases, 7)"
      ],
      "execution_count": null,
      "outputs": []
    },
    {
      "cell_type": "code",
      "metadata": {
        "id": "NI4ZicFTSq02"
      },
      "source": [
        "idx_moving = [idx+1 for idx in range(len(i_list))]"
      ],
      "execution_count": null,
      "outputs": []
    },
    {
      "cell_type": "code",
      "metadata": {
        "colab": {
          "base_uri": "https://localhost:8080/",
          "height": 282
        },
        "id": "AxmHHUzJSq03",
        "outputId": "4c013e82-2605-4c12-8fa0-b871cc91d4f2"
      },
      "source": [
        "plt.plot(idx_moving, moving_case)"
      ],
      "execution_count": null,
      "outputs": [
        {
          "output_type": "execute_result",
          "data": {
            "text/plain": [
              "[<matplotlib.lines.Line2D at 0x7f853f1be250>]"
            ]
          },
          "metadata": {},
          "execution_count": 22
        },
        {
          "output_type": "display_data",
          "data": {
            "image/png": "[encoded data removed]",
            "text/plain": [
              "<Figure size 432x288 with 1 Axes>"
            ]
          },
          "metadata": {
            "needs_background": "light"
          }
        }
      ]
    },
    {
      "cell_type": "markdown",
      "metadata": {
        "id": "JCt78t7eo9SZ"
      },
      "source": [
        "## TO DO4 [2 คะแนน] หาว่าวันใดของสัปดาห์ที่จะมีโอกาสเจอเคสใหม่ได้มากที่สุด\n",
        "\n",
        "(นิยามของคำถามนี้ค่อนข้างกำกวม ในชีวิตจริงโจทย์ก็จะกำกวมแบบนี้แหละ ให้นิสิตคิดด้วยว่าควรจะหาในรูปแบบใด และให้เหตุผลประกอบ)"
      ]
    },
    {
      "cell_type": "markdown",
      "metadata": {
        "id": "pJUrgeFOT1_A"
      },
      "source": [
        "The day of the week with Monday=0, Sunday=6."
      ]
    },
    {
      "cell_type": "code",
      "metadata": {
        "id": "BJ2LfdIUrH_1"
      },
      "source": [
        "#hint สามารถใช้โค้ดด้านล่างเพื่อสร้าง column วันของสัปดาห์ได้\n",
        "\n",
        "tha_df['date'] = pd.to_datetime(tha_df['date'])\n",
        "tha_df['dayofweek'] = tha_df['date'].dt.dayofweek\n",
        "\n",
        "#จะมี column dayofweek เพิ่มขึ้นมา\n",
        "# Monday = 0, Sunday = 6"
      ],
      "execution_count": null,
      "outputs": []
    },
    {
      "cell_type": "code",
      "metadata": {
        "colab": {
          "base_uri": "https://localhost:8080/"
        },
        "id": "Ma7U9ao-U7N8",
        "outputId": "7189738f-47e0-4b63-ed58-027fb3601c27"
      },
      "source": [
        "tha_df['date']"
      ],
      "execution_count": null,
      "outputs": [
        {
          "output_type": "execute_result",
          "data": {
            "text/plain": [
              "107779   2020-01-04\n",
              "107780   2020-01-05\n",
              "107781   2020-01-06\n",
              "107782   2020-01-07\n",
              "107783   2020-01-08\n",
              "            ...    \n",
              "108411   2021-09-27\n",
              "108412   2021-09-28\n",
              "108413   2021-09-29\n",
              "108414   2021-09-30\n",
              "108415   2021-10-01\n",
              "Name: date, Length: 637, dtype: datetime64[ns]"
            ]
          },
          "metadata": {},
          "execution_count": 24
        }
      ]
    },
    {
      "cell_type": "code",
      "metadata": {
        "id": "fWAk2R62Th-4"
      },
      "source": [
        "dayofweek = list(tha_df['dayofweek'])"
      ],
      "execution_count": null,
      "outputs": []
    },
    {
      "cell_type": "code",
      "metadata": {
        "id": "Ksk5lgg0xK6c"
      },
      "source": [
        "tha_tests_per_case = list(tha_df['tests_per_case'])"
      ],
      "execution_count": null,
      "outputs": []
    },
    {
      "cell_type": "code",
      "metadata": {
        "id": "cYYwr_ZrxUja"
      },
      "source": [
        "def count_tests_per_case(day):\n",
        "  if day == 'Monday':\n",
        "    idx_day = 0\n",
        "  elif day == 'Tuesday':\n",
        "    idx_day = 1\n",
        "  elif day == 'Wednesday':\n",
        "    idx_day = 2\n",
        "  elif day == 'Thursday':\n",
        "    idx_day = 3\n",
        "  elif day == 'Friday':\n",
        "    idx_day = 4\n",
        "  elif day == 'Saturday':\n",
        "    idx_day = 5\n",
        "  elif day == 'Sunday':\n",
        "    idx_day = 6\n",
        "\n",
        "  day_list = []\n",
        "  for i in range(len(dayofweek)):\n",
        "    if dayofweek[i] == idx_day:\n",
        "      day_list.append(tha_tests_per_case[i])\n",
        "  sum_day_list = sum(day_list)  \n",
        "  mean_day_list = sum_day_list/len(dayofweek)\n",
        "  print(day)\n",
        "  print('Sum',':', sum_day_list)\n",
        "  print('Mean',':', mean_day_list)\n",
        "  print('')"
      ],
      "execution_count": null,
      "outputs": []
    },
    {
      "cell_type": "code",
      "metadata": {
        "colab": {
          "base_uri": "https://localhost:8080/"
        },
        "id": "gcJE0p_1xbbp",
        "outputId": "c609ec88-075d-4a7c-a468-4936d07472a8"
      },
      "source": [
        "sum_mon = count_tests_per_case('Monday')\n",
        "sum_tues = count_tests_per_case('Tuesday')\n",
        "sum_wed = count_tests_per_case('Wednesday')\n",
        "sum_thu = count_tests_per_case('Thursday')\n",
        "sum_fri = count_tests_per_case('Friday')\n",
        "sum_sat = count_tests_per_case('Saturday')\n",
        "sum_sun = count_tests_per_case('Sunday')"
      ],
      "execution_count": null,
      "outputs": [
        {
          "output_type": "stream",
          "name": "stdout",
          "text": [
            "Monday\n",
            "Sum : 47287.5\n",
            "Mean : 74.23469387755102\n",
            "\n",
            "Tuesday\n",
            "Sum : 48030.999999999985\n",
            "Mean : 75.40188383045523\n",
            "\n",
            "Wednesday\n",
            "Sum : 48091.19999999999\n",
            "Mean : 75.49638932496073\n",
            "\n",
            "Thursday\n",
            "Sum : 44391.50000000001\n",
            "Mean : 69.68838304552591\n",
            "\n",
            "Friday\n",
            "Sum : 46222.200000000004\n",
            "Mean : 72.56232339089483\n",
            "\n",
            "Saturday\n",
            "Sum : 46635.1\n",
            "Mean : 73.2105180533752\n",
            "\n",
            "Sunday\n",
            "Sum : 47542.69999999999\n",
            "Mean : 74.63532182103609\n",
            "\n"
          ]
        }
      ]
    },
    {
      "cell_type": "markdown",
      "metadata": {
        "id": "aknmWzYWz9-A"
      },
      "source": [
        "**Note:** Tests per case\n",
        "ค่าน้อยสุด = โอกาสติดเชื้อมากสุด | ค่ามากสุด = โอกาสติดเชื้อน้อยสุด"
      ]
    },
    {
      "cell_type": "markdown",
      "metadata": {
        "id": "7kN2mvhsriVC"
      },
      "source": [
        "อธิบายนิยามของนิสิต\n",
        "\n",
        "**Ans** วันที่เสี่ยงที่สุดคือวันที่มีอัตราส่วนของ ยอดตรวจใหม่ / ยอดติดเชื้อใหม่ ซึ่งคือค่า Tests per case น้อยที่สุด\n",
        "\n",
        "วันของสัปดาห์ใดมากที่สุด\n",
        "\n",
        "**Ans:** วันพฤหัสบดี\n",
        "\n",
        "วันของสัปดาห์ใดน้อยที่สุด\n",
        "\n",
        "**Ans:** วันพุธ\n",
        "\n",
        "นิสิตคิดว่าเพราะเหตุใด\n",
        "\n",
        "**Ans:** เพราะว่าวันพุธเป็นวันกลางสัปดาห์ ซึ่งเป็นวันที่คนออกจากบ้านน้อยทำให้เป็นวันที่ Tests per case มีค่ามากที่สุด หมายความว่าเป็นวันที่มีโอกาสติดเชื้อน้อยที่สุด และวันพฤหัสบดีอาจจะเป็นวันที่มีเหตุการณ์การระบาด Cluster ใหญ่บ่อยทำให้เป็นวันที่ Tests per case มีค่าน้อยที่สุด หมายความว่าเป็นวันที่มีโอกาสติดเชื้อมากที่สุด"
      ]
    },
    {
      "cell_type": "markdown",
      "metadata": {
        "id": "yYOox0EmtOFf"
      },
      "source": [
        "## TO DO5 Free-style [3 คะแนน]ให้นิสิตนำข้อมูลนี้มาวิเคราะห์ในแง่มุมที่น่าสนใจ โดยสร้างกราฟหรือมีการคำนวณประกอบการวิเคราะห์เพื่อให้การวิเคราะห์มีความน่าเชื่อถือ โดยสามารถนำมาวิเคราะห์ในเชิงเปรียบเทียบกับประเทศอื่นได้\n",
        "\n",
        "เกณฑ์การให้คะแนนส่วนหนึ่งจะมาจากความซับซ้อนของข้อมูลที่นำมาวิเคราะห์ เช่น มีการใช้ข้อมูลที่หลากหลาย หรือมีการประมวลผลข้อมูลมากกว่าการใช้แค่ข้อมูลดิบ"
      ]
    },
    {
      "cell_type": "code",
      "metadata": {
        "id": "foc5KtYQs-bH"
      },
      "source": [
        "# เขียนโค้ดประกอบ สามารถเพิ่มจำนวนช่องโค้ดได้ตามใจชอบ\n",
        "import numpy as np\n",
        "import sklearn\n",
        "from sklearn.pipeline import make_pipeline\n",
        "from sklearn.linear_model import LinearRegression\n",
        "from sklearn.preprocessing import PolynomialFeatures\n",
        "from sklearn.metrics import mean_squared_error"
      ],
      "execution_count": null,
      "outputs": []
    },
    {
      "cell_type": "markdown",
      "metadata": {
        "id": "ICwNCQPx0jxs"
      },
      "source": [
        "## Thailand"
      ]
    },
    {
      "cell_type": "markdown",
      "metadata": {
        "id": "wKrPd4zjOtZL"
      },
      "source": [
        "### Total Cases"
      ]
    },
    {
      "cell_type": "code",
      "metadata": {
        "id": "X0LMdaohItT3"
      },
      "source": [
        "tha_total_cases = list(tha_df['total_cases'])\n",
        "\n",
        "# for i in range(len(total_cases)):\n",
        "#   if total_cases[i] == 0:\n",
        "#     total_cases[i] = 1\n",
        "#   else:\n",
        "#     total_cases[i] = np.log(total_cases[i])\n",
        "\n",
        "tha_y = np.array(tha_total_cases).reshape(-1, 1)"
      ],
      "execution_count": null,
      "outputs": []
    },
    {
      "cell_type": "code",
      "metadata": {
        "id": "ioFI0dfzHSe2"
      },
      "source": [
        "tha_idx_day = [idx+1 for idx in range(len(tha_total_cases))]\n",
        "tha_X = np.array(tha_idx_day).reshape(-1, 1)"
      ],
      "execution_count": null,
      "outputs": []
    },
    {
      "cell_type": "code",
      "metadata": {
        "id": "7vqMmEvujgGD"
      },
      "source": [
        "split = int(len(tha_total_cases)*0.20)"
      ],
      "execution_count": null,
      "outputs": []
    },
    {
      "cell_type": "code",
      "metadata": {
        "id": "ZyQoYq4FhEe1"
      },
      "source": [
        "tha_X_train = tha_X[:-split]\n",
        "tha_X_test = tha_X[-split:]\n",
        "\n",
        "tha_y_train = tha_y[:-split]\n",
        "tha_y_test = tha_y[-split:]"
      ],
      "execution_count": null,
      "outputs": []
    },
    {
      "cell_type": "markdown",
      "metadata": {
        "id": "55qta5_Vt1pW"
      },
      "source": [
        "#### Linear Regression"
      ]
    },
    {
      "cell_type": "code",
      "metadata": {
        "colab": {
          "base_uri": "https://localhost:8080/"
        },
        "id": "noatiRlwgP85",
        "outputId": "640777cd-7914-4656-c122-b4828e83798f"
      },
      "source": [
        "linear_regressor = LinearRegression() \n",
        "linear_regressor.fit(tha_X_train, tha_y_train)"
      ],
      "execution_count": null,
      "outputs": [
        {
          "output_type": "execute_result",
          "data": {
            "text/plain": [
              "LinearRegression(copy_X=True, fit_intercept=True, n_jobs=None, normalize=False)"
            ]
          },
          "metadata": {},
          "execution_count": 34
        }
      ]
    },
    {
      "cell_type": "code",
      "metadata": {
        "id": "EwWW1qBNiVZg"
      },
      "source": [
        "tha_y_pred = linear_regressor.predict(tha_X_test)"
      ],
      "execution_count": null,
      "outputs": []
    },
    {
      "cell_type": "code",
      "metadata": {
        "colab": {
          "base_uri": "https://localhost:8080/"
        },
        "id": "YLw80A_rLfKu",
        "outputId": "8467c5c7-e7d7-4edd-ec96-cf13923ae578"
      },
      "source": [
        "mean_squared_error(tha_y_test, tha_y_pred)"
      ],
      "execution_count": null,
      "outputs": [
        {
          "output_type": "execute_result",
          "data": {
            "text/plain": [
              "696841685290.1865"
            ]
          },
          "metadata": {},
          "execution_count": 36
        }
      ]
    },
    {
      "cell_type": "code",
      "metadata": {
        "colab": {
          "base_uri": "https://localhost:8080/",
          "height": 276
        },
        "id": "EAvo3Kiiian3",
        "outputId": "a31072a1-8f47-4f60-cc11-cc7c4ee2a183"
      },
      "source": [
        "plt.scatter(tha_X_test, tha_y_test, color='black')\n",
        "plt.plot(tha_X_test, tha_y_pred, color='blue')\n",
        "plt.show()"
      ],
      "execution_count": null,
      "outputs": [
        {
          "output_type": "display_data",
          "data": {
            "image/png": "[encoded data removed]",
            "text/plain": [
              "<Figure size 432x288 with 1 Axes>"
            ]
          },
          "metadata": {
            "needs_background": "light"
          }
        }
      ]
    },
    {
      "cell_type": "markdown",
      "metadata": {
        "id": "E03oHTmmt4UR"
      },
      "source": [
        "#### Polynomial Regression"
      ]
    },
    {
      "cell_type": "code",
      "metadata": {
        "colab": {
          "base_uri": "https://localhost:8080/"
        },
        "id": "ifnrJpUjqgVI",
        "outputId": "6b8850f5-efff-4d5f-dccf-2e8591aa6141"
      },
      "source": [
        "tha_degree = 6\n",
        "tha_polyreg = make_pipeline(PolynomialFeatures(degree=tha_degree), LinearRegression())\n",
        "tha_polyreg.fit(tha_X_train, tha_y_train)"
      ],
      "execution_count": null,
      "outputs": [
        {
          "output_type": "execute_result",
          "data": {
            "text/plain": [
              "Pipeline(memory=None,\n",
              "         steps=[('polynomialfeatures',\n",
              "                 PolynomialFeatures(degree=6, include_bias=True,\n",
              "                                    interaction_only=False, order='C')),\n",
              "                ('linearregression',\n",
              "                 LinearRegression(copy_X=True, fit_intercept=True, n_jobs=None,\n",
              "                                  normalize=False))],\n",
              "         verbose=False)"
            ]
          },
          "metadata": {},
          "execution_count": 38
        }
      ]
    },
    {
      "cell_type": "code",
      "metadata": {
        "id": "o_HvBS_IMd3U"
      },
      "source": [
        "tha_y_pred = tha_polyreg.predict(tha_X_test)"
      ],
      "execution_count": null,
      "outputs": []
    },
    {
      "cell_type": "code",
      "metadata": {
        "colab": {
          "base_uri": "https://localhost:8080/"
        },
        "id": "R8weWmhBMWWn",
        "outputId": "c68416d5-f423-4682-82b2-96ada73bc870"
      },
      "source": [
        "mean_squared_error(tha_y_test, tha_y_pred)"
      ],
      "execution_count": null,
      "outputs": [
        {
          "output_type": "execute_result",
          "data": {
            "text/plain": [
              "6451367997.391537"
            ]
          },
          "metadata": {},
          "execution_count": 40
        }
      ]
    },
    {
      "cell_type": "code",
      "metadata": {
        "colab": {
          "base_uri": "https://localhost:8080/",
          "height": 276
        },
        "id": "pz0snFgwsmGg",
        "outputId": "79245135-4511-4c57-c2df-35c726af9575"
      },
      "source": [
        "plt.scatter(tha_X_test, tha_y_test, color='black')\n",
        "plt.plot(tha_X_test, tha_y_pred, color='blue')\n",
        "plt.show()"
      ],
      "execution_count": null,
      "outputs": [
        {
          "output_type": "display_data",
          "data": {
            "image/png": "[encoded data removed]",
            "text/plain": [
              "<Figure size 432x288 with 1 Axes>"
            ]
          },
          "metadata": {
            "needs_background": "light"
          }
        }
      ]
    },
    {
      "cell_type": "markdown",
      "metadata": {
        "id": "3vIRQjBB2aMi"
      },
      "source": [
        "### Total Death"
      ]
    },
    {
      "cell_type": "markdown",
      "metadata": {
        "id": "Mt_M6QnxO-UY"
      },
      "source": [
        "#### Linear Regression"
      ]
    },
    {
      "cell_type": "code",
      "metadata": {
        "id": "IkbiybSN2QoB"
      },
      "source": [
        "tha_d_total = list(tha_df['total_deaths'])\n",
        "tha_d_y = np.array(tha_d_total).reshape(-1, 1)"
      ],
      "execution_count": null,
      "outputs": []
    },
    {
      "cell_type": "code",
      "metadata": {
        "id": "UqiSgitn1Wao"
      },
      "source": [
        "tha_d_idx_day = [idx+1 for idx in range(len(tha_d_total))]\n",
        "tha_d_X = np.array(tha_d_idx_day).reshape(-1, 1)"
      ],
      "execution_count": null,
      "outputs": []
    },
    {
      "cell_type": "code",
      "metadata": {
        "id": "AZ79ljaoDrUD"
      },
      "source": [
        "split = int(len(tha_d_total)*0.20)"
      ],
      "execution_count": null,
      "outputs": []
    },
    {
      "cell_type": "code",
      "metadata": {
        "id": "11l1F7L322NV"
      },
      "source": [
        "tha_d_X_train = tha_d_X[:-split]\n",
        "tha_d_X_test = tha_d_X[-split:]\n",
        "\n",
        "tha_d_y_train = tha_d_y[:-split]\n",
        "tha_d_y_test = tha_d_y[-split:]"
      ],
      "execution_count": null,
      "outputs": []
    },
    {
      "cell_type": "code",
      "metadata": {
        "colab": {
          "base_uri": "https://localhost:8080/"
        },
        "id": "tJDAAv8M25ok",
        "outputId": "62840ba1-95fc-4b87-9d6a-bf08bd0a1689"
      },
      "source": [
        "tha_d_linear_regressor = LinearRegression() \n",
        "tha_d_linear_regressor.fit(tha_d_X_train, tha_d_y_train)"
      ],
      "execution_count": null,
      "outputs": [
        {
          "output_type": "execute_result",
          "data": {
            "text/plain": [
              "LinearRegression(copy_X=True, fit_intercept=True, n_jobs=None, normalize=False)"
            ]
          },
          "metadata": {},
          "execution_count": 46
        }
      ]
    },
    {
      "cell_type": "code",
      "metadata": {
        "id": "qEALvrEO28ev"
      },
      "source": [
        "tha_d_y_pred = tha_d_linear_regressor.predict(tha_d_X_test)"
      ],
      "execution_count": null,
      "outputs": []
    },
    {
      "cell_type": "code",
      "metadata": {
        "colab": {
          "base_uri": "https://localhost:8080/"
        },
        "id": "s-TV5ripNDi1",
        "outputId": "238b52c2-af3f-4917-ce76-45f6d6cd7829"
      },
      "source": [
        "mean_squared_error(tha_d_y_test, tha_d_y_pred)"
      ],
      "execution_count": null,
      "outputs": [
        {
          "output_type": "execute_result",
          "data": {
            "text/plain": [
              "70288091.8790018"
            ]
          },
          "metadata": {},
          "execution_count": 48
        }
      ]
    },
    {
      "cell_type": "code",
      "metadata": {
        "colab": {
          "base_uri": "https://localhost:8080/",
          "height": 267
        },
        "id": "FGjool492-5k",
        "outputId": "09b1c6cc-3d31-4318-d282-775cbc530500"
      },
      "source": [
        "plt.scatter(tha_d_X_test, tha_d_y_test, color='black')\n",
        "plt.plot(tha_d_X_test, tha_d_y_pred, color='blue')\n",
        "plt.show()"
      ],
      "execution_count": null,
      "outputs": [
        {
          "output_type": "display_data",
          "data": {
            "image/png": "[encoded data removed]",
            "text/plain": [
              "<Figure size 432x288 with 1 Axes>"
            ]
          },
          "metadata": {
            "needs_background": "light"
          }
        }
      ]
    },
    {
      "cell_type": "markdown",
      "metadata": {
        "id": "DiLn8ZITPCcl"
      },
      "source": [
        "#### Polynomial Regression"
      ]
    },
    {
      "cell_type": "code",
      "metadata": {
        "colab": {
          "base_uri": "https://localhost:8080/"
        },
        "id": "47XO4ZpL3B0K",
        "outputId": "c65431ef-f7a8-4288-e25f-f76f5b759fe6"
      },
      "source": [
        "tha_d_degree = 6\n",
        "\n",
        "tha_d_polyreg = make_pipeline(PolynomialFeatures(degree=tha_d_degree), LinearRegression())\n",
        "tha_d_polyreg.fit(tha_d_X_train, tha_d_y_train)"
      ],
      "execution_count": null,
      "outputs": [
        {
          "output_type": "execute_result",
          "data": {
            "text/plain": [
              "Pipeline(memory=None,\n",
              "         steps=[('polynomialfeatures',\n",
              "                 PolynomialFeatures(degree=6, include_bias=True,\n",
              "                                    interaction_only=False, order='C')),\n",
              "                ('linearregression',\n",
              "                 LinearRegression(copy_X=True, fit_intercept=True, n_jobs=None,\n",
              "                                  normalize=False))],\n",
              "         verbose=False)"
            ]
          },
          "metadata": {},
          "execution_count": 50
        }
      ]
    },
    {
      "cell_type": "code",
      "metadata": {
        "id": "PSb-WoicNOFZ"
      },
      "source": [
        "tha_d_y_pred = tha_d_polyreg.predict(tha_d_X_test)"
      ],
      "execution_count": null,
      "outputs": []
    },
    {
      "cell_type": "code",
      "metadata": {
        "colab": {
          "base_uri": "https://localhost:8080/"
        },
        "id": "pTJQi3OPNJ1S",
        "outputId": "d817eaca-e61b-46ab-973a-fd5c203f22c0"
      },
      "source": [
        "mean_squared_error(tha_d_y_test, tha_d_y_pred)"
      ],
      "execution_count": null,
      "outputs": [
        {
          "output_type": "execute_result",
          "data": {
            "text/plain": [
              "1341372.5516300206"
            ]
          },
          "metadata": {},
          "execution_count": 52
        }
      ]
    },
    {
      "cell_type": "code",
      "metadata": {
        "colab": {
          "base_uri": "https://localhost:8080/",
          "height": 265
        },
        "id": "31opgTqh3D2L",
        "outputId": "62cdf287-ed19-4c34-bf34-034c411669d9"
      },
      "source": [
        "plt.scatter(tha_d_X_test, tha_d_y_test, color='black')\n",
        "plt.plot(tha_d_X_test, tha_d_y_pred, color='blue')\n",
        "plt.show()"
      ],
      "execution_count": null,
      "outputs": [
        {
          "output_type": "display_data",
          "data": {
            "image/png": "[encoded data removed]",
            "text/plain": [
              "<Figure size 432x288 with 1 Axes>"
            ]
          },
          "metadata": {
            "needs_background": "light"
          }
        }
      ]
    },
    {
      "cell_type": "markdown",
      "metadata": {
        "id": "ZNflwXjT0ohm"
      },
      "source": [
        "## Japan"
      ]
    },
    {
      "cell_type": "markdown",
      "metadata": {
        "id": "u5bilq_PPIpZ"
      },
      "source": [
        "### Total Cases"
      ]
    },
    {
      "cell_type": "code",
      "metadata": {
        "id": "x4g7oOhl0wmo"
      },
      "source": [
        "i_list = []\n",
        "for i in range(len(iso_code_list)):\n",
        "  if iso_code_list[i] == 'JPN':\n",
        "    i_list.append(i)"
      ],
      "execution_count": null,
      "outputs": []
    },
    {
      "cell_type": "code",
      "metadata": {
        "id": "zbzObmdy05PJ"
      },
      "source": [
        "jpn_df = df.drop(index=df.index.difference(i_list))"
      ],
      "execution_count": null,
      "outputs": []
    },
    {
      "cell_type": "code",
      "metadata": {
        "colab": {
          "base_uri": "https://localhost:8080/",
          "height": 309
        },
        "id": "dkUw8uhq09Rv",
        "outputId": "06dd5cba-f272-4c7b-9568-80669974d627"
      },
      "source": [
        "jpn_df.tail()"
      ],
      "execution_count": null,
      "outputs": [
        {
          "output_type": "execute_result",
          "data": {
            "text/html": [
              "<div>\n",
              "<style scoped>\n",
              "    .dataframe tbody tr th:only-of-type {\n",
              "        vertical-align: middle;\n",
              "    }\n",
              "\n",
              "    .dataframe tbody tr th {\n",
              "        vertical-align: top;\n",
              "    }\n",
              "\n",
              "    .dataframe thead th {\n",
              "        text-align: right;\n",
              "    }\n",
              "</style>\n",
              "<table border=\"1\" class=\"dataframe\">\n",
              "  <thead>\n",
              "    <tr style=\"text-align: right;\">\n",
              "      <th></th>\n",
              "      <th>iso_code</th>\n",
              "      <th>continent</th>\n",
              "      <th>location</th>\n",
              "      <th>date</th>\n",
              "      <th>total_cases</th>\n",
              "      <th>new_cases</th>\n",
              "      <th>new_cases_smoothed</th>\n",
              "      <th>total_deaths</th>\n",
              "      <th>new_deaths</th>\n",
              "      <th>new_deaths_smoothed</th>\n",
              "      <th>total_cases_per_million</th>\n",
              "      <th>new_cases_per_million</th>\n",
              "      <th>new_cases_smoothed_per_million</th>\n",
              "      <th>total_deaths_per_million</th>\n",
              "      <th>new_deaths_per_million</th>\n",
              "      <th>new_deaths_smoothed_per_million</th>\n",
              "      <th>reproduction_rate</th>\n",
              "      <th>icu_patients</th>\n",
              "      <th>icu_patients_per_million</th>\n",
              "      <th>hosp_patients</th>\n",
              "      <th>hosp_patients_per_million</th>\n",
              "      <th>weekly_icu_admissions</th>\n",
              "      <th>weekly_icu_admissions_per_million</th>\n",
              "      <th>weekly_hosp_admissions</th>\n",
              "      <th>weekly_hosp_admissions_per_million</th>\n",
              "      <th>new_tests</th>\n",
              "      <th>total_tests</th>\n",
              "      <th>total_tests_per_thousand</th>\n",
              "      <th>new_tests_per_thousand</th>\n",
              "      <th>new_tests_smoothed</th>\n",
              "      <th>new_tests_smoothed_per_thousand</th>\n",
              "      <th>positive_rate</th>\n",
              "      <th>tests_per_case</th>\n",
              "      <th>tests_units</th>\n",
              "      <th>total_vaccinations</th>\n",
              "      <th>people_vaccinated</th>\n",
              "      <th>people_fully_vaccinated</th>\n",
              "      <th>total_boosters</th>\n",
              "      <th>new_vaccinations</th>\n",
              "      <th>new_vaccinations_smoothed</th>\n",
              "      <th>total_vaccinations_per_hundred</th>\n",
              "      <th>people_vaccinated_per_hundred</th>\n",
              "      <th>people_fully_vaccinated_per_hundred</th>\n",
              "      <th>total_boosters_per_hundred</th>\n",
              "      <th>new_vaccinations_smoothed_per_million</th>\n",
              "      <th>stringency_index</th>\n",
              "      <th>population</th>\n",
              "      <th>population_density</th>\n",
              "      <th>median_age</th>\n",
              "      <th>aged_65_older</th>\n",
              "      <th>aged_70_older</th>\n",
              "      <th>gdp_per_capita</th>\n",
              "      <th>extreme_poverty</th>\n",
              "      <th>cardiovasc_death_rate</th>\n",
              "      <th>diabetes_prevalence</th>\n",
              "      <th>female_smokers</th>\n",
              "      <th>male_smokers</th>\n",
              "      <th>handwashing_facilities</th>\n",
              "      <th>hospital_beds_per_thousand</th>\n",
              "      <th>life_expectancy</th>\n",
              "      <th>human_development_index</th>\n",
              "      <th>excess_mortality_cumulative_absolute</th>\n",
              "      <th>excess_mortality_cumulative</th>\n",
              "      <th>excess_mortality</th>\n",
              "      <th>excess_mortality_cumulative_per_million</th>\n",
              "    </tr>\n",
              "  </thead>\n",
              "  <tbody>\n",
              "    <tr>\n",
              "      <th>56037</th>\n",
              "      <td>JPN</td>\n",
              "      <td>Asia</td>\n",
              "      <td>Japan</td>\n",
              "      <td>2021-09-27</td>\n",
              "      <td>1696971.0</td>\n",
              "      <td>1147.0</td>\n",
              "      <td>2377.571</td>\n",
              "      <td>17524.0</td>\n",
              "      <td>28.0</td>\n",
              "      <td>39.571</td>\n",
              "      <td>13462.596</td>\n",
              "      <td>9.100</td>\n",
              "      <td>18.862</td>\n",
              "      <td>139.023</td>\n",
              "      <td>0.222</td>\n",
              "      <td>0.314</td>\n",
              "      <td>0.49</td>\n",
              "      <td>NaN</td>\n",
              "      <td>NaN</td>\n",
              "      <td>NaN</td>\n",
              "      <td>NaN</td>\n",
              "      <td>NaN</td>\n",
              "      <td>NaN</td>\n",
              "      <td>NaN</td>\n",
              "      <td>NaN</td>\n",
              "      <td>79290.0</td>\n",
              "      <td>23505196.0</td>\n",
              "      <td>186.474</td>\n",
              "      <td>0.629</td>\n",
              "      <td>75094.0</td>\n",
              "      <td>0.596</td>\n",
              "      <td>0.032</td>\n",
              "      <td>31.6</td>\n",
              "      <td>people tested</td>\n",
              "      <td>161057159.0</td>\n",
              "      <td>87639971.0</td>\n",
              "      <td>73417188.0</td>\n",
              "      <td>NaN</td>\n",
              "      <td>1562377.0</td>\n",
              "      <td>1134065.0</td>\n",
              "      <td>127.77</td>\n",
              "      <td>69.53</td>\n",
              "      <td>58.24</td>\n",
              "      <td>NaN</td>\n",
              "      <td>8997.0</td>\n",
              "      <td>NaN</td>\n",
              "      <td>126050796.0</td>\n",
              "      <td>347.778</td>\n",
              "      <td>48.2</td>\n",
              "      <td>27.049</td>\n",
              "      <td>18.493</td>\n",
              "      <td>39002.223</td>\n",
              "      <td>NaN</td>\n",
              "      <td>79.37</td>\n",
              "      <td>5.72</td>\n",
              "      <td>11.2</td>\n",
              "      <td>33.7</td>\n",
              "      <td>NaN</td>\n",
              "      <td>13.05</td>\n",
              "      <td>84.63</td>\n",
              "      <td>0.919</td>\n",
              "      <td>NaN</td>\n",
              "      <td>NaN</td>\n",
              "      <td>NaN</td>\n",
              "      <td>NaN</td>\n",
              "    </tr>\n",
              "    <tr>\n",
              "      <th>56038</th>\n",
              "      <td>JPN</td>\n",
              "      <td>Asia</td>\n",
              "      <td>Japan</td>\n",
              "      <td>2021-09-28</td>\n",
              "      <td>1698693.0</td>\n",
              "      <td>1722.0</td>\n",
              "      <td>2372.000</td>\n",
              "      <td>17574.0</td>\n",
              "      <td>50.0</td>\n",
              "      <td>40.000</td>\n",
              "      <td>13476.258</td>\n",
              "      <td>13.661</td>\n",
              "      <td>18.818</td>\n",
              "      <td>139.420</td>\n",
              "      <td>0.397</td>\n",
              "      <td>0.317</td>\n",
              "      <td>0.49</td>\n",
              "      <td>NaN</td>\n",
              "      <td>NaN</td>\n",
              "      <td>NaN</td>\n",
              "      <td>NaN</td>\n",
              "      <td>NaN</td>\n",
              "      <td>NaN</td>\n",
              "      <td>NaN</td>\n",
              "      <td>NaN</td>\n",
              "      <td>78473.0</td>\n",
              "      <td>23583669.0</td>\n",
              "      <td>187.097</td>\n",
              "      <td>0.623</td>\n",
              "      <td>73904.0</td>\n",
              "      <td>0.586</td>\n",
              "      <td>0.032</td>\n",
              "      <td>31.2</td>\n",
              "      <td>people tested</td>\n",
              "      <td>162577384.0</td>\n",
              "      <td>88207949.0</td>\n",
              "      <td>74369435.0</td>\n",
              "      <td>NaN</td>\n",
              "      <td>1520225.0</td>\n",
              "      <td>1086500.0</td>\n",
              "      <td>128.98</td>\n",
              "      <td>69.98</td>\n",
              "      <td>59.00</td>\n",
              "      <td>NaN</td>\n",
              "      <td>8620.0</td>\n",
              "      <td>NaN</td>\n",
              "      <td>126050796.0</td>\n",
              "      <td>347.778</td>\n",
              "      <td>48.2</td>\n",
              "      <td>27.049</td>\n",
              "      <td>18.493</td>\n",
              "      <td>39002.223</td>\n",
              "      <td>NaN</td>\n",
              "      <td>79.37</td>\n",
              "      <td>5.72</td>\n",
              "      <td>11.2</td>\n",
              "      <td>33.7</td>\n",
              "      <td>NaN</td>\n",
              "      <td>13.05</td>\n",
              "      <td>84.63</td>\n",
              "      <td>0.919</td>\n",
              "      <td>NaN</td>\n",
              "      <td>NaN</td>\n",
              "      <td>NaN</td>\n",
              "      <td>NaN</td>\n",
              "    </tr>\n",
              "    <tr>\n",
              "      <th>56039</th>\n",
              "      <td>JPN</td>\n",
              "      <td>Asia</td>\n",
              "      <td>Japan</td>\n",
              "      <td>2021-09-29</td>\n",
              "      <td>1700687.0</td>\n",
              "      <td>1994.0</td>\n",
              "      <td>2194.571</td>\n",
              "      <td>17622.0</td>\n",
              "      <td>48.0</td>\n",
              "      <td>39.143</td>\n",
              "      <td>13492.077</td>\n",
              "      <td>15.819</td>\n",
              "      <td>17.410</td>\n",
              "      <td>139.801</td>\n",
              "      <td>0.381</td>\n",
              "      <td>0.311</td>\n",
              "      <td>0.49</td>\n",
              "      <td>NaN</td>\n",
              "      <td>NaN</td>\n",
              "      <td>NaN</td>\n",
              "      <td>NaN</td>\n",
              "      <td>NaN</td>\n",
              "      <td>NaN</td>\n",
              "      <td>NaN</td>\n",
              "      <td>NaN</td>\n",
              "      <td>84946.0</td>\n",
              "      <td>23668615.0</td>\n",
              "      <td>187.770</td>\n",
              "      <td>0.674</td>\n",
              "      <td>72657.0</td>\n",
              "      <td>0.576</td>\n",
              "      <td>0.030</td>\n",
              "      <td>33.1</td>\n",
              "      <td>people tested</td>\n",
              "      <td>163738220.0</td>\n",
              "      <td>88693855.0</td>\n",
              "      <td>75044365.0</td>\n",
              "      <td>NaN</td>\n",
              "      <td>1160836.0</td>\n",
              "      <td>1138904.0</td>\n",
              "      <td>129.90</td>\n",
              "      <td>70.36</td>\n",
              "      <td>59.54</td>\n",
              "      <td>NaN</td>\n",
              "      <td>9035.0</td>\n",
              "      <td>NaN</td>\n",
              "      <td>126050796.0</td>\n",
              "      <td>347.778</td>\n",
              "      <td>48.2</td>\n",
              "      <td>27.049</td>\n",
              "      <td>18.493</td>\n",
              "      <td>39002.223</td>\n",
              "      <td>NaN</td>\n",
              "      <td>79.37</td>\n",
              "      <td>5.72</td>\n",
              "      <td>11.2</td>\n",
              "      <td>33.7</td>\n",
              "      <td>NaN</td>\n",
              "      <td>13.05</td>\n",
              "      <td>84.63</td>\n",
              "      <td>0.919</td>\n",
              "      <td>NaN</td>\n",
              "      <td>NaN</td>\n",
              "      <td>NaN</td>\n",
              "      <td>NaN</td>\n",
              "    </tr>\n",
              "    <tr>\n",
              "      <th>56040</th>\n",
              "      <td>JPN</td>\n",
              "      <td>Asia</td>\n",
              "      <td>Japan</td>\n",
              "      <td>2021-09-30</td>\n",
              "      <td>1702255.0</td>\n",
              "      <td>1568.0</td>\n",
              "      <td>1903.714</td>\n",
              "      <td>17664.0</td>\n",
              "      <td>42.0</td>\n",
              "      <td>38.143</td>\n",
              "      <td>13504.516</td>\n",
              "      <td>12.439</td>\n",
              "      <td>15.103</td>\n",
              "      <td>140.134</td>\n",
              "      <td>0.333</td>\n",
              "      <td>0.303</td>\n",
              "      <td>NaN</td>\n",
              "      <td>NaN</td>\n",
              "      <td>NaN</td>\n",
              "      <td>NaN</td>\n",
              "      <td>NaN</td>\n",
              "      <td>NaN</td>\n",
              "      <td>NaN</td>\n",
              "      <td>NaN</td>\n",
              "      <td>NaN</td>\n",
              "      <td>0.0</td>\n",
              "      <td>0.0</td>\n",
              "      <td>NaN</td>\n",
              "      <td>NaN</td>\n",
              "      <td>NaN</td>\n",
              "      <td>NaN</td>\n",
              "      <td>NaN</td>\n",
              "      <td>0.0</td>\n",
              "      <td>NaN</td>\n",
              "      <td>164859014.0</td>\n",
              "      <td>89154655.0</td>\n",
              "      <td>75704359.0</td>\n",
              "      <td>NaN</td>\n",
              "      <td>1120794.0</td>\n",
              "      <td>1185588.0</td>\n",
              "      <td>130.79</td>\n",
              "      <td>70.73</td>\n",
              "      <td>60.06</td>\n",
              "      <td>NaN</td>\n",
              "      <td>9406.0</td>\n",
              "      <td>NaN</td>\n",
              "      <td>126050796.0</td>\n",
              "      <td>347.778</td>\n",
              "      <td>48.2</td>\n",
              "      <td>27.049</td>\n",
              "      <td>18.493</td>\n",
              "      <td>39002.223</td>\n",
              "      <td>NaN</td>\n",
              "      <td>79.37</td>\n",
              "      <td>5.72</td>\n",
              "      <td>11.2</td>\n",
              "      <td>33.7</td>\n",
              "      <td>NaN</td>\n",
              "      <td>13.05</td>\n",
              "      <td>84.63</td>\n",
              "      <td>0.919</td>\n",
              "      <td>NaN</td>\n",
              "      <td>NaN</td>\n",
              "      <td>NaN</td>\n",
              "      <td>NaN</td>\n",
              "    </tr>\n",
              "    <tr>\n",
              "      <th>56041</th>\n",
              "      <td>JPN</td>\n",
              "      <td>Asia</td>\n",
              "      <td>Japan</td>\n",
              "      <td>2021-10-01</td>\n",
              "      <td>1703706.0</td>\n",
              "      <td>1451.0</td>\n",
              "      <td>1817.000</td>\n",
              "      <td>17698.0</td>\n",
              "      <td>34.0</td>\n",
              "      <td>36.571</td>\n",
              "      <td>13516.027</td>\n",
              "      <td>11.511</td>\n",
              "      <td>14.415</td>\n",
              "      <td>140.404</td>\n",
              "      <td>0.270</td>\n",
              "      <td>0.290</td>\n",
              "      <td>NaN</td>\n",
              "      <td>NaN</td>\n",
              "      <td>NaN</td>\n",
              "      <td>NaN</td>\n",
              "      <td>NaN</td>\n",
              "      <td>NaN</td>\n",
              "      <td>NaN</td>\n",
              "      <td>NaN</td>\n",
              "      <td>NaN</td>\n",
              "      <td>0.0</td>\n",
              "      <td>0.0</td>\n",
              "      <td>NaN</td>\n",
              "      <td>NaN</td>\n",
              "      <td>NaN</td>\n",
              "      <td>NaN</td>\n",
              "      <td>NaN</td>\n",
              "      <td>0.0</td>\n",
              "      <td>NaN</td>\n",
              "      <td>NaN</td>\n",
              "      <td>NaN</td>\n",
              "      <td>NaN</td>\n",
              "      <td>NaN</td>\n",
              "      <td>NaN</td>\n",
              "      <td>NaN</td>\n",
              "      <td>NaN</td>\n",
              "      <td>NaN</td>\n",
              "      <td>NaN</td>\n",
              "      <td>NaN</td>\n",
              "      <td>NaN</td>\n",
              "      <td>NaN</td>\n",
              "      <td>126050796.0</td>\n",
              "      <td>347.778</td>\n",
              "      <td>48.2</td>\n",
              "      <td>27.049</td>\n",
              "      <td>18.493</td>\n",
              "      <td>39002.223</td>\n",
              "      <td>NaN</td>\n",
              "      <td>79.37</td>\n",
              "      <td>5.72</td>\n",
              "      <td>11.2</td>\n",
              "      <td>33.7</td>\n",
              "      <td>NaN</td>\n",
              "      <td>13.05</td>\n",
              "      <td>84.63</td>\n",
              "      <td>0.919</td>\n",
              "      <td>NaN</td>\n",
              "      <td>NaN</td>\n",
              "      <td>NaN</td>\n",
              "      <td>NaN</td>\n",
              "    </tr>\n",
              "  </tbody>\n",
              "</table>\n",
              "</div>"
            ],
            "text/plain": [
              "      iso_code  ... excess_mortality_cumulative_per_million\n",
              "56037      JPN  ...                                     NaN\n",
              "56038      JPN  ...                                     NaN\n",
              "56039      JPN  ...                                     NaN\n",
              "56040      JPN  ...                                     NaN\n",
              "56041      JPN  ...                                     NaN\n",
              "\n",
              "[5 rows x 65 columns]"
            ]
          },
          "metadata": {},
          "execution_count": 56
        }
      ]
    },
    {
      "cell_type": "code",
      "metadata": {
        "id": "4OVTWoH7-loy"
      },
      "source": [
        "jpn_total_cases = list(jpn_df['total_cases'])\n",
        "jpn_y = np.array(jpn_total_cases).reshape(-1, 1)"
      ],
      "execution_count": null,
      "outputs": []
    },
    {
      "cell_type": "code",
      "metadata": {
        "id": "MrQFitAg-gCR"
      },
      "source": [
        "jpn_idx_day = [idx+1 for idx in range(len(jpn_total_cases))]\n",
        "jpn_X = np.array(jpn_idx_day).reshape(-1, 1)"
      ],
      "execution_count": null,
      "outputs": []
    },
    {
      "cell_type": "code",
      "metadata": {
        "id": "UgmyU4cp-8Zb"
      },
      "source": [
        "jpn_split = int(len(jpn_total_cases)*0.20)"
      ],
      "execution_count": null,
      "outputs": []
    },
    {
      "cell_type": "code",
      "metadata": {
        "id": "6mpXfs77-8Zb"
      },
      "source": [
        "jpn_X_train = jpn_X[:-split]\n",
        "jpn_X_test = jpn_X[-split:]\n",
        "\n",
        "jpn_y_train = jpn_y[:-split]\n",
        "jpn_y_test = jpn_y[-split:]"
      ],
      "execution_count": null,
      "outputs": []
    },
    {
      "cell_type": "markdown",
      "metadata": {
        "id": "s3iyGpfD-8Zc"
      },
      "source": [
        "#### Linear Regression"
      ]
    },
    {
      "cell_type": "code",
      "metadata": {
        "colab": {
          "base_uri": "https://localhost:8080/"
        },
        "id": "8BGjB8Ag-8Zd",
        "outputId": "2bc6e826-aee7-4b04-f3b8-cf9f48eb02c0"
      },
      "source": [
        "jpn_linear_regressor = LinearRegression() \n",
        "jpn_linear_regressor.fit(jpn_X_train, jpn_y_train)"
      ],
      "execution_count": null,
      "outputs": [
        {
          "output_type": "execute_result",
          "data": {
            "text/plain": [
              "LinearRegression(copy_X=True, fit_intercept=True, n_jobs=None, normalize=False)"
            ]
          },
          "metadata": {},
          "execution_count": 61
        }
      ]
    },
    {
      "cell_type": "code",
      "metadata": {
        "id": "Be0xXjWK-8Zd"
      },
      "source": [
        "jpn_y_pred = jpn_linear_regressor.predict(jpn_X_test)"
      ],
      "execution_count": null,
      "outputs": []
    },
    {
      "cell_type": "code",
      "metadata": {
        "colab": {
          "base_uri": "https://localhost:8080/"
        },
        "id": "AppYakx-Fwhh",
        "outputId": "044b66be-8897-49a8-81c1-ddefa34b4a2a"
      },
      "source": [
        "mean_squared_error(jpn_y_test, jpn_y_pred)"
      ],
      "execution_count": null,
      "outputs": [
        {
          "output_type": "execute_result",
          "data": {
            "text/plain": [
              "362730891833.22577"
            ]
          },
          "metadata": {},
          "execution_count": 63
        }
      ]
    },
    {
      "cell_type": "code",
      "metadata": {
        "colab": {
          "base_uri": "https://localhost:8080/",
          "height": 276
        },
        "id": "sCn73Gss-8Zd",
        "outputId": "86188dd4-4cd3-40c9-e3b5-5876729625e1"
      },
      "source": [
        "plt.scatter(jpn_X_test, jpn_y_test, color='black')\n",
        "plt.plot(jpn_X_test, jpn_y_pred, color='blue')\n",
        "plt.show()"
      ],
      "execution_count": null,
      "outputs": [
        {
          "output_type": "display_data",
          "data": {
            "image/png": "[encoded data removed]",
            "text/plain": [
              "<Figure size 432x288 with 1 Axes>"
            ]
          },
          "metadata": {
            "needs_background": "light"
          }
        }
      ]
    },
    {
      "cell_type": "markdown",
      "metadata": {
        "id": "-jITM5YcPMq7"
      },
      "source": [
        "#### Polynomial Regression"
      ]
    },
    {
      "cell_type": "code",
      "metadata": {
        "colab": {
          "base_uri": "https://localhost:8080/"
        },
        "id": "0krnmncq_XS3",
        "outputId": "aabc33a4-d356-4699-d22e-c6a5cb959420"
      },
      "source": [
        "jpn_degree = 3\n",
        "\n",
        "jpn_polyreg = make_pipeline(PolynomialFeatures(degree=jpn_degree), LinearRegression())\n",
        "jpn_polyreg.fit(jpn_X_train, jpn_y_train)"
      ],
      "execution_count": null,
      "outputs": [
        {
          "output_type": "execute_result",
          "data": {
            "text/plain": [
              "Pipeline(memory=None,\n",
              "         steps=[('polynomialfeatures',\n",
              "                 PolynomialFeatures(degree=3, include_bias=True,\n",
              "                                    interaction_only=False, order='C')),\n",
              "                ('linearregression',\n",
              "                 LinearRegression(copy_X=True, fit_intercept=True, n_jobs=None,\n",
              "                                  normalize=False))],\n",
              "         verbose=False)"
            ]
          },
          "metadata": {},
          "execution_count": 65
        }
      ]
    },
    {
      "cell_type": "code",
      "metadata": {
        "id": "Gg6q9lX0OE7A"
      },
      "source": [
        "jpn_y_pred = jpn_polyreg.predict(jpn_X_test)"
      ],
      "execution_count": null,
      "outputs": []
    },
    {
      "cell_type": "code",
      "metadata": {
        "colab": {
          "base_uri": "https://localhost:8080/"
        },
        "id": "vtprCZgwN8VA",
        "outputId": "8fd5bfc5-730e-48f1-ea62-52af4a748aa0"
      },
      "source": [
        "mean_squared_error(jpn_y_test, jpn_y_pred)"
      ],
      "execution_count": null,
      "outputs": [
        {
          "output_type": "execute_result",
          "data": {
            "text/plain": [
              "31395346760.567417"
            ]
          },
          "metadata": {},
          "execution_count": 67
        }
      ]
    },
    {
      "cell_type": "code",
      "metadata": {
        "colab": {
          "base_uri": "https://localhost:8080/",
          "height": 276
        },
        "id": "kjkDUeqK_XS4",
        "outputId": "35538587-696e-449e-c2c7-9f9b8474f451"
      },
      "source": [
        "plt.scatter(jpn_X_test, jpn_y_test, color='black')\n",
        "plt.plot(jpn_X_test, jpn_y_pred, color='blue')\n",
        "plt.show()"
      ],
      "execution_count": null,
      "outputs": [
        {
          "output_type": "display_data",
          "data": {
            "image/png": "[encoded data removed]",
            "text/plain": [
              "<Figure size 432x288 with 1 Axes>"
            ]
          },
          "metadata": {
            "needs_background": "light"
          }
        }
      ]
    },
    {
      "cell_type": "code",
      "metadata": {
        "id": "EsBBMcvCOo6b"
      },
      "source": [
        "jpn_total_cases = list(jpn_df['total_cases'])\n",
        "jpn_y = np.array(jpn_total_cases).reshape(-1, 1)"
      ],
      "execution_count": null,
      "outputs": []
    },
    {
      "cell_type": "code",
      "metadata": {
        "id": "TpqjnmgjOo6b"
      },
      "source": [
        "jpn_idx_day = [idx+1 for idx in range(len(jpn_total_cases))]\n",
        "jpn_X = np.array(jpn_idx_day).reshape(-1, 1)"
      ],
      "execution_count": null,
      "outputs": []
    },
    {
      "cell_type": "code",
      "metadata": {
        "id": "PRJRV_OsOo6c"
      },
      "source": [
        "jpn_split = int(len(jpn_total_cases)*0.20)"
      ],
      "execution_count": null,
      "outputs": []
    },
    {
      "cell_type": "code",
      "metadata": {
        "id": "WkrEES8pOo6c"
      },
      "source": [
        "jpn_X_train = jpn_X[:-split]\n",
        "jpn_X_test = jpn_X[-split:]\n",
        "\n",
        "jpn_y_train = jpn_y[:-split]\n",
        "jpn_y_test = jpn_y[-split:]"
      ],
      "execution_count": null,
      "outputs": []
    },
    {
      "cell_type": "markdown",
      "metadata": {
        "id": "OBfzdHA4PR3U"
      },
      "source": [
        "### Total Death"
      ]
    },
    {
      "cell_type": "markdown",
      "metadata": {
        "id": "KTnRQjVgOo6c"
      },
      "source": [
        "#### Linear Regression"
      ]
    },
    {
      "cell_type": "code",
      "metadata": {
        "id": "6VIpAIc-QbDO"
      },
      "source": [
        "jpn_d_total = list(jpn_df['total_deaths'])\n",
        "jpn_d_y = np.array(jpn_d_total).reshape(-1, 1)"
      ],
      "execution_count": null,
      "outputs": []
    },
    {
      "cell_type": "code",
      "metadata": {
        "id": "k-6ukrAqQbDO"
      },
      "source": [
        "jpn_d_idx_day = [idx+1 for idx in range(len(jpn_d_total))]\n",
        "jpn_d_X = np.array(jpn_d_idx_day).reshape(-1, 1)"
      ],
      "execution_count": null,
      "outputs": []
    },
    {
      "cell_type": "code",
      "metadata": {
        "id": "HWIb4ZyLQbDO"
      },
      "source": [
        "split = int(len(jpn_d_total)*0.20)"
      ],
      "execution_count": null,
      "outputs": []
    },
    {
      "cell_type": "code",
      "metadata": {
        "id": "E_-x3BsrQbDO"
      },
      "source": [
        "jpn_d_X_train = jpn_d_X[:-split]\n",
        "jpn_d_X_test = jpn_d_X[-split:]\n",
        "\n",
        "jpn_d_y_train = jpn_d_y[:-split]\n",
        "jpn_d_y_test = jpn_d_y[-split:]"
      ],
      "execution_count": null,
      "outputs": []
    },
    {
      "cell_type": "code",
      "metadata": {
        "colab": {
          "base_uri": "https://localhost:8080/"
        },
        "id": "yAiTUvq2Oo6c",
        "outputId": "fd8f8833-ef47-4d7d-a2ca-d87df65ef5e8"
      },
      "source": [
        "jpn_d_linear_regressor = LinearRegression() \n",
        "jpn_d_linear_regressor.fit(jpn_d_X_train, jpn_d_y_train)"
      ],
      "execution_count": null,
      "outputs": [
        {
          "output_type": "execute_result",
          "data": {
            "text/plain": [
              "LinearRegression(copy_X=True, fit_intercept=True, n_jobs=None, normalize=False)"
            ]
          },
          "metadata": {},
          "execution_count": 77
        }
      ]
    },
    {
      "cell_type": "code",
      "metadata": {
        "id": "UViSqj2POo6c"
      },
      "source": [
        "jpn_d_y_pred = jpn_d_linear_regressor.predict(jpn_d_X_test)"
      ],
      "execution_count": null,
      "outputs": []
    },
    {
      "cell_type": "code",
      "metadata": {
        "colab": {
          "base_uri": "https://localhost:8080/"
        },
        "id": "_WSFo4riOo6d",
        "outputId": "cf6da1a1-9a9f-46d9-fb29-3bf0ce853087"
      },
      "source": [
        "mean_squared_error(jpn_d_y_test, jpn_d_y_pred)"
      ],
      "execution_count": null,
      "outputs": [
        {
          "output_type": "execute_result",
          "data": {
            "text/plain": [
              "26371145.4505891"
            ]
          },
          "metadata": {},
          "execution_count": 79
        }
      ]
    },
    {
      "cell_type": "code",
      "metadata": {
        "colab": {
          "base_uri": "https://localhost:8080/",
          "height": 266
        },
        "id": "7wjaMAmmOo6d",
        "outputId": "cc2ef60f-d401-4292-d146-b73f6ebbc84e"
      },
      "source": [
        "plt.scatter(jpn_d_X_test, jpn_d_y_test, color='black')\n",
        "plt.plot(jpn_d_X_test, jpn_d_y_pred, color='blue')\n",
        "plt.show()"
      ],
      "execution_count": null,
      "outputs": [
        {
          "output_type": "display_data",
          "data": {
            "image/png": "[encoded data removed]",
            "text/plain": [
              "<Figure size 432x288 with 1 Axes>"
            ]
          },
          "metadata": {
            "needs_background": "light"
          }
        }
      ]
    },
    {
      "cell_type": "markdown",
      "metadata": {
        "id": "OxKDYRxyPhqi"
      },
      "source": [
        "#### Polynomial Regression"
      ]
    },
    {
      "cell_type": "code",
      "metadata": {
        "colab": {
          "base_uri": "https://localhost:8080/"
        },
        "id": "P6NbzuJoOo6d",
        "outputId": "c33e3318-d3f1-48a5-b3b6-16c701e38c75"
      },
      "source": [
        "jpn_d_degree = 4\n",
        "\n",
        "jpn_d_polyreg = make_pipeline(PolynomialFeatures(degree=jpn_d_degree), LinearRegression())\n",
        "jpn_d_polyreg.fit(jpn_d_X_train, jpn_d_y_train)"
      ],
      "execution_count": null,
      "outputs": [
        {
          "output_type": "execute_result",
          "data": {
            "text/plain": [
              "Pipeline(memory=None,\n",
              "         steps=[('polynomialfeatures',\n",
              "                 PolynomialFeatures(degree=4, include_bias=True,\n",
              "                                    interaction_only=False, order='C')),\n",
              "                ('linearregression',\n",
              "                 LinearRegression(copy_X=True, fit_intercept=True, n_jobs=None,\n",
              "                                  normalize=False))],\n",
              "         verbose=False)"
            ]
          },
          "metadata": {},
          "execution_count": 81
        }
      ]
    },
    {
      "cell_type": "code",
      "metadata": {
        "id": "lKHDMCqEOo6d"
      },
      "source": [
        "jpn_d_y_pred = jpn_d_polyreg.predict(jpn_d_X_test)"
      ],
      "execution_count": null,
      "outputs": []
    },
    {
      "cell_type": "code",
      "metadata": {
        "colab": {
          "base_uri": "https://localhost:8080/"
        },
        "id": "HCGnS8-qOo6d",
        "outputId": "adf921f4-bfb5-4b59-8539-c422a0931ad6"
      },
      "source": [
        "mean_squared_error(jpn_d_y_test, jpn_d_y_pred)"
      ],
      "execution_count": null,
      "outputs": [
        {
          "output_type": "execute_result",
          "data": {
            "text/plain": [
              "2378400.2493460774"
            ]
          },
          "metadata": {},
          "execution_count": 83
        }
      ]
    },
    {
      "cell_type": "code",
      "metadata": {
        "colab": {
          "base_uri": "https://localhost:8080/",
          "height": 265
        },
        "id": "hJhg9AUlOo6e",
        "outputId": "e26d7763-d870-4554-c676-8375c22dfdcd"
      },
      "source": [
        "plt.scatter(jpn_d_X_test, jpn_d_y_test, color='black')\n",
        "plt.plot(jpn_d_X_test, jpn_d_y_pred, color='blue')\n",
        "plt.show()"
      ],
      "execution_count": null,
      "outputs": [
        {
          "output_type": "display_data",
          "data": {
            "image/png": "[encoded data removed]",
            "text/plain": [
              "<Figure size 432x288 with 1 Axes>"
            ]
          },
          "metadata": {
            "needs_background": "light"
          }
        }
      ]
    },
    {
      "cell_type": "markdown",
      "metadata": {
        "id": "ajp-9UxuvMrq"
      },
      "source": [
        "**เขียนคำอธิบายการวิเคราะห์ได้ตามใจชอบ**\n",
        "\n",
        "**Ans** เปรียบเทียบข้อมูลของ 2 ประเทศได้แก่ ไทยและญี่ปุ่น ซึ่งในแต่ละประเทศจะทำการเปรียบเทียบ Total Cases กับ Total Death โดยเปรียบเทียบระหว่าง Linear Regression กับ Polynomial Regression จากการเปรียบเทียบพบว่าค่า MSE ของ Polynomial Regression ทั้ง 2 ประเทศมีค่าที่ตำ่กว่า Linear Regression อย่างมีนัยสำคัญ จากนั้นนำ Polynomial Regression ของทั้ง 2 ประเทศมาเปรียบเทียบกัน โดยที่ในกรณีของ Total Cases พบว่าประเทศไทยมี Degree (6) มากกว่าประเทศญี่ปุ่น (3) อาจสรุปได้ว่าประเทศไทยไม่สามารถควบคุมสถานการณ์การแพร่ระบาด Covid-19 ได้ดีเท่าญี่ปุ่น และเมื่อเทียบ Total Death กับ Total Cases โดยการใช้ degree ของ Polynomial Regression พบว่าในประเทศไทยจะได้ 6/6 และประเทศญี่ปุ่นจะได้ 4/3 ซึ่งแสดงว่าประเทศไทยสามารถรักษาผู้ป่วยให้รอดได้มากกว่าประเทศญี่ปุ่น"
      ]
    },
    {
      "cell_type": "markdown",
      "metadata": {
        "id": "AHqpEJ6Oyhz1"
      },
      "source": [
        "**เช็คให้มั่นใจว่าได้เขียนชื่อ นามสกุล และลิสต์รายชื่อเพื่อนหรือสื่อประกอบไว้ที่หัวไฟล์ตามข้อกำหนดแล้ว**"
      ]
    }
  ]
}