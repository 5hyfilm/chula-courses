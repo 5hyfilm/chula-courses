{
  "cells": [
    {
      "cell_type": "markdown",
      "metadata": {
        "id": "RFtAICBWj4D6"
      },
      "source": [
        "# Redis Assignment\n",
        "In this assignment, you will access a redis server and user redis commands to find out answers.  The redis server is at *lab.aimet.tech*.  You also have to authenticate as username 'hw' with password 'hw'.  \n",
        "\n",
        "The populated data in the redis database is similar to the example \"simple social network\" in the class.  Answer all questions in mycourseville assignment.\n",
        "\n",
        "Note that this user can only use \"read\" commands e.g. \"get\", \"lrange\", \"llen\", \"scan\", etc."
      ]
    },
    {
      "cell_type": "code",
      "execution_count": null,
      "metadata": {
        "colab": {
          "base_uri": "https://localhost:8080/"
        },
        "id": "Gqplm7ocj4D8",
        "outputId": "5d525217-3d39-495b-e41c-5bcdf3c63df8"
      },
      "outputs": [
        {
          "output_type": "stream",
          "name": "stdout",
          "text": [
            "Requirement already satisfied: redis in /usr/local/lib/python3.11/dist-packages (5.2.1)\n"
          ]
        }
      ],
      "source": [
        "# we will have to install redis in colab\n",
        "import sys\n",
        "IN_COLAB = 'google.colab' in sys.modules\n",
        "if IN_COLAB:\n",
        "  !pip install redis"
      ]
    },
    {
      "cell_type": "code",
      "execution_count": null,
      "metadata": {
        "id": "ykeGE_7uj4D9"
      },
      "outputs": [],
      "source": [
        "import redis"
      ]
    },
    {
      "cell_type": "code",
      "execution_count": null,
      "metadata": {
        "colab": {
          "base_uri": "https://localhost:8080/"
        },
        "id": "PsUJLIdpj4D-",
        "outputId": "1dfb3785-8edf-4b8c-c5b6-cf123bfc22da"
      },
      "outputs": [
        {
          "output_type": "execute_result",
          "data": {
            "text/plain": [
              "True"
            ]
          },
          "metadata": {},
          "execution_count": 29
        }
      ],
      "source": [
        "rd = redis.Redis(host='lab.aimet.tech', charset=\"utf-8\", decode_responses=True)\n",
        "rd.auth(username='hw', password='hw')"
      ]
    },
    {
      "cell_type": "markdown",
      "metadata": {
        "id": "yr3puOcUj4D-"
      },
      "source": [
        "## What is the username of user id \"600\"?"
      ]
    },
    {
      "cell_type": "code",
      "execution_count": null,
      "metadata": {
        "colab": {
          "base_uri": "https://localhost:8080/",
          "height": 35
        },
        "id": "sYBVipejj4D-",
        "outputId": "d81afdbe-d270-4456-df1d-084134913d4e"
      },
      "outputs": [
        {
          "output_type": "execute_result",
          "data": {
            "text/plain": [
              "'cautiousCrackers9'"
            ],
            "application/vnd.google.colaboratory.intrinsic+json": {
              "type": "string"
            }
          },
          "metadata": {},
          "execution_count": 30
        }
      ],
      "source": [
        "rd.get('user:600:name')"
      ]
    },
    {
      "cell_type": "markdown",
      "metadata": {
        "id": "pB7AtNFuj4D_"
      },
      "source": [
        "## What is the id of username \"excitedPie4\" ?"
      ]
    },
    {
      "cell_type": "code",
      "execution_count": null,
      "metadata": {
        "colab": {
          "base_uri": "https://localhost:8080/",
          "height": 35
        },
        "id": "iVyGzM74j4EA",
        "outputId": "1a3999c0-de1b-464c-9c58-86c3b769c06a"
      },
      "outputs": [
        {
          "output_type": "execute_result",
          "data": {
            "text/plain": [
              "'567'"
            ],
            "application/vnd.google.colaboratory.intrinsic+json": {
              "type": "string"
            }
          },
          "metadata": {},
          "execution_count": 31
        }
      ],
      "source": [
        "rd.get('username:excitedPie4')"
      ]
    },
    {
      "cell_type": "markdown",
      "metadata": {
        "id": "W4AwndaOj4EA"
      },
      "source": [
        "## How many users that \"excitedPie4\" follows ?"
      ]
    },
    {
      "cell_type": "code",
      "execution_count": null,
      "metadata": {
        "colab": {
          "base_uri": "https://localhost:8080/"
        },
        "id": "dauvdIlIj4EB",
        "outputId": "8d99605e-70a7-4649-ddca-59245896ae02"
      },
      "outputs": [
        {
          "output_type": "execute_result",
          "data": {
            "text/plain": [
              "9"
            ]
          },
          "metadata": {},
          "execution_count": 32
        }
      ],
      "source": [
        "rd.scard('user:'+rd.get(\"username:excitedPie4\")+':follows')"
      ]
    },
    {
      "cell_type": "markdown",
      "metadata": {
        "id": "3EXe6d3oj4EB"
      },
      "source": [
        "## How many users are there in the database?"
      ]
    },
    {
      "cell_type": "code",
      "execution_count": null,
      "metadata": {
        "colab": {
          "base_uri": "https://localhost:8080/"
        },
        "id": "YHfWESv1j4EC",
        "outputId": "c4f91566-3579-4639-9330-5d0ddf7410da"
      },
      "outputs": [
        {
          "output_type": "stream",
          "name": "stdout",
          "text": [
            "200\n"
          ]
        }
      ],
      "source": [
        "user_list = {user for key in rd.keys(\"user:*:follow*\") for user in rd.smembers(key)}\n",
        "number_of_users = len(user_list)\n",
        "print(number_of_users)"
      ]
    },
    {
      "cell_type": "markdown",
      "metadata": {
        "id": "OZNRqiXqj4EC"
      },
      "source": [
        "## What is the average number of follows per user?"
      ]
    },
    {
      "cell_type": "code",
      "source": [
        "followers = [rd.scard(key) for key in rd.keys('user:*:follows')]\n",
        "print(sum(followers)/number_of_users)"
      ],
      "metadata": {
        "colab": {
          "base_uri": "https://localhost:8080/"
        },
        "id": "IjM6qJoe7-ty",
        "outputId": "c9e1efc9-af6f-48ed-dd38-8fd270418ec1"
      },
      "execution_count": null,
      "outputs": [
        {
          "output_type": "stream",
          "name": "stdout",
          "text": [
            "8.605\n"
          ]
        }
      ]
    },
    {
      "cell_type": "markdown",
      "metadata": {
        "id": "EOlzNcNIj4EC"
      },
      "source": [
        "## How many users follows between 5-10 users?"
      ]
    },
    {
      "cell_type": "code",
      "execution_count": null,
      "metadata": {
        "colab": {
          "base_uri": "https://localhost:8080/"
        },
        "id": "_OmZGhMej4EC",
        "outputId": "84ed4ac8-f72c-449a-e7a3-4ba08bd073d5"
      },
      "outputs": [
        {
          "output_type": "execute_result",
          "data": {
            "text/plain": [
              "60"
            ]
          },
          "metadata": {},
          "execution_count": 42
        }
      ],
      "source": [
        "followers_count = [rd.scard(key) for key in rd.keys('user:*:follows')]\n",
        "count = 0\n",
        "for num_followers in followers_count:\n",
        "    if 5 <= num_followers <= 10:\n",
        "        count += 1\n",
        "print(count)"
      ]
    },
    {
      "cell_type": "markdown",
      "metadata": {
        "id": "TMMaqG3Vj4EC"
      },
      "source": [
        "## Which account has the most followers?"
      ]
    },
    {
      "cell_type": "code",
      "source": [
        "max_followers = 0\n",
        "max_user_id = None\n",
        "cursor = 0\n",
        "\n",
        "while True:\n",
        "    cursor, keys = rd.scan(cursor, match='user:*:followed_by')\n",
        "    for key in keys:\n",
        "        followers = rd.scard(key)\n",
        "        if followers > max_followers:\n",
        "            max_followers = followers\n",
        "            max_user_id = key.split(\":\")[1]\n",
        "    if cursor == 0:\n",
        "        break\n",
        "\n",
        "print(f\"User ID: {max_user_id}\")"
      ],
      "metadata": {
        "colab": {
          "base_uri": "https://localhost:8080/"
        },
        "id": "Hbx5d7u6-fr1",
        "outputId": "0db1fd9d-af6a-4faa-bf66-a6e18f96c713"
      },
      "execution_count": null,
      "outputs": [
        {
          "output_type": "stream",
          "name": "stdout",
          "text": [
            "User ID: 630\n"
          ]
        }
      ]
    }
  ],
  "metadata": {
    "kernelspec": {
      "display_name": "Python 3 (ipykernel)",
      "language": "python",
      "name": "python3"
    },
    "language_info": {
      "codemirror_mode": {
        "name": "ipython",
        "version": 3
      },
      "file_extension": ".py",
      "mimetype": "text/x-python",
      "name": "python",
      "nbconvert_exporter": "python",
      "pygments_lexer": "ipython3",
      "version": "3.11.5"
    },
    "toc": {
      "base_numbering": 1,
      "nav_menu": {},
      "number_sections": true,
      "sideBar": true,
      "skip_h1_title": false,
      "title_cell": "Table of Contents",
      "title_sidebar": "Contents",
      "toc_cell": false,
      "toc_position": {},
      "toc_section_display": true,
      "toc_window_display": false
    },
    "varInspector": {
      "cols": {
        "lenName": 16,
        "lenType": 16,
        "lenVar": 40
      },
      "kernels_config": {
        "python": {
          "delete_cmd_postfix": "",
          "delete_cmd_prefix": "del ",
          "library": "var_list.py",
          "varRefreshCmd": "print(var_dic_list())"
        },
        "r": {
          "delete_cmd_postfix": ") ",
          "delete_cmd_prefix": "rm(",
          "library": "var_list.r",
          "varRefreshCmd": "cat(var_dic_list()) "
        }
      },
      "types_to_exclude": [
        "module",
        "function",
        "builtin_function_or_method",
        "instance",
        "_Feature"
      ],
      "window_display": false
    },
    "colab": {
      "provenance": []
    }
  },
  "nbformat": 4,
  "nbformat_minor": 0
}