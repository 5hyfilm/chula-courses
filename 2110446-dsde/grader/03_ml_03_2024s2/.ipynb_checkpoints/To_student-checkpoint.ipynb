{
 "cells": [
  {
   "cell_type": "markdown",
   "metadata": {
    "id": "ImGOG4-2jfIh"
   },
   "source": [
    "###03_ml_03: ML3 Clustering"
   ]
  },
  {
   "cell_type": "markdown",
   "metadata": {
    "id": "f5Hbme3DjjSR"
   },
   "source": [
    "This dataset includes descriptions of hypothetical samples corresponding to 23 species of gilled mushrooms in the Agaricus and Lepiota Family Mushroom drawn from The Audubon Society Field Guide to North American Mushrooms (1981).\n",
    "\n",
    "Each species is identified as definitely edible, definitely poisonous, or of unknown edibility and not recommended. This latter class was combined with the poisonous one. The Guide clearly states that there is no simple rule for determining the credibility of a mushroom; no rule like \"leaflets three, let it be'' for Poisonous Oak and Ivy.\n"
   ]
  },
  {
   "cell_type": "markdown",
   "metadata": {
    "id": "OPfU-ExR6mWs"
   },
   "source": [
    "**Complete class MushroomClassifier from given code template below.**"
   ]
  },
  {
   "cell_type": "code",
   "execution_count": 7,
   "metadata": {},
   "outputs": [
    {
     "name": "stdout",
     "output_type": "stream",
     "text": [
      "Requirement already satisfied: scikit-learn in /opt/anaconda3/envs/dsde/lib/python3.12/site-packages (1.6.1)\n",
      "Requirement already satisfied: numpy>=1.19.5 in /opt/anaconda3/envs/dsde/lib/python3.12/site-packages (from scikit-learn) (1.26.4)\n",
      "Requirement already satisfied: scipy>=1.6.0 in /opt/anaconda3/envs/dsde/lib/python3.12/site-packages (from scikit-learn) (1.15.1)\n",
      "Requirement already satisfied: joblib>=1.2.0 in /opt/anaconda3/envs/dsde/lib/python3.12/site-packages (from scikit-learn) (1.4.2)\n",
      "Requirement already satisfied: threadpoolctl>=3.1.0 in /opt/anaconda3/envs/dsde/lib/python3.12/site-packages (from scikit-learn) (3.5.0)\n"
     ]
    }
   ],
   "source": [
    "!pip install scikit-learn"
   ]
  },
  {
   "cell_type": "code",
   "execution_count": 44,
   "metadata": {
    "id": "T1Dzneqk6qhw"
   },
   "outputs": [],
   "source": [
    "#import your other libraries here\n",
    "import pandas as pd\n",
    "import numpy as np\n",
    "from sklearn.preprocessing import StandardScaler\n",
    "from sklearn.cluster import KMeans"
   ]
  },
  {
   "cell_type": "markdown",
   "metadata": {
    "id": "g_j4hP2f7CkG"
   },
   "source": [
    "Step 1. Load ‘ModifiedEdibleMushroom.csv’ data from the “Attachment” (note: this data set has been preliminarily prepared.).\n",
    "\n",
    "Step 2. Choose edible mushrooms only.\n",
    "\n",
    "Step 3. Only the variables below have been selected to describe the distinctive characteristics of edible mushrooms:\n",
    "'cap-color-rate','stalk-color-above-ring-rate'\n",
    "\n",
    "Step 4. Provide a proper data preprocessing as follows:\n",
    "- Fill missing with mean.\n",
    "- Standardize variables with Standard Scaler.\n",
    "\n",
    "Step 5. K-means clustering with 5 clusters (n_clusters=5, random_state=0, n_init='auto').\n",
    "\n",
    "Step 6. Show the maximum centroid of 2 features ('cap-color-rate' and 'stalk-color-above-ring-rate') in 2 digits.\n",
    "\n",
    "Step 7. Convert the centroid value to the original scale, and show the minimum centroid of 2 features in 2 digits.\n"
   ]
  },
  {
   "cell_type": "code",
   "execution_count": 88,
   "metadata": {
    "id": "-fEaY6cJje-P"
   },
   "outputs": [],
   "source": [
    "class Clustering:\n",
    "    def __init__(self, file_path): # DO NOT modify this line\n",
    "        #Add other parameters if needed\n",
    "        self.file_path = file_path \n",
    "        self.df = pd.read_csv(file_path)\n",
    "\n",
    "    def Q1(self): # DO NOT modify this line\n",
    "        \"\"\"\n",
    "        Step1-4\n",
    "            1. Load the CSV file.\n",
    "            2. Choose edible mushrooms only.\n",
    "            3. Only the variables below have been selected to describe the distinctive\n",
    "               characteristics of edible mushrooms:\n",
    "               'cap-color-rate','stalk-color-above-ring-rate'\n",
    "            4. Provide a proper data preprocessing as follows:\n",
    "                - Fill missing with mean\n",
    "                - Standardize variables with Standard Scaler\n",
    "        \"\"\"\n",
    "        # remove pass and replace with you code\n",
    "        self.df = self.df[self.df['label'] == 'e']\n",
    "        \n",
    "        selected_vars = ['cap-color-rate', 'stalk-color-above-ring-rate']\n",
    "        self.df = self.df[selected_vars]\n",
    "\n",
    "        self.df.fillna(value=self.df.mean(), inplace=True)\n",
    "\n",
    "        self.scaler = StandardScaler()\n",
    "        self.scaled = self.scaler.fit_transform(self.df)\n",
    "        return self.scaled.shape\n",
    "        \n",
    "\n",
    "    def Q2(self): # DO NOT modify this line\n",
    "        \"\"\"\n",
    "        Step5-6\n",
    "            5. K-means clustering with 5 clusters (n_clusters=5, random_state=0, n_init='auto')\n",
    "            6. Show the maximum centroid of 2 features ('cap-color-rate' and 'stalk-color-above-ring-rate') in 2 digits.\n",
    "        \"\"\"\n",
    "        # remove pass and replace with you code\n",
    "        self.Q1()\n",
    "        \n",
    "        kmeans = KMeans(n_clusters=5, random_state=0, n_init='auto')\n",
    "        kmeans = kmeans.fit(self.scaled)\n",
    "\n",
    "        self.centroids = kmeans.cluster_centers_\n",
    "\n",
    "        return np.round(np.max(self.centroids, axis=0), 2)\n",
    "        \n",
    "\n",
    "    def Q3(self): # DO NOT modify this line\n",
    "        \"\"\"\n",
    "        Step7\n",
    "            7. Convert the centroid value to the original scale, and show the minimum centroid of 2 features in 2 digits.\n",
    "\n",
    "        \"\"\"\n",
    "        # remove pass and replace with you code\n",
    "        self.Q2()\n",
    "\n",
    "        self.original = self.scaler.inverse_transform(self.centroids)\n",
    "\n",
    "        return np.round(np.min(self.original, axis=0), 2)"
   ]
  },
  {
   "cell_type": "markdown",
   "metadata": {
    "id": "3_8doJpw6S5_"
   },
   "source": [
    "**Run the code below to only test that your code can work, and there is no need to submit it to the grader.**"
   ]
  },
  {
   "cell_type": "code",
   "execution_count": 91,
   "metadata": {
    "id": "1Mum9VfqjWvN"
   },
   "outputs": [
    {
     "name": "stdin",
     "output_type": "stream",
     "text": [
      " Q3\n"
     ]
    },
    {
     "name": "stdout",
     "output_type": "stream",
     "text": [
      "[1.01 1.  ]\n"
     ]
    }
   ],
   "source": [
    "def main():\n",
    "    hw = Clustering('ModifiedEdibleMushroom.csv')\n",
    "\n",
    "    # Get the input command from the user\n",
    "    input_string = input().strip()\n",
    "    \n",
    "    # Dynamically call the method on the hw object and print the result\n",
    "    input_command = f\"hw.{input_string}()\"\n",
    "    print(f\"{eval(input_command)}\")\n",
    "\n",
    "if __name__ == \"__main__\":\n",
    "    main()"
   ]
  },
  {
   "cell_type": "code",
   "execution_count": null,
   "metadata": {},
   "outputs": [],
   "source": []
  }
 ],
 "metadata": {
  "colab": {
   "provenance": []
  },
  "kernelspec": {
   "display_name": "Python [conda env:dsde]",
   "language": "python",
   "name": "conda-env-dsde-py"
  },
  "language_info": {
   "codemirror_mode": {
    "name": "ipython",
    "version": 3
   },
   "file_extension": ".py",
   "mimetype": "text/x-python",
   "name": "python",
   "nbconvert_exporter": "python",
   "pygments_lexer": "ipython3",
   "version": "3.12.8"
  }
 },
 "nbformat": 4,
 "nbformat_minor": 4
}
