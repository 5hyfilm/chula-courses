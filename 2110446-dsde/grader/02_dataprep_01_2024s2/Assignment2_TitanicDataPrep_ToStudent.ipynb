{
 "cells": [
  {
   "cell_type": "markdown",
   "metadata": {
    "id": "GSigx26OuY3K"
   },
   "source": [
    "# Assignment: Preparing Data for Analysis (Modified Titanic)"
   ]
  },
  {
   "cell_type": "markdown",
   "metadata": {
    "id": "tGEv03EbuY3R"
   },
   "source": [
    "![](https://github.com/kaopanboonyuen/2110446_DataScience_2021s2/raw/main/%20files/hw.png)"
   ]
  },
  {
   "cell_type": "markdown",
   "metadata": {
    "id": "4Y7acU90oRtB"
   },
   "source": [
    "# 1) Load data & review the data\n",
    "\n",
    "How many rows are there in the \"titanic_to_student.csv\"?"
   ]
  },
  {
   "cell_type": "code",
   "execution_count": 1,
   "metadata": {
    "executionInfo": {
     "elapsed": 525,
     "status": "ok",
     "timestamp": 1673946487442,
     "user": {
      "displayName": "Peerapon Vateekul",
      "userId": "16254659850492260409"
     },
     "user_tz": -420
    },
    "id": "ENNw4KZRuY3S"
   },
   "outputs": [],
   "source": [
    "#Import the libraries\n",
    "import numpy as np\n",
    "import pandas as pd"
   ]
  },
  {
   "cell_type": "code",
   "execution_count": 2,
   "metadata": {},
   "outputs": [],
   "source": [
    "df = pd.read_csv('titanic_to_student.csv')\n"
   ]
  },
  {
   "cell_type": "code",
   "execution_count": 3,
   "metadata": {},
   "outputs": [
    {
     "name": "stdout",
     "output_type": "stream",
     "text": [
      "<class 'pandas.core.frame.DataFrame'>\n",
      "RangeIndex: 445 entries, 0 to 444\n",
      "Data columns (total 13 columns):\n",
      " #   Column       Non-Null Count  Dtype  \n",
      "---  ------       --------------  -----  \n",
      " 0   Unnamed: 0   445 non-null    int64  \n",
      " 1   PassengerId  445 non-null    int64  \n",
      " 2   Survived     432 non-null    float64\n",
      " 3   Pclass       414 non-null    float64\n",
      " 4   Name         433 non-null    object \n",
      " 5   Sex          445 non-null    object \n",
      " 6   Age          360 non-null    float64\n",
      " 7   SibSp        428 non-null    float64\n",
      " 8   Parch        445 non-null    int64  \n",
      " 9   Ticket       426 non-null    object \n",
      " 10  Fare         445 non-null    float64\n",
      " 11  Cabin        116 non-null    object \n",
      " 12  Embarked     400 non-null    object \n",
      "dtypes: float64(5), int64(3), object(5)\n",
      "memory usage: 45.3+ KB\n"
     ]
    },
    {
     "data": {
      "text/html": [
       "<div>\n",
       "<style scoped>\n",
       "    .dataframe tbody tr th:only-of-type {\n",
       "        vertical-align: middle;\n",
       "    }\n",
       "\n",
       "    .dataframe tbody tr th {\n",
       "        vertical-align: top;\n",
       "    }\n",
       "\n",
       "    .dataframe thead th {\n",
       "        text-align: right;\n",
       "    }\n",
       "</style>\n",
       "<table border=\"1\" class=\"dataframe\">\n",
       "  <thead>\n",
       "    <tr style=\"text-align: right;\">\n",
       "      <th></th>\n",
       "      <th>Unnamed: 0</th>\n",
       "      <th>PassengerId</th>\n",
       "      <th>Survived</th>\n",
       "      <th>Pclass</th>\n",
       "      <th>Name</th>\n",
       "      <th>Sex</th>\n",
       "      <th>Age</th>\n",
       "      <th>SibSp</th>\n",
       "      <th>Parch</th>\n",
       "      <th>Ticket</th>\n",
       "      <th>Fare</th>\n",
       "      <th>Cabin</th>\n",
       "      <th>Embarked</th>\n",
       "    </tr>\n",
       "  </thead>\n",
       "  <tbody>\n",
       "    <tr>\n",
       "      <th>count</th>\n",
       "      <td>445.000000</td>\n",
       "      <td>445.000000</td>\n",
       "      <td>432.000000</td>\n",
       "      <td>414.000000</td>\n",
       "      <td>433</td>\n",
       "      <td>445</td>\n",
       "      <td>360.000000</td>\n",
       "      <td>428.000000</td>\n",
       "      <td>445.000000</td>\n",
       "      <td>426</td>\n",
       "      <td>445.000000</td>\n",
       "      <td>116</td>\n",
       "      <td>400</td>\n",
       "    </tr>\n",
       "    <tr>\n",
       "      <th>unique</th>\n",
       "      <td>NaN</td>\n",
       "      <td>NaN</td>\n",
       "      <td>NaN</td>\n",
       "      <td>NaN</td>\n",
       "      <td>433</td>\n",
       "      <td>2</td>\n",
       "      <td>NaN</td>\n",
       "      <td>NaN</td>\n",
       "      <td>NaN</td>\n",
       "      <td>359</td>\n",
       "      <td>NaN</td>\n",
       "      <td>97</td>\n",
       "      <td>3</td>\n",
       "    </tr>\n",
       "    <tr>\n",
       "      <th>top</th>\n",
       "      <td>NaN</td>\n",
       "      <td>NaN</td>\n",
       "      <td>NaN</td>\n",
       "      <td>NaN</td>\n",
       "      <td>Cumings, Mrs. John Bradley (Florence Briggs Th...</td>\n",
       "      <td>male</td>\n",
       "      <td>NaN</td>\n",
       "      <td>NaN</td>\n",
       "      <td>NaN</td>\n",
       "      <td>347082</td>\n",
       "      <td>NaN</td>\n",
       "      <td>E101</td>\n",
       "      <td>S</td>\n",
       "    </tr>\n",
       "    <tr>\n",
       "      <th>freq</th>\n",
       "      <td>NaN</td>\n",
       "      <td>NaN</td>\n",
       "      <td>NaN</td>\n",
       "      <td>NaN</td>\n",
       "      <td>1</td>\n",
       "      <td>288</td>\n",
       "      <td>NaN</td>\n",
       "      <td>NaN</td>\n",
       "      <td>NaN</td>\n",
       "      <td>4</td>\n",
       "      <td>NaN</td>\n",
       "      <td>3</td>\n",
       "      <td>285</td>\n",
       "    </tr>\n",
       "    <tr>\n",
       "      <th>mean</th>\n",
       "      <td>222.000000</td>\n",
       "      <td>446.000000</td>\n",
       "      <td>0.416667</td>\n",
       "      <td>2.265700</td>\n",
       "      <td>NaN</td>\n",
       "      <td>NaN</td>\n",
       "      <td>29.136361</td>\n",
       "      <td>0.516355</td>\n",
       "      <td>0.379775</td>\n",
       "      <td>NaN</td>\n",
       "      <td>34.238473</td>\n",
       "      <td>NaN</td>\n",
       "      <td>NaN</td>\n",
       "    </tr>\n",
       "    <tr>\n",
       "      <th>std</th>\n",
       "      <td>128.604691</td>\n",
       "      <td>257.209383</td>\n",
       "      <td>0.493578</td>\n",
       "      <td>0.853384</td>\n",
       "      <td>NaN</td>\n",
       "      <td>NaN</td>\n",
       "      <td>14.285739</td>\n",
       "      <td>1.083067</td>\n",
       "      <td>0.795282</td>\n",
       "      <td>NaN</td>\n",
       "      <td>52.825157</td>\n",
       "      <td>NaN</td>\n",
       "      <td>NaN</td>\n",
       "    </tr>\n",
       "    <tr>\n",
       "      <th>min</th>\n",
       "      <td>0.000000</td>\n",
       "      <td>2.000000</td>\n",
       "      <td>0.000000</td>\n",
       "      <td>1.000000</td>\n",
       "      <td>NaN</td>\n",
       "      <td>NaN</td>\n",
       "      <td>0.420000</td>\n",
       "      <td>0.000000</td>\n",
       "      <td>0.000000</td>\n",
       "      <td>NaN</td>\n",
       "      <td>0.000000</td>\n",
       "      <td>NaN</td>\n",
       "      <td>NaN</td>\n",
       "    </tr>\n",
       "    <tr>\n",
       "      <th>25%</th>\n",
       "      <td>111.000000</td>\n",
       "      <td>224.000000</td>\n",
       "      <td>0.000000</td>\n",
       "      <td>1.000000</td>\n",
       "      <td>NaN</td>\n",
       "      <td>NaN</td>\n",
       "      <td>20.000000</td>\n",
       "      <td>0.000000</td>\n",
       "      <td>0.000000</td>\n",
       "      <td>NaN</td>\n",
       "      <td>7.925000</td>\n",
       "      <td>NaN</td>\n",
       "      <td>NaN</td>\n",
       "    </tr>\n",
       "    <tr>\n",
       "      <th>50%</th>\n",
       "      <td>222.000000</td>\n",
       "      <td>446.000000</td>\n",
       "      <td>0.000000</td>\n",
       "      <td>3.000000</td>\n",
       "      <td>NaN</td>\n",
       "      <td>NaN</td>\n",
       "      <td>28.000000</td>\n",
       "      <td>0.000000</td>\n",
       "      <td>0.000000</td>\n",
       "      <td>NaN</td>\n",
       "      <td>15.245800</td>\n",
       "      <td>NaN</td>\n",
       "      <td>NaN</td>\n",
       "    </tr>\n",
       "    <tr>\n",
       "      <th>75%</th>\n",
       "      <td>333.000000</td>\n",
       "      <td>668.000000</td>\n",
       "      <td>1.000000</td>\n",
       "      <td>3.000000</td>\n",
       "      <td>NaN</td>\n",
       "      <td>NaN</td>\n",
       "      <td>37.250000</td>\n",
       "      <td>1.000000</td>\n",
       "      <td>0.000000</td>\n",
       "      <td>NaN</td>\n",
       "      <td>34.375000</td>\n",
       "      <td>NaN</td>\n",
       "      <td>NaN</td>\n",
       "    </tr>\n",
       "    <tr>\n",
       "      <th>max</th>\n",
       "      <td>444.000000</td>\n",
       "      <td>890.000000</td>\n",
       "      <td>1.000000</td>\n",
       "      <td>3.000000</td>\n",
       "      <td>NaN</td>\n",
       "      <td>NaN</td>\n",
       "      <td>74.000000</td>\n",
       "      <td>8.000000</td>\n",
       "      <td>5.000000</td>\n",
       "      <td>NaN</td>\n",
       "      <td>512.329200</td>\n",
       "      <td>NaN</td>\n",
       "      <td>NaN</td>\n",
       "    </tr>\n",
       "  </tbody>\n",
       "</table>\n",
       "</div>"
      ],
      "text/plain": [
       "        Unnamed: 0  PassengerId    Survived      Pclass  \\\n",
       "count   445.000000   445.000000  432.000000  414.000000   \n",
       "unique         NaN          NaN         NaN         NaN   \n",
       "top            NaN          NaN         NaN         NaN   \n",
       "freq           NaN          NaN         NaN         NaN   \n",
       "mean    222.000000   446.000000    0.416667    2.265700   \n",
       "std     128.604691   257.209383    0.493578    0.853384   \n",
       "min       0.000000     2.000000    0.000000    1.000000   \n",
       "25%     111.000000   224.000000    0.000000    1.000000   \n",
       "50%     222.000000   446.000000    0.000000    3.000000   \n",
       "75%     333.000000   668.000000    1.000000    3.000000   \n",
       "max     444.000000   890.000000    1.000000    3.000000   \n",
       "\n",
       "                                                     Name   Sex         Age  \\\n",
       "count                                                 433   445  360.000000   \n",
       "unique                                                433     2         NaN   \n",
       "top     Cumings, Mrs. John Bradley (Florence Briggs Th...  male         NaN   \n",
       "freq                                                    1   288         NaN   \n",
       "mean                                                  NaN   NaN   29.136361   \n",
       "std                                                   NaN   NaN   14.285739   \n",
       "min                                                   NaN   NaN    0.420000   \n",
       "25%                                                   NaN   NaN   20.000000   \n",
       "50%                                                   NaN   NaN   28.000000   \n",
       "75%                                                   NaN   NaN   37.250000   \n",
       "max                                                   NaN   NaN   74.000000   \n",
       "\n",
       "             SibSp       Parch  Ticket        Fare Cabin Embarked  \n",
       "count   428.000000  445.000000     426  445.000000   116      400  \n",
       "unique         NaN         NaN     359         NaN    97        3  \n",
       "top            NaN         NaN  347082         NaN  E101        S  \n",
       "freq           NaN         NaN       4         NaN     3      285  \n",
       "mean      0.516355    0.379775     NaN   34.238473   NaN      NaN  \n",
       "std       1.083067    0.795282     NaN   52.825157   NaN      NaN  \n",
       "min       0.000000    0.000000     NaN    0.000000   NaN      NaN  \n",
       "25%       0.000000    0.000000     NaN    7.925000   NaN      NaN  \n",
       "50%       0.000000    0.000000     NaN   15.245800   NaN      NaN  \n",
       "75%       1.000000    0.000000     NaN   34.375000   NaN      NaN  \n",
       "max       8.000000    5.000000     NaN  512.329200   NaN      NaN  "
      ]
     },
     "execution_count": 3,
     "metadata": {},
     "output_type": "execute_result"
    }
   ],
   "source": [
    "df.info()\n",
    "df.describe(include='all')"
   ]
  },
  {
   "cell_type": "code",
   "execution_count": 4,
   "metadata": {},
   "outputs": [
    {
     "data": {
      "text/plain": [
       "(445, 13)"
      ]
     },
     "execution_count": 4,
     "metadata": {},
     "output_type": "execute_result"
    }
   ],
   "source": [
    "df.shape"
   ]
  },
  {
   "cell_type": "code",
   "execution_count": 5,
   "metadata": {},
   "outputs": [
    {
     "data": {
      "text/plain": [
       "445"
      ]
     },
     "execution_count": 5,
     "metadata": {},
     "output_type": "execute_result"
    }
   ],
   "source": [
    "df.shape[0]"
   ]
  },
  {
   "cell_type": "markdown",
   "metadata": {
    "id": "HyyLjiviotA3"
   },
   "source": [
    "# 2) Drop unqualified variables\n",
    "\n",
    "Drop unqualified variables\n",
    "\n",
    "Drop variables with missing > 50%\n",
    "\n",
    "Drop categorical variables with flat values > 70% (variables with the same value in the same column)\n",
    "\n",
    "How many columns do we have left?\n",
    "\n",
    "\n",
    "\n"
   ]
  },
  {
   "cell_type": "code",
   "execution_count": 6,
   "metadata": {},
   "outputs": [
    {
     "name": "stdout",
     "output_type": "stream",
     "text": [
      "222.5\n"
     ]
    }
   ],
   "source": [
    "half_count = len(df)*0.5\n",
    "print(half_count)\n",
    "\n",
    "df.dropna(thresh=half_count, axis=1, inplace=True)"
   ]
  },
  {
   "cell_type": "code",
   "execution_count": 7,
   "metadata": {},
   "outputs": [
    {
     "name": "stdout",
     "output_type": "stream",
     "text": [
      "<class 'pandas.core.frame.DataFrame'>\n",
      "RangeIndex: 445 entries, 0 to 444\n",
      "Data columns (total 12 columns):\n",
      " #   Column       Non-Null Count  Dtype  \n",
      "---  ------       --------------  -----  \n",
      " 0   Unnamed: 0   445 non-null    int64  \n",
      " 1   PassengerId  445 non-null    int64  \n",
      " 2   Survived     432 non-null    float64\n",
      " 3   Pclass       414 non-null    float64\n",
      " 4   Name         433 non-null    object \n",
      " 5   Sex          445 non-null    object \n",
      " 6   Age          360 non-null    float64\n",
      " 7   SibSp        428 non-null    float64\n",
      " 8   Parch        445 non-null    int64  \n",
      " 9   Ticket       426 non-null    object \n",
      " 10  Fare         445 non-null    float64\n",
      " 11  Embarked     400 non-null    object \n",
      "dtypes: float64(5), int64(3), object(4)\n",
      "memory usage: 41.8+ KB\n"
     ]
    }
   ],
   "source": [
    "df.info()"
   ]
  },
  {
   "cell_type": "code",
   "execution_count": 8,
   "metadata": {},
   "outputs": [
    {
     "data": {
      "text/html": [
       "<div>\n",
       "<style scoped>\n",
       "    .dataframe tbody tr th:only-of-type {\n",
       "        vertical-align: middle;\n",
       "    }\n",
       "\n",
       "    .dataframe tbody tr th {\n",
       "        vertical-align: top;\n",
       "    }\n",
       "\n",
       "    .dataframe thead th {\n",
       "        text-align: right;\n",
       "    }\n",
       "</style>\n",
       "<table border=\"1\" class=\"dataframe\">\n",
       "  <thead>\n",
       "    <tr style=\"text-align: right;\">\n",
       "      <th></th>\n",
       "      <th>Unnamed: 0</th>\n",
       "      <th>PassengerId</th>\n",
       "      <th>Survived</th>\n",
       "      <th>Pclass</th>\n",
       "      <th>Age</th>\n",
       "      <th>SibSp</th>\n",
       "      <th>Parch</th>\n",
       "      <th>Fare</th>\n",
       "    </tr>\n",
       "  </thead>\n",
       "  <tbody>\n",
       "    <tr>\n",
       "      <th>count</th>\n",
       "      <td>445.000000</td>\n",
       "      <td>445.000000</td>\n",
       "      <td>432.000000</td>\n",
       "      <td>414.000000</td>\n",
       "      <td>360.000000</td>\n",
       "      <td>428.000000</td>\n",
       "      <td>445.000000</td>\n",
       "      <td>445.000000</td>\n",
       "    </tr>\n",
       "    <tr>\n",
       "      <th>mean</th>\n",
       "      <td>222.000000</td>\n",
       "      <td>446.000000</td>\n",
       "      <td>0.416667</td>\n",
       "      <td>2.265700</td>\n",
       "      <td>29.136361</td>\n",
       "      <td>0.516355</td>\n",
       "      <td>0.379775</td>\n",
       "      <td>34.238473</td>\n",
       "    </tr>\n",
       "    <tr>\n",
       "      <th>std</th>\n",
       "      <td>128.604691</td>\n",
       "      <td>257.209383</td>\n",
       "      <td>0.493578</td>\n",
       "      <td>0.853384</td>\n",
       "      <td>14.285739</td>\n",
       "      <td>1.083067</td>\n",
       "      <td>0.795282</td>\n",
       "      <td>52.825157</td>\n",
       "    </tr>\n",
       "    <tr>\n",
       "      <th>min</th>\n",
       "      <td>0.000000</td>\n",
       "      <td>2.000000</td>\n",
       "      <td>0.000000</td>\n",
       "      <td>1.000000</td>\n",
       "      <td>0.420000</td>\n",
       "      <td>0.000000</td>\n",
       "      <td>0.000000</td>\n",
       "      <td>0.000000</td>\n",
       "    </tr>\n",
       "    <tr>\n",
       "      <th>25%</th>\n",
       "      <td>111.000000</td>\n",
       "      <td>224.000000</td>\n",
       "      <td>0.000000</td>\n",
       "      <td>1.000000</td>\n",
       "      <td>20.000000</td>\n",
       "      <td>0.000000</td>\n",
       "      <td>0.000000</td>\n",
       "      <td>7.925000</td>\n",
       "    </tr>\n",
       "    <tr>\n",
       "      <th>50%</th>\n",
       "      <td>222.000000</td>\n",
       "      <td>446.000000</td>\n",
       "      <td>0.000000</td>\n",
       "      <td>3.000000</td>\n",
       "      <td>28.000000</td>\n",
       "      <td>0.000000</td>\n",
       "      <td>0.000000</td>\n",
       "      <td>15.245800</td>\n",
       "    </tr>\n",
       "    <tr>\n",
       "      <th>75%</th>\n",
       "      <td>333.000000</td>\n",
       "      <td>668.000000</td>\n",
       "      <td>1.000000</td>\n",
       "      <td>3.000000</td>\n",
       "      <td>37.250000</td>\n",
       "      <td>1.000000</td>\n",
       "      <td>0.000000</td>\n",
       "      <td>34.375000</td>\n",
       "    </tr>\n",
       "    <tr>\n",
       "      <th>max</th>\n",
       "      <td>444.000000</td>\n",
       "      <td>890.000000</td>\n",
       "      <td>1.000000</td>\n",
       "      <td>3.000000</td>\n",
       "      <td>74.000000</td>\n",
       "      <td>8.000000</td>\n",
       "      <td>5.000000</td>\n",
       "      <td>512.329200</td>\n",
       "    </tr>\n",
       "  </tbody>\n",
       "</table>\n",
       "</div>"
      ],
      "text/plain": [
       "       Unnamed: 0  PassengerId    Survived      Pclass         Age  \\\n",
       "count  445.000000   445.000000  432.000000  414.000000  360.000000   \n",
       "mean   222.000000   446.000000    0.416667    2.265700   29.136361   \n",
       "std    128.604691   257.209383    0.493578    0.853384   14.285739   \n",
       "min      0.000000     2.000000    0.000000    1.000000    0.420000   \n",
       "25%    111.000000   224.000000    0.000000    1.000000   20.000000   \n",
       "50%    222.000000   446.000000    0.000000    3.000000   28.000000   \n",
       "75%    333.000000   668.000000    1.000000    3.000000   37.250000   \n",
       "max    444.000000   890.000000    1.000000    3.000000   74.000000   \n",
       "\n",
       "            SibSp       Parch        Fare  \n",
       "count  428.000000  445.000000  445.000000  \n",
       "mean     0.516355    0.379775   34.238473  \n",
       "std      1.083067    0.795282   52.825157  \n",
       "min      0.000000    0.000000    0.000000  \n",
       "25%      0.000000    0.000000    7.925000  \n",
       "50%      0.000000    0.000000   15.245800  \n",
       "75%      1.000000    0.000000   34.375000  \n",
       "max      8.000000    5.000000  512.329200  "
      ]
     },
     "execution_count": 8,
     "metadata": {},
     "output_type": "execute_result"
    }
   ],
   "source": [
    "df.describe()"
   ]
  },
  {
   "cell_type": "code",
   "execution_count": 9,
   "metadata": {},
   "outputs": [
    {
     "data": {
      "text/plain": [
       "Index(['Unnamed: 0', 'PassengerId', 'Survived', 'Pclass', 'Name', 'Sex', 'Age',\n",
       "       'SibSp', 'Parch', 'Ticket', 'Fare', 'Embarked'],\n",
       "      dtype='object')"
      ]
     },
     "execution_count": 9,
     "metadata": {},
     "output_type": "execute_result"
    }
   ],
   "source": [
    "df.columns"
   ]
  },
  {
   "cell_type": "code",
   "execution_count": 10,
   "metadata": {},
   "outputs": [
    {
     "data": {
      "text/plain": [
       "4"
      ]
     },
     "execution_count": 10,
     "metadata": {},
     "output_type": "execute_result"
    }
   ],
   "source": [
    "df['Ticket'].value_counts().values[0]"
   ]
  },
  {
   "cell_type": "code",
   "execution_count": 11,
   "metadata": {},
   "outputs": [],
   "source": [
    "for col in df.columns:\n",
    "    if df[col].value_counts().values[0] > 0.7*df.shape[0]:\n",
    "        df.drop(col, axis=1, inplace=True)"
   ]
  },
  {
   "cell_type": "code",
   "execution_count": 12,
   "metadata": {},
   "outputs": [
    {
     "name": "stdout",
     "output_type": "stream",
     "text": [
      "<class 'pandas.core.frame.DataFrame'>\n",
      "RangeIndex: 445 entries, 0 to 444\n",
      "Data columns (total 11 columns):\n",
      " #   Column       Non-Null Count  Dtype  \n",
      "---  ------       --------------  -----  \n",
      " 0   Unnamed: 0   445 non-null    int64  \n",
      " 1   PassengerId  445 non-null    int64  \n",
      " 2   Survived     432 non-null    float64\n",
      " 3   Pclass       414 non-null    float64\n",
      " 4   Name         433 non-null    object \n",
      " 5   Sex          445 non-null    object \n",
      " 6   Age          360 non-null    float64\n",
      " 7   SibSp        428 non-null    float64\n",
      " 8   Ticket       426 non-null    object \n",
      " 9   Fare         445 non-null    float64\n",
      " 10  Embarked     400 non-null    object \n",
      "dtypes: float64(5), int64(2), object(4)\n",
      "memory usage: 38.4+ KB\n"
     ]
    }
   ],
   "source": [
    "df.info()"
   ]
  },
  {
   "cell_type": "markdown",
   "metadata": {
    "id": "3jiMfyPxo7TK"
   },
   "source": [
    "# 3) Remove all rows with missing target (the variable \"Survived\")\n",
    "\n",
    "Remove all rows with missing targets (the variable \"Survived\")\n",
    "\n",
    "How many rows do we have left?\n"
   ]
  },
  {
   "cell_type": "code",
   "execution_count": 13,
   "metadata": {},
   "outputs": [],
   "source": [
    "df.dropna(subset=['Survived'], axis=0, inplace=True)"
   ]
  },
  {
   "cell_type": "code",
   "execution_count": 14,
   "metadata": {},
   "outputs": [
    {
     "name": "stdout",
     "output_type": "stream",
     "text": [
      "<class 'pandas.core.frame.DataFrame'>\n",
      "Index: 432 entries, 0 to 444\n",
      "Data columns (total 11 columns):\n",
      " #   Column       Non-Null Count  Dtype  \n",
      "---  ------       --------------  -----  \n",
      " 0   Unnamed: 0   432 non-null    int64  \n",
      " 1   PassengerId  432 non-null    int64  \n",
      " 2   Survived     432 non-null    float64\n",
      " 3   Pclass       401 non-null    float64\n",
      " 4   Name         420 non-null    object \n",
      " 5   Sex          432 non-null    object \n",
      " 6   Age          349 non-null    float64\n",
      " 7   SibSp        415 non-null    float64\n",
      " 8   Ticket       413 non-null    object \n",
      " 9   Fare         432 non-null    float64\n",
      " 10  Embarked     388 non-null    object \n",
      "dtypes: float64(5), int64(2), object(4)\n",
      "memory usage: 40.5+ KB\n"
     ]
    }
   ],
   "source": [
    "df.info()"
   ]
  },
  {
   "cell_type": "markdown",
   "metadata": {
    "id": "LtgthZWlpDJw"
   },
   "source": [
    "# 4) Handle outliers \n",
    "Handle outliers\n",
    "\n",
    "For the variable “Fare”, replace outlier values with the boundary values\n",
    "\n",
    "If value < (Q1 - 1.5IQR), replace with (Q1 - 1.5IQR)\n",
    "\n",
    "If value > (Q3 + 1.5IQR), replace with (Q3 + 1.5IQR)\n",
    "\n",
    "What is the average (mean) of “Fare” after replacing the outliers (round 2 decimal points)?\n",
    "\n",
    "Hint: Use function round(_, 2)\n",
    "\n"
   ]
  },
  {
   "cell_type": "code",
   "execution_count": 15,
   "metadata": {},
   "outputs": [],
   "source": [
    "Q1 = df['Fare'].quantile(0.25)\n",
    "Q3 = df['Fare'].quantile(0.75)\n",
    "iqr = Q3 - Q1\n",
    "\n",
    "threshold = 1.5\n",
    "\n",
    "lower_bound = Q1 - threshold * iqr\n",
    "upper_bound = Q3 + threshold * iqr\n",
    "\n",
    "df['Fare'] = df['Fare'].apply(lambda x: lower_bound if x < lower_bound \n",
    "                      else upper_bound if x > upper_bound else x)\n",
    "\n",
    "# return round(df['Fare'].mean(), 2)"
   ]
  },
  {
   "cell_type": "markdown",
   "metadata": {
    "id": "wkZZEjXHpYS1"
   },
   "source": [
    "# 5) Impute missing value\n",
    "\n",
    "Impute missing value\n",
    "\n",
    "For number type column, impute missing values with mean\n",
    "\n",
    "What is the average (mean) of “Age” after imputing the missing values (round 2 decimal points)?\n",
    "\n",
    "Hint: Use function round(_, 2)\n"
   ]
  },
  {
   "cell_type": "code",
   "execution_count": 16,
   "metadata": {},
   "outputs": [
    {
     "data": {
      "text/plain": [
       "Unnamed: 0      0\n",
       "PassengerId     0\n",
       "Survived        0\n",
       "Pclass         31\n",
       "Name           12\n",
       "Sex             0\n",
       "Age            83\n",
       "SibSp          17\n",
       "Ticket         19\n",
       "Fare            0\n",
       "Embarked       44\n",
       "dtype: int64"
      ]
     },
     "execution_count": 16,
     "metadata": {},
     "output_type": "execute_result"
    }
   ],
   "source": [
    "df.isnull().sum()"
   ]
  },
  {
   "cell_type": "code",
   "execution_count": 17,
   "metadata": {},
   "outputs": [],
   "source": [
    "import numpy as np\n",
    "from sklearn.impute import SimpleImputer\n",
    "\n",
    "num_col = ['Age', 'SibSp', 'Fare']\n",
    "text_col = ['Pclass', 'Name', 'Ticket', 'Embarked']\n",
    "\n",
    "numImp = SimpleImputer(missing_values=np.NaN, strategy='mean')  \n",
    "textImp = SimpleImputer(missing_values=np.NaN, strategy='most_frequent') \n",
    "df[num_col] = numImp.fit_transform(df[num_col])\n",
    "df[text_col] = textImp.fit_transform(df[text_col])\n",
    "\n"
   ]
  },
  {
   "cell_type": "code",
   "execution_count": 18,
   "metadata": {},
   "outputs": [
    {
     "data": {
      "text/plain": [
       "Unnamed: 0     0\n",
       "PassengerId    0\n",
       "Survived       0\n",
       "Pclass         0\n",
       "Name           0\n",
       "Sex            0\n",
       "Age            0\n",
       "SibSp          0\n",
       "Ticket         0\n",
       "Fare           0\n",
       "Embarked       0\n",
       "dtype: int64"
      ]
     },
     "execution_count": 18,
     "metadata": {},
     "output_type": "execute_result"
    }
   ],
   "source": [
    "df.isnull().sum()"
   ]
  },
  {
   "cell_type": "code",
   "execution_count": 19,
   "metadata": {},
   "outputs": [
    {
     "data": {
      "text/plain": [
       "29.33"
      ]
     },
     "execution_count": 19,
     "metadata": {},
     "output_type": "execute_result"
    }
   ],
   "source": [
    "round(df['Age'].mean(), 2)"
   ]
  },
  {
   "cell_type": "markdown",
   "metadata": {
    "id": "FCR7DNJgt4Cg"
   },
   "source": [
    "# 6) Convert categorical to numeric values\n",
    "\n",
    "Convert categorical to numeric values\n",
    "\n",
    "For the variable “Embarked”, perform the dummy coding.\n",
    "\n",
    "What is the average (mean) of “Embarked_Q” after performing dummy coding (round 2 decimal points)?\n",
    "\n",
    "Hint: Use function round(_, 2)\n",
    "\n"
   ]
  },
  {
   "cell_type": "code",
   "execution_count": 21,
   "metadata": {},
   "outputs": [],
   "source": [
    "# from sklearn.preprocessing import OneHotEncoder\n",
    "\n",
    "# enc = OneHotEncoder(handle_unknown='ignore')\n",
    "\n",
    "# nominal_columns = ['Embarked']\n",
    "\n",
    "# enc_df = pd.DataFrame(enc.fit_transform(df[nominal_columns]).toarray())"
   ]
  },
  {
   "cell_type": "code",
   "execution_count": 23,
   "metadata": {},
   "outputs": [],
   "source": [
    "embarked_dummies = pd.get_dummies(df['Embarked'], prefix='Embarked')\n",
    "df = pd.concat([df, embarked_dummies], axis=1)"
   ]
  },
  {
   "cell_type": "code",
   "execution_count": 24,
   "metadata": {},
   "outputs": [
    {
     "data": {
      "text/html": [
       "<div>\n",
       "<style scoped>\n",
       "    .dataframe tbody tr th:only-of-type {\n",
       "        vertical-align: middle;\n",
       "    }\n",
       "\n",
       "    .dataframe tbody tr th {\n",
       "        vertical-align: top;\n",
       "    }\n",
       "\n",
       "    .dataframe thead th {\n",
       "        text-align: right;\n",
       "    }\n",
       "</style>\n",
       "<table border=\"1\" class=\"dataframe\">\n",
       "  <thead>\n",
       "    <tr style=\"text-align: right;\">\n",
       "      <th></th>\n",
       "      <th>Unnamed: 0</th>\n",
       "      <th>PassengerId</th>\n",
       "      <th>Survived</th>\n",
       "      <th>Pclass</th>\n",
       "      <th>Name</th>\n",
       "      <th>Sex</th>\n",
       "      <th>Age</th>\n",
       "      <th>SibSp</th>\n",
       "      <th>Ticket</th>\n",
       "      <th>Fare</th>\n",
       "      <th>Embarked</th>\n",
       "      <th>Embarked_C</th>\n",
       "      <th>Embarked_Q</th>\n",
       "      <th>Embarked_S</th>\n",
       "    </tr>\n",
       "  </thead>\n",
       "  <tbody>\n",
       "    <tr>\n",
       "      <th>0</th>\n",
       "      <td>0</td>\n",
       "      <td>2</td>\n",
       "      <td>1.0</td>\n",
       "      <td>1.0</td>\n",
       "      <td>Cumings, Mrs. John Bradley (Florence Briggs Th...</td>\n",
       "      <td>female</td>\n",
       "      <td>38.000000</td>\n",
       "      <td>1.0</td>\n",
       "      <td>PC 17599</td>\n",
       "      <td>71.2833</td>\n",
       "      <td>C</td>\n",
       "      <td>True</td>\n",
       "      <td>False</td>\n",
       "      <td>False</td>\n",
       "    </tr>\n",
       "    <tr>\n",
       "      <th>1</th>\n",
       "      <td>1</td>\n",
       "      <td>4</td>\n",
       "      <td>1.0</td>\n",
       "      <td>1.0</td>\n",
       "      <td>Futrelle, Mrs. Jacques Heath (Lily May Peel)</td>\n",
       "      <td>female</td>\n",
       "      <td>35.000000</td>\n",
       "      <td>1.0</td>\n",
       "      <td>113803</td>\n",
       "      <td>53.1000</td>\n",
       "      <td>S</td>\n",
       "      <td>False</td>\n",
       "      <td>False</td>\n",
       "      <td>True</td>\n",
       "    </tr>\n",
       "    <tr>\n",
       "      <th>2</th>\n",
       "      <td>2</td>\n",
       "      <td>6</td>\n",
       "      <td>0.0</td>\n",
       "      <td>3.0</td>\n",
       "      <td>Moran, Mr. James</td>\n",
       "      <td>male</td>\n",
       "      <td>29.332636</td>\n",
       "      <td>0.0</td>\n",
       "      <td>330877</td>\n",
       "      <td>8.4583</td>\n",
       "      <td>Q</td>\n",
       "      <td>False</td>\n",
       "      <td>True</td>\n",
       "      <td>False</td>\n",
       "    </tr>\n",
       "    <tr>\n",
       "      <th>3</th>\n",
       "      <td>3</td>\n",
       "      <td>8</td>\n",
       "      <td>0.0</td>\n",
       "      <td>3.0</td>\n",
       "      <td>Palsson, Master. Gosta Leonard</td>\n",
       "      <td>male</td>\n",
       "      <td>2.000000</td>\n",
       "      <td>3.0</td>\n",
       "      <td>349909</td>\n",
       "      <td>21.0750</td>\n",
       "      <td>S</td>\n",
       "      <td>False</td>\n",
       "      <td>False</td>\n",
       "      <td>True</td>\n",
       "    </tr>\n",
       "    <tr>\n",
       "      <th>4</th>\n",
       "      <td>4</td>\n",
       "      <td>10</td>\n",
       "      <td>1.0</td>\n",
       "      <td>2.0</td>\n",
       "      <td>Nasser, Mrs. Nicholas (Adele Achem)</td>\n",
       "      <td>female</td>\n",
       "      <td>14.000000</td>\n",
       "      <td>1.0</td>\n",
       "      <td>237736</td>\n",
       "      <td>30.0708</td>\n",
       "      <td>C</td>\n",
       "      <td>True</td>\n",
       "      <td>False</td>\n",
       "      <td>False</td>\n",
       "    </tr>\n",
       "  </tbody>\n",
       "</table>\n",
       "</div>"
      ],
      "text/plain": [
       "   Unnamed: 0  PassengerId  Survived Pclass  \\\n",
       "0           0            2       1.0    1.0   \n",
       "1           1            4       1.0    1.0   \n",
       "2           2            6       0.0    3.0   \n",
       "3           3            8       0.0    3.0   \n",
       "4           4           10       1.0    2.0   \n",
       "\n",
       "                                                Name     Sex        Age  \\\n",
       "0  Cumings, Mrs. John Bradley (Florence Briggs Th...  female  38.000000   \n",
       "1       Futrelle, Mrs. Jacques Heath (Lily May Peel)  female  35.000000   \n",
       "2                                   Moran, Mr. James    male  29.332636   \n",
       "3                     Palsson, Master. Gosta Leonard    male   2.000000   \n",
       "4                Nasser, Mrs. Nicholas (Adele Achem)  female  14.000000   \n",
       "\n",
       "   SibSp    Ticket     Fare Embarked  Embarked_C  Embarked_Q  Embarked_S  \n",
       "0    1.0  PC 17599  71.2833        C        True       False       False  \n",
       "1    1.0    113803  53.1000        S       False       False        True  \n",
       "2    0.0    330877   8.4583        Q       False        True       False  \n",
       "3    3.0    349909  21.0750        S       False       False        True  \n",
       "4    1.0    237736  30.0708        C        True       False       False  "
      ]
     },
     "execution_count": 24,
     "metadata": {},
     "output_type": "execute_result"
    }
   ],
   "source": [
    "df.head()"
   ]
  },
  {
   "cell_type": "code",
   "execution_count": 25,
   "metadata": {},
   "outputs": [
    {
     "data": {
      "text/plain": [
       "0.06"
      ]
     },
     "execution_count": 25,
     "metadata": {},
     "output_type": "execute_result"
    }
   ],
   "source": [
    "round(df['Embarked_Q'].mean(), 2)"
   ]
  },
  {
   "cell_type": "markdown",
   "metadata": {
    "id": "XZAhqMgst93r"
   },
   "source": [
    "# 7) Partition data\n",
    "Split train/test split with stratification using 70%:30% and random seed with 123\n",
    "\n",
    "Show a proportion between survived (1) and died (0) in all data sets (total data, train, test)\n",
    "\n",
    "What is the proportion of survivors (survived = 1) in the training data (round 2 decimal points)?\n",
    "\n",
    "Hint: Use function round(_, 2), and train_test_split() from sklearn.model_selection\n",
    "\n",
    "\n"
   ]
  },
  {
   "cell_type": "code",
   "execution_count": 26,
   "metadata": {},
   "outputs": [],
   "source": [
    "from sklearn.model_selection import train_test_split\n",
    "\n",
    "X = df\n",
    "y = df.pop('Survived')\n",
    "\n",
    "X_train,X_test,y_train,y_test = train_test_split(X,y,stratify=y,test_size=0.30, random_state=123)"
   ]
  },
  {
   "cell_type": "code",
   "execution_count": 38,
   "metadata": {},
   "outputs": [
    {
     "data": {
      "text/plain": [
       "Survived\n",
       "0.0    0.58\n",
       "1.0    0.42\n",
       "Name: count, dtype: float64"
      ]
     },
     "execution_count": 38,
     "metadata": {},
     "output_type": "execute_result"
    }
   ],
   "source": [
    "round(y_train.value_counts() / y_train.shape[0], 2)"
   ]
  },
  {
   "cell_type": "code",
   "execution_count": 39,
   "metadata": {},
   "outputs": [
    {
     "data": {
      "text/plain": [
       "0.42"
      ]
     },
     "execution_count": 39,
     "metadata": {},
     "output_type": "execute_result"
    }
   ],
   "source": [
    "round(y_train.value_counts() / y_train.shape[0], 2)[1]"
   ]
  },
  {
   "cell_type": "code",
   "execution_count": null,
   "metadata": {},
   "outputs": [],
   "source": []
  }
 ],
 "metadata": {
  "colab": {
   "provenance": [],
   "toc_visible": true
  },
  "kernelspec": {
   "display_name": "dsde",
   "language": "python",
   "name": "python3"
  },
  "language_info": {
   "codemirror_mode": {
    "name": "ipython",
    "version": 3
   },
   "file_extension": ".py",
   "mimetype": "text/x-python",
   "name": "python",
   "nbconvert_exporter": "python",
   "pygments_lexer": "ipython3",
   "version": "3.12.8"
  },
  "toc": {
   "base_numbering": 1,
   "nav_menu": {},
   "number_sections": true,
   "sideBar": true,
   "skip_h1_title": false,
   "title_cell": "Table of Contents",
   "title_sidebar": "Contents",
   "toc_cell": false,
   "toc_position": {},
   "toc_section_display": true,
   "toc_window_display": false
  }
 },
 "nbformat": 4,
 "nbformat_minor": 0
}
