{
 "cells": [
  {
   "cell_type": "code",
   "execution_count": 3,
   "id": "c6ea627c-dcfd-4944-a14e-bf02bf8b8f35",
   "metadata": {},
   "outputs": [],
   "source": [
    "import pandas as pd\n",
    "\n",
    "# โหลดข้อมูลจากไฟล์เดิม\n",
    "df = pd.read_csv(\"y_pred_compared.csv\")\n",
    "\n",
    "# ตัดให้เหลือ 100 แถวแรก\n",
    "df = df.head(100)\n",
    "\n",
    "# บันทึกทับไฟล์เดิม\n",
    "df.to_csv(\"y_pred_compared.csv\", index=False)\n"
   ]
  },
  {
   "cell_type": "code",
   "execution_count": null,
   "id": "2b78ab30-e527-4c4b-aa99-4e44c1bf6eee",
   "metadata": {},
   "outputs": [],
   "source": []
  }
 ],
 "metadata": {
  "kernelspec": {
   "display_name": "Python [conda env:base] *",
   "language": "python",
   "name": "conda-base-py"
  },
  "language_info": {
   "codemirror_mode": {
    "name": "ipython",
    "version": 3
   },
   "file_extension": ".py",
   "mimetype": "text/x-python",
   "name": "python",
   "nbconvert_exporter": "python",
   "pygments_lexer": "ipython3",
   "version": "3.12.7"
  }
 },
 "nbformat": 4,
 "nbformat_minor": 5
}
